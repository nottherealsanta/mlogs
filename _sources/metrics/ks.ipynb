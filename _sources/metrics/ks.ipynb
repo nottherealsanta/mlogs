{
 "cells": [
  {
   "cell_type": "markdown",
   "id": "a065db92-4fe8-4a2e-b5f6-830b5c21aa78",
   "metadata": {},
   "source": [
    "# KS"
   ]
  },
  {
   "cell_type": "markdown",
   "id": "ad3f61e8-7d92-4a78-ba27-9ce14165f470",
   "metadata": {},
   "source": [
    "Kolmogorov-Smirnov metric (ks metric) is derived from K-S test. K-S test measures the distance between two plotted cumulative distribution functions (CDF).   \n",
    "To use it as a metric for classification machine learning problem we see the distance of plotted CDF of target and non-target.  \n",
    "The model that produces the greatest amount of separability between target and non-target distribution would be considered the better model.  \n"
   ]
  },
  {
   "cell_type": "markdown",
   "id": "aaee67fd-df9f-4c08-8a6c-73782b5aa69a",
   "metadata": {},
   "source": [
    "KS metric ranges from 0 to 100."
   ]
  },
  {
   "cell_type": "markdown",
   "id": "5ca14d37-acba-4dfa-ae69-df2c9503a4a0",
   "metadata": {},
   "source": [
    "## Why KS?\n",
    "\n",
    "- KS is scale-invariant. It measures how well predictions are ranked, rather than their absolute values.\n",
    "\n",
    "- KS is threshold-invariant. It measures the quality of the model's predictions irrespective of what classification threshold is chosen."
   ]
  },
  {
   "cell_type": "markdown",
   "id": "8faa9c31-facd-4f28-879f-0aaad8efef63",
   "metadata": {},
   "source": [
    "## KS Table"
   ]
  },
  {
   "cell_type": "code",
   "execution_count": 1,
   "id": "88234fee-6810-422c-af27-dfe68cf93241",
   "metadata": {
    "tags": [
     "hide-cell"
    ]
   },
   "outputs": [],
   "source": [
    "import numpy as np\n",
    "import pandas as pd\n",
    "from matplotlib import pyplot as plt\n",
    "from sklearn.datasets import make_classification\n",
    "from sklearn.linear_model import LogisticRegression\n",
    "from sklearn.metrics import accuracy_score, f1_score, roc_auc_score\n",
    "from sklearn.model_selection import train_test_split"
   ]
  },
  {
   "cell_type": "code",
   "execution_count": 2,
   "id": "2d7a5149-2724-4b66-ab44-cbc92328a43a",
   "metadata": {
    "tags": [
     "hide-cell"
    ]
   },
   "outputs": [
    {
     "name": "stdout",
     "output_type": "stream",
     "text": [
      "X_train.shape = (670, 20)\n",
      "y_train.shape = (670,)\n",
      "X_test.shape = (330, 20)\n",
      "y_test.shape = (330,)\n",
      "y_train_pred.shape = (670,)\n",
      "y_test_pred.shape = (330,)\n"
     ]
    }
   ],
   "source": [
    "# sample dataset and sample model\n",
    "\n",
    "# make sample dataset\n",
    "X, y = make_classification(\n",
    "    n_samples=1000, class_sep=0.3, random_state=0\n",
    ")  # 1000 samples with 20 features\n",
    "\n",
    "# split train-test\n",
    "X_train, X_test, y_train, y_test = train_test_split(\n",
    "    X, y, test_size=0.33, random_state=42\n",
    ")\n",
    "\n",
    "# simple Logistic Model\n",
    "model = LogisticRegression(random_state=23)\n",
    "model.fit(X_train, y_train)\n",
    "\n",
    "# predictions\n",
    "y_train_pred = model.predict_proba(X_train)[:, 1]\n",
    "y_test_pred = model.predict_proba(X_test)[:, 1]\n",
    "print(f\"{X_train.shape = }\\n{y_train.shape = }\")\n",
    "print(f\"{X_test.shape = }\\n{y_test.shape = }\")\n",
    "print(f\"{y_train_pred.shape = }\\n{y_test_pred.shape = }\")"
   ]
  },
  {
   "cell_type": "markdown",
   "id": "cc5d67b8-ce1a-454a-af16-0df8b0d2831f",
   "metadata": {
    "tags": []
   },
   "source": [
    "### Group into Deciles"
   ]
  },
  {
   "cell_type": "code",
   "execution_count": 3,
   "id": "e3ff40dc-2f8e-4a8d-b440-6b67a2f47c23",
   "metadata": {},
   "outputs": [
    {
     "data": {
      "text/html": [
       "<div>\n",
       "<style scoped>\n",
       "    .dataframe tbody tr th:only-of-type {\n",
       "        vertical-align: middle;\n",
       "    }\n",
       "\n",
       "    .dataframe tbody tr th {\n",
       "        vertical-align: top;\n",
       "    }\n",
       "\n",
       "    .dataframe thead th {\n",
       "        text-align: right;\n",
       "    }\n",
       "</style>\n",
       "<table border=\"1\" class=\"dataframe\">\n",
       "  <thead>\n",
       "    <tr style=\"text-align: right;\">\n",
       "      <th></th>\n",
       "      <th>score</th>\n",
       "      <th>class_0</th>\n",
       "      <th>class_1</th>\n",
       "      <th>bucket</th>\n",
       "    </tr>\n",
       "  </thead>\n",
       "  <tbody>\n",
       "    <tr>\n",
       "      <th>0</th>\n",
       "      <td>0.314387</td>\n",
       "      <td>1</td>\n",
       "      <td>0</td>\n",
       "      <td>1</td>\n",
       "    </tr>\n",
       "    <tr>\n",
       "      <th>1</th>\n",
       "      <td>0.131233</td>\n",
       "      <td>1</td>\n",
       "      <td>0</td>\n",
       "      <td>0</td>\n",
       "    </tr>\n",
       "    <tr>\n",
       "      <th>2</th>\n",
       "      <td>0.159981</td>\n",
       "      <td>0</td>\n",
       "      <td>1</td>\n",
       "      <td>0</td>\n",
       "    </tr>\n",
       "    <tr>\n",
       "      <th>3</th>\n",
       "      <td>0.350067</td>\n",
       "      <td>1</td>\n",
       "      <td>0</td>\n",
       "      <td>2</td>\n",
       "    </tr>\n",
       "    <tr>\n",
       "      <th>4</th>\n",
       "      <td>0.830346</td>\n",
       "      <td>0</td>\n",
       "      <td>1</td>\n",
       "      <td>8</td>\n",
       "    </tr>\n",
       "  </tbody>\n",
       "</table>\n",
       "</div>"
      ],
      "text/plain": [
       "      score  class_0  class_1 bucket\n",
       "0  0.314387        1        0      1\n",
       "1  0.131233        1        0      0\n",
       "2  0.159981        0        1      0\n",
       "3  0.350067        1        0      2\n",
       "4  0.830346        0        1      8"
      ]
     },
     "execution_count": 3,
     "metadata": {},
     "output_type": "execute_result"
    }
   ],
   "source": [
    "df = pd.DataFrame()\n",
    "df[\"score\"] = y_test_pred\n",
    "# one hot encoding the dependent variable\n",
    "df[\"class_0\"] = 1 - y_test\n",
    "df[\"class_1\"] = y_test\n",
    "\n",
    "# bucket/bin prediction after ordering them\n",
    "df[\"bucket\"] = pd.qcut(df.score.rank(method=\"first\"), 10, labels=list(range(0, 10, 1)))\n",
    "\n",
    "df.head()"
   ]
  },
  {
   "cell_type": "markdown",
   "id": "f4e9b4da-0434-4680-947e-6b520971422b",
   "metadata": {},
   "source": [
    "### Target Distribution"
   ]
  },
  {
   "cell_type": "code",
   "execution_count": 4,
   "id": "cf753454-ede4-4bb8-8f24-00b24a2869f3",
   "metadata": {},
   "outputs": [
    {
     "data": {
      "text/html": [
       "<div>\n",
       "<style scoped>\n",
       "    .dataframe tbody tr th:only-of-type {\n",
       "        vertical-align: middle;\n",
       "    }\n",
       "\n",
       "    .dataframe tbody tr th {\n",
       "        vertical-align: top;\n",
       "    }\n",
       "\n",
       "    .dataframe thead th {\n",
       "        text-align: right;\n",
       "    }\n",
       "</style>\n",
       "<table border=\"1\" class=\"dataframe\">\n",
       "  <thead>\n",
       "    <tr style=\"text-align: right;\">\n",
       "      <th></th>\n",
       "      <th>min_score</th>\n",
       "      <th>max_score</th>\n",
       "      <th>n_class_0</th>\n",
       "      <th>n_class_1</th>\n",
       "      <th>n_total</th>\n",
       "    </tr>\n",
       "  </thead>\n",
       "  <tbody>\n",
       "    <tr>\n",
       "      <th>0</th>\n",
       "      <td>0.035500</td>\n",
       "      <td>0.224967</td>\n",
       "      <td>21</td>\n",
       "      <td>12</td>\n",
       "      <td>33</td>\n",
       "    </tr>\n",
       "    <tr>\n",
       "      <th>1</th>\n",
       "      <td>0.226262</td>\n",
       "      <td>0.327676</td>\n",
       "      <td>27</td>\n",
       "      <td>6</td>\n",
       "      <td>33</td>\n",
       "    </tr>\n",
       "    <tr>\n",
       "      <th>2</th>\n",
       "      <td>0.328646</td>\n",
       "      <td>0.377685</td>\n",
       "      <td>19</td>\n",
       "      <td>14</td>\n",
       "      <td>33</td>\n",
       "    </tr>\n",
       "    <tr>\n",
       "      <th>3</th>\n",
       "      <td>0.381554</td>\n",
       "      <td>0.437930</td>\n",
       "      <td>25</td>\n",
       "      <td>8</td>\n",
       "      <td>33</td>\n",
       "    </tr>\n",
       "    <tr>\n",
       "      <th>4</th>\n",
       "      <td>0.442221</td>\n",
       "      <td>0.491976</td>\n",
       "      <td>23</td>\n",
       "      <td>10</td>\n",
       "      <td>33</td>\n",
       "    </tr>\n",
       "    <tr>\n",
       "      <th>5</th>\n",
       "      <td>0.495512</td>\n",
       "      <td>0.575724</td>\n",
       "      <td>17</td>\n",
       "      <td>16</td>\n",
       "      <td>33</td>\n",
       "    </tr>\n",
       "    <tr>\n",
       "      <th>6</th>\n",
       "      <td>0.577944</td>\n",
       "      <td>0.671211</td>\n",
       "      <td>9</td>\n",
       "      <td>24</td>\n",
       "      <td>33</td>\n",
       "    </tr>\n",
       "    <tr>\n",
       "      <th>7</th>\n",
       "      <td>0.671344</td>\n",
       "      <td>0.757899</td>\n",
       "      <td>6</td>\n",
       "      <td>27</td>\n",
       "      <td>33</td>\n",
       "    </tr>\n",
       "    <tr>\n",
       "      <th>8</th>\n",
       "      <td>0.765076</td>\n",
       "      <td>0.874251</td>\n",
       "      <td>4</td>\n",
       "      <td>29</td>\n",
       "      <td>33</td>\n",
       "    </tr>\n",
       "    <tr>\n",
       "      <th>9</th>\n",
       "      <td>0.874542</td>\n",
       "      <td>0.988560</td>\n",
       "      <td>7</td>\n",
       "      <td>26</td>\n",
       "      <td>33</td>\n",
       "    </tr>\n",
       "  </tbody>\n",
       "</table>\n",
       "</div>"
      ],
      "text/plain": [
       "   min_score  max_score  n_class_0  n_class_1  n_total\n",
       "0   0.035500   0.224967         21         12       33\n",
       "1   0.226262   0.327676         27          6       33\n",
       "2   0.328646   0.377685         19         14       33\n",
       "3   0.381554   0.437930         25          8       33\n",
       "4   0.442221   0.491976         23         10       33\n",
       "5   0.495512   0.575724         17         16       33\n",
       "6   0.577944   0.671211          9         24       33\n",
       "7   0.671344   0.757899          6         27       33\n",
       "8   0.765076   0.874251          4         29       33\n",
       "9   0.874542   0.988560          7         26       33"
      ]
     },
     "execution_count": 4,
     "metadata": {},
     "output_type": "execute_result"
    }
   ],
   "source": [
    "grouped = df.groupby(\"bucket\", as_index=False)\n",
    "\n",
    "ks_table = pd.DataFrame()\n",
    "ks_table[\"min_score\"] = grouped.min().score\n",
    "ks_table[\"max_score\"] = grouped.max().score\n",
    "ks_table[\"n_class_0\"] = grouped.sum().class_0\n",
    "ks_table[\"n_class_1\"] = grouped.sum().class_1\n",
    "ks_table[\"n_total\"] = ks_table.n_class_0 + ks_table.n_class_1\n",
    "\n",
    "ks_table"
   ]
  },
  {
   "cell_type": "markdown",
   "id": "4b4c7a1f-949d-4900-a887-f52d43317dee",
   "metadata": {},
   "source": [
    "```{note}\n",
    "Sometimes DV: 0 or 1 is called Goods/Bads. Depending on the problem either 0 or 1 is defined as `good`.\n",
    "```"
   ]
  },
  {
   "cell_type": "code",
   "execution_count": 5,
   "id": "27dd00a0-3dde-45cb-bb8a-b0f7e9ddc95e",
   "metadata": {},
   "outputs": [
    {
     "data": {
      "text/plain": [
       "<AxesSubplot:>"
      ]
     },
     "execution_count": 5,
     "metadata": {},
     "output_type": "execute_result"
    },
    {
     "data": {
      "image/png": "[encoded data removed]",
      "text/plain": [
       "<Figure size 432x288 with 1 Axes>"
      ]
     },
     "metadata": {
      "needs_background": "light"
     },
     "output_type": "display_data"
    }
   ],
   "source": [
    "ks_table[\n",
    "    [\n",
    "        \"n_class_0\",\n",
    "        \"n_class_1\",\n",
    "    ]\n",
    "].plot.bar(stacked=True)"
   ]
  },
  {
   "cell_type": "markdown",
   "id": "f3026cb4-48ff-4f25-8487-c12dcdff4e91",
   "metadata": {},
   "source": [
    "The graph above show the difference in classification for each decicles. \n",
    "\n",
    "```{note}\n",
    "This difference varies depending on performance.\n",
    "```{list-table}\n",
    ":header-rows: 1\n",
    "\n",
    "* - KS 25\n",
    "  - KS 50\n",
    "  - KS 75\n",
    "* - ![alt](../_assets/ks_25.png) \n",
    "  - ![alt](../_assets/ks_50.png)\n",
    "  - ![alt](../_assets/ks_75.png)\n",
    "```\n",
    "\n",
    "```"
   ]
  },
  {
   "cell_type": "markdown",
   "id": "ab757bbe-cc8e-4322-a825-2597f9c7dd5c",
   "metadata": {},
   "source": [
    "### Calculating KS"
   ]
  },
  {
   "cell_type": "code",
   "execution_count": 6,
   "id": "d3c7b6ff-4a9a-4eb7-8721-28b26bba09f9",
   "metadata": {},
   "outputs": [
    {
     "data": {
      "text/html": [
       "<style type=\"text/css\">\n",
       "</style>\n",
       "<table id=\"T_e6de8\">\n",
       "  <thead>\n",
       "    <tr>\n",
       "      <th class=\"blank level0\" >&nbsp;</th>\n",
       "      <th id=\"T_e6de8_level0_col0\" class=\"col_heading level0 col0\" >min_score</th>\n",
       "      <th id=\"T_e6de8_level0_col1\" class=\"col_heading level0 col1\" >max_score</th>\n",
       "      <th id=\"T_e6de8_level0_col2\" class=\"col_heading level0 col2\" >n_class_0</th>\n",
       "      <th id=\"T_e6de8_level0_col3\" class=\"col_heading level0 col3\" >n_class_1</th>\n",
       "      <th id=\"T_e6de8_level0_col4\" class=\"col_heading level0 col4\" >n_total</th>\n",
       "      <th id=\"T_e6de8_level0_col5\" class=\"col_heading level0 col5\" >%_class_0</th>\n",
       "      <th id=\"T_e6de8_level0_col6\" class=\"col_heading level0 col6\" >%_class_1</th>\n",
       "      <th id=\"T_e6de8_level0_col7\" class=\"col_heading level0 col7\" >cs_class_0</th>\n",
       "      <th id=\"T_e6de8_level0_col8\" class=\"col_heading level0 col8\" >cs_class_1</th>\n",
       "      <th id=\"T_e6de8_level0_col9\" class=\"col_heading level0 col9\" >cs_diff</th>\n",
       "    </tr>\n",
       "  </thead>\n",
       "  <tbody>\n",
       "    <tr>\n",
       "      <th id=\"T_e6de8_level0_row0\" class=\"row_heading level0 row0\" >0</th>\n",
       "      <td id=\"T_e6de8_row0_col0\" class=\"data row0 col0\" >0.035500</td>\n",
       "      <td id=\"T_e6de8_row0_col1\" class=\"data row0 col1\" >0.224967</td>\n",
       "      <td id=\"T_e6de8_row0_col2\" class=\"data row0 col2\" >21</td>\n",
       "      <td id=\"T_e6de8_row0_col3\" class=\"data row0 col3\" >12</td>\n",
       "      <td id=\"T_e6de8_row0_col4\" class=\"data row0 col4\" >33</td>\n",
       "      <td id=\"T_e6de8_row0_col5\" class=\"data row0 col5\" >13.3%</td>\n",
       "      <td id=\"T_e6de8_row0_col6\" class=\"data row0 col6\" >7.0%</td>\n",
       "      <td id=\"T_e6de8_row0_col7\" class=\"data row0 col7\" >13.3%</td>\n",
       "      <td id=\"T_e6de8_row0_col8\" class=\"data row0 col8\" >7.0%</td>\n",
       "      <td id=\"T_e6de8_row0_col9\" class=\"data row0 col9\" >6.3%</td>\n",
       "    </tr>\n",
       "    <tr>\n",
       "      <th id=\"T_e6de8_level0_row1\" class=\"row_heading level0 row1\" >1</th>\n",
       "      <td id=\"T_e6de8_row1_col0\" class=\"data row1 col0\" >0.226262</td>\n",
       "      <td id=\"T_e6de8_row1_col1\" class=\"data row1 col1\" >0.327676</td>\n",
       "      <td id=\"T_e6de8_row1_col2\" class=\"data row1 col2\" >27</td>\n",
       "      <td id=\"T_e6de8_row1_col3\" class=\"data row1 col3\" >6</td>\n",
       "      <td id=\"T_e6de8_row1_col4\" class=\"data row1 col4\" >33</td>\n",
       "      <td id=\"T_e6de8_row1_col5\" class=\"data row1 col5\" >17.1%</td>\n",
       "      <td id=\"T_e6de8_row1_col6\" class=\"data row1 col6\" >3.5%</td>\n",
       "      <td id=\"T_e6de8_row1_col7\" class=\"data row1 col7\" >30.4%</td>\n",
       "      <td id=\"T_e6de8_row1_col8\" class=\"data row1 col8\" >10.5%</td>\n",
       "      <td id=\"T_e6de8_row1_col9\" class=\"data row1 col9\" >19.9%</td>\n",
       "    </tr>\n",
       "    <tr>\n",
       "      <th id=\"T_e6de8_level0_row2\" class=\"row_heading level0 row2\" >2</th>\n",
       "      <td id=\"T_e6de8_row2_col0\" class=\"data row2 col0\" >0.328646</td>\n",
       "      <td id=\"T_e6de8_row2_col1\" class=\"data row2 col1\" >0.377685</td>\n",
       "      <td id=\"T_e6de8_row2_col2\" class=\"data row2 col2\" >19</td>\n",
       "      <td id=\"T_e6de8_row2_col3\" class=\"data row2 col3\" >14</td>\n",
       "      <td id=\"T_e6de8_row2_col4\" class=\"data row2 col4\" >33</td>\n",
       "      <td id=\"T_e6de8_row2_col5\" class=\"data row2 col5\" >12.0%</td>\n",
       "      <td id=\"T_e6de8_row2_col6\" class=\"data row2 col6\" >8.1%</td>\n",
       "      <td id=\"T_e6de8_row2_col7\" class=\"data row2 col7\" >42.4%</td>\n",
       "      <td id=\"T_e6de8_row2_col8\" class=\"data row2 col8\" >18.6%</td>\n",
       "      <td id=\"T_e6de8_row2_col9\" class=\"data row2 col9\" >23.8%</td>\n",
       "    </tr>\n",
       "    <tr>\n",
       "      <th id=\"T_e6de8_level0_row3\" class=\"row_heading level0 row3\" >3</th>\n",
       "      <td id=\"T_e6de8_row3_col0\" class=\"data row3 col0\" >0.381554</td>\n",
       "      <td id=\"T_e6de8_row3_col1\" class=\"data row3 col1\" >0.437930</td>\n",
       "      <td id=\"T_e6de8_row3_col2\" class=\"data row3 col2\" >25</td>\n",
       "      <td id=\"T_e6de8_row3_col3\" class=\"data row3 col3\" >8</td>\n",
       "      <td id=\"T_e6de8_row3_col4\" class=\"data row3 col4\" >33</td>\n",
       "      <td id=\"T_e6de8_row3_col5\" class=\"data row3 col5\" >15.8%</td>\n",
       "      <td id=\"T_e6de8_row3_col6\" class=\"data row3 col6\" >4.7%</td>\n",
       "      <td id=\"T_e6de8_row3_col7\" class=\"data row3 col7\" >58.2%</td>\n",
       "      <td id=\"T_e6de8_row3_col8\" class=\"data row3 col8\" >23.3%</td>\n",
       "      <td id=\"T_e6de8_row3_col9\" class=\"data row3 col9\" >35.0%</td>\n",
       "    </tr>\n",
       "    <tr>\n",
       "      <th id=\"T_e6de8_level0_row4\" class=\"row_heading level0 row4\" >4</th>\n",
       "      <td id=\"T_e6de8_row4_col0\" class=\"data row4 col0\" >0.442221</td>\n",
       "      <td id=\"T_e6de8_row4_col1\" class=\"data row4 col1\" >0.491976</td>\n",
       "      <td id=\"T_e6de8_row4_col2\" class=\"data row4 col2\" >23</td>\n",
       "      <td id=\"T_e6de8_row4_col3\" class=\"data row4 col3\" >10</td>\n",
       "      <td id=\"T_e6de8_row4_col4\" class=\"data row4 col4\" >33</td>\n",
       "      <td id=\"T_e6de8_row4_col5\" class=\"data row4 col5\" >14.6%</td>\n",
       "      <td id=\"T_e6de8_row4_col6\" class=\"data row4 col6\" >5.8%</td>\n",
       "      <td id=\"T_e6de8_row4_col7\" class=\"data row4 col7\" >72.8%</td>\n",
       "      <td id=\"T_e6de8_row4_col8\" class=\"data row4 col8\" >29.1%</td>\n",
       "      <td id=\"T_e6de8_row4_col9\" class=\"data row4 col9\" >43.7%</td>\n",
       "    </tr>\n",
       "    <tr>\n",
       "      <th id=\"T_e6de8_level0_row5\" class=\"row_heading level0 row5\" >5</th>\n",
       "      <td id=\"T_e6de8_row5_col0\" class=\"data row5 col0\" >0.495512</td>\n",
       "      <td id=\"T_e6de8_row5_col1\" class=\"data row5 col1\" >0.575724</td>\n",
       "      <td id=\"T_e6de8_row5_col2\" class=\"data row5 col2\" >17</td>\n",
       "      <td id=\"T_e6de8_row5_col3\" class=\"data row5 col3\" >16</td>\n",
       "      <td id=\"T_e6de8_row5_col4\" class=\"data row5 col4\" >33</td>\n",
       "      <td id=\"T_e6de8_row5_col5\" class=\"data row5 col5\" >10.8%</td>\n",
       "      <td id=\"T_e6de8_row5_col6\" class=\"data row5 col6\" >9.3%</td>\n",
       "      <td id=\"T_e6de8_row5_col7\" class=\"data row5 col7\" >83.5%</td>\n",
       "      <td id=\"T_e6de8_row5_col8\" class=\"data row5 col8\" >38.4%</td>\n",
       "      <td id=\"T_e6de8_row5_col9\" class=\"data row5 col9\" >45.2%</td>\n",
       "    </tr>\n",
       "    <tr>\n",
       "      <th id=\"T_e6de8_level0_row6\" class=\"row_heading level0 row6\" >6</th>\n",
       "      <td id=\"T_e6de8_row6_col0\" class=\"data row6 col0\" >0.577944</td>\n",
       "      <td id=\"T_e6de8_row6_col1\" class=\"data row6 col1\" >0.671211</td>\n",
       "      <td id=\"T_e6de8_row6_col2\" class=\"data row6 col2\" >9</td>\n",
       "      <td id=\"T_e6de8_row6_col3\" class=\"data row6 col3\" >24</td>\n",
       "      <td id=\"T_e6de8_row6_col4\" class=\"data row6 col4\" >33</td>\n",
       "      <td id=\"T_e6de8_row6_col5\" class=\"data row6 col5\" >5.7%</td>\n",
       "      <td id=\"T_e6de8_row6_col6\" class=\"data row6 col6\" >14.0%</td>\n",
       "      <td id=\"T_e6de8_row6_col7\" class=\"data row6 col7\" >89.2%</td>\n",
       "      <td id=\"T_e6de8_row6_col8\" class=\"data row6 col8\" >52.3%</td>\n",
       "      <td id=\"T_e6de8_row6_col9\" class=\"data row6 col9\" >36.9%</td>\n",
       "    </tr>\n",
       "    <tr>\n",
       "      <th id=\"T_e6de8_level0_row7\" class=\"row_heading level0 row7\" >7</th>\n",
       "      <td id=\"T_e6de8_row7_col0\" class=\"data row7 col0\" >0.671344</td>\n",
       "      <td id=\"T_e6de8_row7_col1\" class=\"data row7 col1\" >0.757899</td>\n",
       "      <td id=\"T_e6de8_row7_col2\" class=\"data row7 col2\" >6</td>\n",
       "      <td id=\"T_e6de8_row7_col3\" class=\"data row7 col3\" >27</td>\n",
       "      <td id=\"T_e6de8_row7_col4\" class=\"data row7 col4\" >33</td>\n",
       "      <td id=\"T_e6de8_row7_col5\" class=\"data row7 col5\" >3.8%</td>\n",
       "      <td id=\"T_e6de8_row7_col6\" class=\"data row7 col6\" >15.7%</td>\n",
       "      <td id=\"T_e6de8_row7_col7\" class=\"data row7 col7\" >93.0%</td>\n",
       "      <td id=\"T_e6de8_row7_col8\" class=\"data row7 col8\" >68.0%</td>\n",
       "      <td id=\"T_e6de8_row7_col9\" class=\"data row7 col9\" >25.0%</td>\n",
       "    </tr>\n",
       "    <tr>\n",
       "      <th id=\"T_e6de8_level0_row8\" class=\"row_heading level0 row8\" >8</th>\n",
       "      <td id=\"T_e6de8_row8_col0\" class=\"data row8 col0\" >0.765076</td>\n",
       "      <td id=\"T_e6de8_row8_col1\" class=\"data row8 col1\" >0.874251</td>\n",
       "      <td id=\"T_e6de8_row8_col2\" class=\"data row8 col2\" >4</td>\n",
       "      <td id=\"T_e6de8_row8_col3\" class=\"data row8 col3\" >29</td>\n",
       "      <td id=\"T_e6de8_row8_col4\" class=\"data row8 col4\" >33</td>\n",
       "      <td id=\"T_e6de8_row8_col5\" class=\"data row8 col5\" >2.5%</td>\n",
       "      <td id=\"T_e6de8_row8_col6\" class=\"data row8 col6\" >16.9%</td>\n",
       "      <td id=\"T_e6de8_row8_col7\" class=\"data row8 col7\" >95.6%</td>\n",
       "      <td id=\"T_e6de8_row8_col8\" class=\"data row8 col8\" >84.9%</td>\n",
       "      <td id=\"T_e6de8_row8_col9\" class=\"data row8 col9\" >10.7%</td>\n",
       "    </tr>\n",
       "    <tr>\n",
       "      <th id=\"T_e6de8_level0_row9\" class=\"row_heading level0 row9\" >9</th>\n",
       "      <td id=\"T_e6de8_row9_col0\" class=\"data row9 col0\" >0.874542</td>\n",
       "      <td id=\"T_e6de8_row9_col1\" class=\"data row9 col1\" >0.988560</td>\n",
       "      <td id=\"T_e6de8_row9_col2\" class=\"data row9 col2\" >7</td>\n",
       "      <td id=\"T_e6de8_row9_col3\" class=\"data row9 col3\" >26</td>\n",
       "      <td id=\"T_e6de8_row9_col4\" class=\"data row9 col4\" >33</td>\n",
       "      <td id=\"T_e6de8_row9_col5\" class=\"data row9 col5\" >4.4%</td>\n",
       "      <td id=\"T_e6de8_row9_col6\" class=\"data row9 col6\" >15.1%</td>\n",
       "      <td id=\"T_e6de8_row9_col7\" class=\"data row9 col7\" >100.0%</td>\n",
       "      <td id=\"T_e6de8_row9_col8\" class=\"data row9 col8\" >100.0%</td>\n",
       "      <td id=\"T_e6de8_row9_col9\" class=\"data row9 col9\" >0.0%</td>\n",
       "    </tr>\n",
       "  </tbody>\n",
       "</table>\n"
      ],
      "text/plain": [
       "<pandas.io.formats.style.Styler at 0x7fa4e9b6fd00>"
      ]
     },
     "execution_count": 6,
     "metadata": {},
     "output_type": "execute_result"
    }
   ],
   "source": [
    "count_class_0 = df.class_0.sum()\n",
    "count_class_1 = df.class_1.sum()\n",
    "\n",
    "ks_table[\"%_class_0\"] = (ks_table.n_class_0 / count_class_0) * 100\n",
    "ks_table[\"%_class_1\"] = (ks_table.n_class_1 / count_class_1) * 100\n",
    "\n",
    "ks_table[\"cs_class_0\"] = (ks_table.n_class_0 / count_class_0).cumsum() * 100\n",
    "ks_table[\"cs_class_1\"] = (ks_table.n_class_1 / count_class_1).cumsum() * 100\n",
    "\n",
    "ks_table[\"cs_diff\"] = np.abs(ks_table[\"cs_class_0\"] - ks_table[\"cs_class_1\"])\n",
    "\n",
    "ks_table.style.format(\n",
    "    \"{:.1f}%\", subset=[\"%_class_0\", \"%_class_1\", \"cs_class_0\", \"cs_class_1\", \"cs_diff\"]\n",
    ")"
   ]
  },
  {
   "cell_type": "markdown",
   "id": "4c1427e5-a5b7-48cd-99a7-ce399f5a7be2",
   "metadata": {},
   "source": [
    "`%_class_0` for 0th bin is 21 / total number of class_0.   \n",
    "`cs_class_0` is the same but cumulatively summed.  \n",
    "`cs_diff` is the difference between `cs_class_0` and `cs_class_1`"
   ]
  },
  {
   "cell_type": "markdown",
   "id": "d6c641c3-6f6c-4239-bf4d-321c43f2563e",
   "metadata": {},
   "source": [
    "#### KS\n",
    "\n",
    "KS is the max difference between cumulatively summed rate of target and cumulatively summed non-target. i.e. maximum value of `cs_diff`"
   ]
  },
  {
   "cell_type": "code",
   "execution_count": 7,
   "id": "3cd6b2a6-cd39-40a6-b1f3-b7ad6db35b80",
   "metadata": {},
   "outputs": [
    {
     "name": "stdout",
     "output_type": "stream",
     "text": [
      "KS = 45.17\n"
     ]
    }
   ],
   "source": [
    "ks = ks_table[\"cs_diff\"].max()\n",
    "print(f\"KS = {round(ks,2)}\")"
   ]
  },
  {
   "cell_type": "markdown",
   "id": "908bb87d-2f71-4692-9bdb-75d1fa4b1efc",
   "metadata": {},
   "source": [
    "### Plot Binned KS"
   ]
  },
  {
   "cell_type": "code",
   "execution_count": 13,
   "id": "ab2f69e8-8647-49a1-a8bd-a834bbfe7098",
   "metadata": {},
   "outputs": [
    {
     "data": {
      "text/plain": [
       "(0.8354430379746836,)"
      ]
     },
     "execution_count": 13,
     "metadata": {},
     "output_type": "execute_result"
    }
   ],
   "source": [
    " ks_table.loc[ks_tier, \"cs_class_0\"] / 100,"
   ]
  },
  {
   "cell_type": "code",
   "execution_count": 14,
   "id": "e6664c30-3573-4952-a55f-83eb0b3770fc",
   "metadata": {},
   "outputs": [
    {
     "data": {
      "text/plain": [
       "(0.38372093023255816,)"
      ]
     },
     "execution_count": 14,
     "metadata": {},
     "output_type": "execute_result"
    }
   ],
   "source": [
    "ks_table.loc[ks_tier, \"cs_class_1\"] / 100,"
   ]
  },
  {
   "cell_type": "code",
   "execution_count": 26,
   "id": "43cf2ac2-7b77-4e28-8e75-ff7d2ceb27ba",
   "metadata": {},
   "outputs": [
    {
     "name": "stdout",
     "output_type": "stream",
     "text": [
      "\n"
     ]
    },
    {
     "data": {
      "image/png": "[encoded data removed]",
      "text/plain": [
       "<Figure size 432x288 with 1 Axes>"
      ]
     },
     "metadata": {
      "needs_background": "light"
     },
     "output_type": "display_data"
    }
   ],
   "source": [
    "fig, ax = plt.subplots(1, 1)\n",
    "ax.plot(ks_table[\"cs_class_0\"], label=\"Class 0\")\n",
    "ax.plot(ks_table[\"cs_class_1\"], label=\"Class 1\")\n",
    "print()\n",
    "ax.axvline(\n",
    "    x=ks_tier,\n",
    "    ymin=ks_table.loc[ks_tier, \"cs_class_0\"] / 100,\n",
    "    ymax=ks_table.loc[ks_tier, \"cs_class_1\"] / 100,\n",
    "    c=\"black\",\n",
    "    linewidth=1,\n",
    "    linestyle=\"--\",\n",
    "    label=f\"KS: {ks_table['cs_diff'].max().round(2)} at tier:{ks_tier}\",\n",
    ")\n",
    "ax.set_xlim([0, 9])\n",
    "ax.set_ylim([0, 100])\n",
    "# ax.set_xlabel(\"Tiers\")\n",
    "# ax.set_ylabel(\"Cumilative Percentage\")\n",
    "# ax.set_xticks(ks_table.index)\n",
    "ax.grid()\n",
    "ax.legend()\n",
    "plt.show()"
   ]
  },
  {
   "cell_type": "markdown",
   "id": "c7fe1dfa-6b93-4d4b-89b7-2e61d41875fa",
   "metadata": {},
   "source": [
    "```{note}\n",
    "Binned KS are useful when you intent to have different actions for differnt bins. For example in the case of credit scoring you might give a higher APR (interest rate) to people falling in higher bins.\n",
    "```"
   ]
  },
  {
   "cell_type": "markdown",
   "id": "8e74a910-400b-4f89-a3f3-3a887bef75d8",
   "metadata": {},
   "source": [
    "## True KS  "
   ]
  },
  {
   "cell_type": "markdown",
   "id": "db5e4512-40a4-447b-89ed-7a1643a997bc",
   "metadata": {},
   "source": [
    "Not all problems need the prediction probabilities to be group. True KS would be the max separability between target and non-target distribution without grouping them.   "
   ]
  },
  {
   "cell_type": "code",
   "execution_count": 31,
   "id": "f4d8721e-d25d-42e5-b378-c40232640114",
   "metadata": {},
   "outputs": [
    {
     "data": {
      "text/html": [
       "<div>\n",
       "<style scoped>\n",
       "    .dataframe tbody tr th:only-of-type {\n",
       "        vertical-align: middle;\n",
       "    }\n",
       "\n",
       "    .dataframe tbody tr th {\n",
       "        vertical-align: top;\n",
       "    }\n",
       "\n",
       "    .dataframe thead th {\n",
       "        text-align: right;\n",
       "    }\n",
       "</style>\n",
       "<table border=\"1\" class=\"dataframe\">\n",
       "  <thead>\n",
       "    <tr style=\"text-align: right;\">\n",
       "      <th></th>\n",
       "      <th>score</th>\n",
       "      <th>dv</th>\n",
       "      <th>good</th>\n",
       "      <th>bad</th>\n",
       "      <th>bads</th>\n",
       "      <th>goods</th>\n",
       "      <th>cum_good_pct</th>\n",
       "      <th>cum_bad_pct</th>\n",
       "      <th>ks</th>\n",
       "    </tr>\n",
       "  </thead>\n",
       "  <tbody>\n",
       "    <tr>\n",
       "      <th>0</th>\n",
       "      <td>0.035500</td>\n",
       "      <td>0</td>\n",
       "      <td>0</td>\n",
       "      <td>1</td>\n",
       "      <td>1</td>\n",
       "      <td>0</td>\n",
       "      <td>0.000000</td>\n",
       "      <td>0.006329</td>\n",
       "      <td>0.006329</td>\n",
       "    </tr>\n",
       "    <tr>\n",
       "      <th>1</th>\n",
       "      <td>0.049758</td>\n",
       "      <td>0</td>\n",
       "      <td>0</td>\n",
       "      <td>1</td>\n",
       "      <td>2</td>\n",
       "      <td>0</td>\n",
       "      <td>0.000000</td>\n",
       "      <td>0.012658</td>\n",
       "      <td>0.012658</td>\n",
       "    </tr>\n",
       "    <tr>\n",
       "      <th>2</th>\n",
       "      <td>0.057529</td>\n",
       "      <td>0</td>\n",
       "      <td>0</td>\n",
       "      <td>1</td>\n",
       "      <td>3</td>\n",
       "      <td>0</td>\n",
       "      <td>0.000000</td>\n",
       "      <td>0.018987</td>\n",
       "      <td>0.018987</td>\n",
       "    </tr>\n",
       "    <tr>\n",
       "      <th>3</th>\n",
       "      <td>0.067903</td>\n",
       "      <td>1</td>\n",
       "      <td>1</td>\n",
       "      <td>0</td>\n",
       "      <td>3</td>\n",
       "      <td>1</td>\n",
       "      <td>0.005814</td>\n",
       "      <td>0.018987</td>\n",
       "      <td>0.013173</td>\n",
       "    </tr>\n",
       "    <tr>\n",
       "      <th>4</th>\n",
       "      <td>0.077144</td>\n",
       "      <td>0</td>\n",
       "      <td>0</td>\n",
       "      <td>1</td>\n",
       "      <td>4</td>\n",
       "      <td>1</td>\n",
       "      <td>0.005814</td>\n",
       "      <td>0.025316</td>\n",
       "      <td>0.019503</td>\n",
       "    </tr>\n",
       "    <tr>\n",
       "      <th>...</th>\n",
       "      <td>...</td>\n",
       "      <td>...</td>\n",
       "      <td>...</td>\n",
       "      <td>...</td>\n",
       "      <td>...</td>\n",
       "      <td>...</td>\n",
       "      <td>...</td>\n",
       "      <td>...</td>\n",
       "      <td>...</td>\n",
       "    </tr>\n",
       "    <tr>\n",
       "      <th>325</th>\n",
       "      <td>0.953260</td>\n",
       "      <td>1</td>\n",
       "      <td>1</td>\n",
       "      <td>0</td>\n",
       "      <td>156</td>\n",
       "      <td>170</td>\n",
       "      <td>0.988372</td>\n",
       "      <td>0.987342</td>\n",
       "      <td>0.001030</td>\n",
       "    </tr>\n",
       "    <tr>\n",
       "      <th>326</th>\n",
       "      <td>0.955026</td>\n",
       "      <td>1</td>\n",
       "      <td>1</td>\n",
       "      <td>0</td>\n",
       "      <td>156</td>\n",
       "      <td>171</td>\n",
       "      <td>0.994186</td>\n",
       "      <td>0.987342</td>\n",
       "      <td>0.006844</td>\n",
       "    </tr>\n",
       "    <tr>\n",
       "      <th>327</th>\n",
       "      <td>0.967771</td>\n",
       "      <td>1</td>\n",
       "      <td>1</td>\n",
       "      <td>0</td>\n",
       "      <td>156</td>\n",
       "      <td>172</td>\n",
       "      <td>1.000000</td>\n",
       "      <td>0.987342</td>\n",
       "      <td>0.012658</td>\n",
       "    </tr>\n",
       "    <tr>\n",
       "      <th>328</th>\n",
       "      <td>0.981576</td>\n",
       "      <td>0</td>\n",
       "      <td>0</td>\n",
       "      <td>1</td>\n",
       "      <td>157</td>\n",
       "      <td>172</td>\n",
       "      <td>1.000000</td>\n",
       "      <td>0.993671</td>\n",
       "      <td>0.006329</td>\n",
       "    </tr>\n",
       "    <tr>\n",
       "      <th>329</th>\n",
       "      <td>0.988560</td>\n",
       "      <td>0</td>\n",
       "      <td>0</td>\n",
       "      <td>1</td>\n",
       "      <td>158</td>\n",
       "      <td>172</td>\n",
       "      <td>1.000000</td>\n",
       "      <td>1.000000</td>\n",
       "      <td>0.000000</td>\n",
       "    </tr>\n",
       "  </tbody>\n",
       "</table>\n",
       "<p>330 rows × 9 columns</p>\n",
       "</div>"
      ],
      "text/plain": [
       "        score  dv  good  bad  bads  goods  cum_good_pct  cum_bad_pct        ks\n",
       "0    0.035500   0     0    1     1      0      0.000000     0.006329  0.006329\n",
       "1    0.049758   0     0    1     2      0      0.000000     0.012658  0.012658\n",
       "2    0.057529   0     0    1     3      0      0.000000     0.018987  0.018987\n",
       "3    0.067903   1     1    0     3      1      0.005814     0.018987  0.013173\n",
       "4    0.077144   0     0    1     4      1      0.005814     0.025316  0.019503\n",
       "..        ...  ..   ...  ...   ...    ...           ...          ...       ...\n",
       "325  0.953260   1     1    0   156    170      0.988372     0.987342  0.001030\n",
       "326  0.955026   1     1    0   156    171      0.994186     0.987342  0.006844\n",
       "327  0.967771   1     1    0   156    172      1.000000     0.987342  0.012658\n",
       "328  0.981576   0     0    1   157    172      1.000000     0.993671  0.006329\n",
       "329  0.988560   0     0    1   158    172      1.000000     1.000000  0.000000\n",
       "\n",
       "[330 rows x 9 columns]"
      ]
     },
     "execution_count": 31,
     "metadata": {},
     "output_type": "execute_result"
    }
   ],
   "source": [
    "data = pd.DataFrame({'score':y_test_pred,'dv':y_test})\n",
    "data['good'] = (data['dv']==1).astype(np.int64)\n",
    "data['bad'] = 1-data['good']\n",
    "data = data.sort_values('score')\n",
    "data.reset_index(inplace=True,drop=True)\n",
    "data['bads'] = data.bad.cumsum()\n",
    "data['goods'] = data.good.cumsum()\n",
    "data['cum_good_pct'] = data.good.cumsum() / data.good.sum()\n",
    "data['cum_bad_pct'] = data.bad.cumsum() / data.bad.sum()\n",
    "data['ks'] = np.abs(data['cum_good_pct']-data['cum_bad_pct'])\n",
    "\n",
    "data"
   ]
  },
  {
   "cell_type": "code",
   "execution_count": 32,
   "id": "f955abf2-576a-427e-8cfa-de1000d28719",
   "metadata": {},
   "outputs": [
    {
     "data": {
      "text/plain": [
       "0.4691639682072417"
      ]
     },
     "execution_count": 32,
     "metadata": {},
     "output_type": "execute_result"
    }
   ],
   "source": [
    "data.ks.max()"
   ]
  },
  {
   "cell_type": "code",
   "execution_count": 33,
   "id": "381b1334-6541-4bfd-9f0a-bbb3d364d364",
   "metadata": {},
   "outputs": [
    {
     "data": {
      "image/png": "[encoded data removed]",
      "text/plain": [
       "<Figure size 432x288 with 1 Axes>"
      ]
     },
     "metadata": {
      "needs_background": "light"
     },
     "output_type": "display_data"
    }
   ],
   "source": [
    "fig, ax = plt.subplots(1, 1)\n",
    "ax.plot(data.set_index('score')['cum_bad_pct'], label=\"Class 0\")\n",
    "ax.plot(data.set_index('score')['cum_good_pct'], label=\"Class 1\")\n",
    "\n",
    "plt.show()"
   ]
  },
  {
   "cell_type": "code",
   "execution_count": 34,
   "id": "c7f5eed0-0ed9-4a1d-b3b8-3041b9312856",
   "metadata": {},
   "outputs": [
    {
     "data": {
      "text/plain": [
       "46.916396820724174"
      ]
     },
     "execution_count": 34,
     "metadata": {},
     "output_type": "execute_result"
    }
   ],
   "source": [
    "# create 2D array with y_true, y_pred\n",
    "ks_arr = np.dstack((y_test, y_test_pred))[0]\n",
    "\n",
    "# order by score \n",
    "ks_arr = ks_arr[np.argsort(ks_arr[:, 1], kind='stable')]\n",
    "\n",
    "# counts of 0s and 1s\n",
    "y_true_counts = np.unique(ks_arr[:, 0], return_counts=True)[1]\n",
    "\n",
    "# cumilative sum by total counts of 0s and 1s \n",
    "cs_0 = (1 - ks_arr[:, 0]).cumsum() / y_true_counts[0]\n",
    "cs_1 = (ks_arr[:, 0]).cumsum() / y_true_counts[1]\n",
    "\n",
    "# seperation between cumilative percent \n",
    "cs_diff = np.abs(cs_0 - cs_1)\n",
    "\n",
    "# ks : max seperation \n",
    "ks = cs_diff.max() * 100 \n",
    "ks"
   ]
  },
  {
   "cell_type": "code",
   "execution_count": 35,
   "id": "0c26def5-461a-45da-ba8a-af90a9e17511",
   "metadata": {},
   "outputs": [
    {
     "data": {
      "text/plain": [
       "0.5653306828276777"
      ]
     },
     "execution_count": 35,
     "metadata": {},
     "output_type": "execute_result"
    }
   ],
   "source": [
    "ks_threshold = ks_arr[cs_diff.argmax(),1]\n",
    "ks_threshold"
   ]
  },
  {
   "cell_type": "code",
   "execution_count": 36,
   "id": "216a290a-b118-4d5d-b5d5-480779889bd4",
   "metadata": {},
   "outputs": [
    {
     "data": {
      "image/png": "[encoded data removed]",
      "text/plain": [
       "<Figure size 432x288 with 1 Axes>"
      ]
     },
     "metadata": {
      "needs_background": "light"
     },
     "output_type": "display_data"
    }
   ],
   "source": [
    "fig, ax = plt.subplots(1, 1)\n",
    "ax.plot(ks_arr[:,1], cs_0, label=\"Class 0\")\n",
    "ax.plot(ks_arr[:,1],cs_1, label=\"Class 1\")\n",
    "\n",
    "# ax.plot(data.set_index('score')['cum_good_pct'], label=\"Class 1\")\n",
    "ks_threshold = cs_diff.argmax()\n",
    "\n",
    "plt.show()"
   ]
  },
  {
   "cell_type": "code",
   "execution_count": null,
   "id": "76bb2b99-5c27-4d60-9e55-18e216191e00",
   "metadata": {},
   "outputs": [],
   "source": [
    "https://github.com/reiinakano/scikit-plot/blob/2dd3e6a76df77edcbd724c4db25575f70abb57cb/scikitplot/metrics.py#L29"
   ]
  }
 ],
 "metadata": {
  "kernelspec": {
   "display_name": "Python 3",
   "language": "python",
   "name": "python3"
  },
  "language_info": {
   "codemirror_mode": {
    "name": "ipython",
    "version": 3
   },
   "file_extension": ".py",
   "mimetype": "text/x-python",
   "name": "python",
   "nbconvert_exporter": "python",
   "pygments_lexer": "ipython3",
   "version": "3.8.13"
  }
 },
 "nbformat": 4,
 "nbformat_minor": 5
}
