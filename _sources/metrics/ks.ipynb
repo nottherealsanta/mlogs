{
 "cells": [
  {
   "cell_type": "markdown",
   "id": "65611127-3d6e-4ff4-95c6-a80a8fcd9a8c",
   "metadata": {},
   "source": [
    "# KS  "
   ]
  },
  {
   "cell_type": "markdown",
   "id": "0b021ce4-1344-4c8c-aef3-f78279fdbdd3",
   "metadata": {},
   "source": [
    "Kolmogorov-Smirnov metric (ks metric) is derived from K-S test. K-S test measures the distance between two plotted cumulative distribution functions (CDF).   \n",
    "  \n",
    "To use it as a metric for classification problem we see the distance of plotted CDF of target and non-target. It can be also defined as the maximum distance between TNR and FNR. [🔗](https://en.wikipedia.org/wiki/Receiver_operating_characteristic)   \n",
    "  \n",
    "The model that produces the greatest amount of separability between target and non-target distribution would be considered the better model.  "
   ]
  },
  {
   "cell_type": "markdown",
   "id": "5f3000cd-67fe-4f42-8b86-1e2d16ae4abe",
   "metadata": {},
   "source": [
    "![](assets/ks_ss.png)"
   ]
  },
  {
   "cell_type": "markdown",
   "id": "61258641-47b0-4288-9f8d-805e5f50d90a",
   "metadata": {},
   "source": [
    "## Why KS?  \n",
    "\n",
    "\n",
    "- Scale-invariant. It measures how well predictions are ranked, rather than their absolute values.\n",
    "\n",
    "- Threshold-invariant. It measures the quality of the model's predictions irrespective of what classification threshold is chosen.\n",
    "\n",
    "- Although KS is a single metric. KS table / Gains Table can be used to take different actions for different bins. "
   ]
  },
  {
   "cell_type": "markdown",
   "id": "6f9e4349-33d5-4c2b-87e8-dc438d33cd17",
   "metadata": {},
   "source": [
    "## Calculating KS\n",
    "\n",
    "```{note}\n",
    "The following steps can be also done with pandas \n",
    "```"
   ]
  },
  {
   "cell_type": "code",
   "execution_count": 1,
   "id": "7052e44c-a438-4a87-acb9-1d8a9c7e6e81",
   "metadata": {
    "tags": [
     "hide-cell"
    ]
   },
   "outputs": [
    {
     "name": "stdout",
     "output_type": "stream",
     "text": [
      "(670, 20) (670,) (670,) (330, 20) (330,) (330,)\n"
     ]
    }
   ],
   "source": [
    "# sample dataset and sample model\n",
    "\n",
    "import numpy as np\n",
    "import pandas as pd\n",
    "from matplotlib import pyplot as plt\n",
    "from sklearn.datasets import make_classification\n",
    "from sklearn.linear_model import LogisticRegression\n",
    "from sklearn.model_selection import train_test_split\n",
    "\n",
    "# make sample dataset\n",
    "X, y = make_classification(\n",
    "    n_samples=1000, class_sep=0.3, random_state=0\n",
    ")  # 1000 samples with 20 features\n",
    "\n",
    "# split train-test\n",
    "X_train, X_test, y_train, y_test = train_test_split(\n",
    "    X, y, test_size=0.33, random_state=42\n",
    ")\n",
    "\n",
    "# simple Logistic Model\n",
    "model = LogisticRegression(random_state=23)\n",
    "model.fit(X_train, y_train)\n",
    "\n",
    "# predictions\n",
    "y_train_pred = model.predict_proba(X_train)[:, 1]\n",
    "y_test_pred = model.predict_proba(X_test)[:, 1]\n",
    "\n",
    "print(\n",
    "    X_train.shape,\n",
    "    y_train.shape,\n",
    "    y_train_pred.shape,\n",
    "    X_test.shape,\n",
    "    y_test.shape,\n",
    "    y_test_pred.shape,\n",
    ")"
   ]
  },
  {
   "cell_type": "markdown",
   "id": "2c193b54",
   "metadata": {},
   "source": [
    "Consider the following example, `y_test` represents true target values, here as 1s and 0s. and `y_test_pred` as prediction probabilities. "
   ]
  },
  {
   "cell_type": "code",
   "execution_count": 2,
   "id": "53826b95-a7d3-4d9c-b49f-021f0c441408",
   "metadata": {},
   "outputs": [
    {
     "data": {
      "text/plain": [
       "(array([0, 0, 1, 0, 1]),\n",
       " array([0.3143867 , 0.13123316, 0.15998113, 0.35006658, 0.83034574]))"
      ]
     },
     "execution_count": 2,
     "metadata": {},
     "output_type": "execute_result"
    }
   ],
   "source": [
    "y_test[:5], y_test_pred[:5]"
   ]
  },
  {
   "cell_type": "markdown",
   "id": "d3488c38-4f6f-4fae-bc73-3f7c76a2dec6",
   "metadata": {},
   "source": [
    "#### 1. 2D array with y_true and y_pred"
   ]
  },
  {
   "cell_type": "code",
   "execution_count": 3,
   "id": "70c53c59-db7a-4497-b397-07133a049b9f",
   "metadata": {},
   "outputs": [
    {
     "data": {
      "text/plain": [
       "array([[0.        , 0.3143867 ],\n",
       "       [0.        , 0.13123316],\n",
       "       [1.        , 0.15998113],\n",
       "       [0.        , 0.35006658],\n",
       "       [1.        , 0.83034574]])"
      ]
     },
     "execution_count": 3,
     "metadata": {},
     "output_type": "execute_result"
    }
   ],
   "source": [
    "ks_arr = np.dstack((y_test, y_test_pred))[0]  # dstack returns a 3D array with len(z-axis)=1\n",
    "\n",
    "ks_arr[:5]  # view array"
   ]
  },
  {
   "cell_type": "markdown",
   "id": "a43baf9b-aef9-455d-89e3-54f8e4919a78",
   "metadata": {},
   "source": [
    "#### 2. sort the array with y_pred. [why stable?](https://stackoverflow.com/questions/1517793/what-is-stability-in-sorting-algorithms-and-why-is-it-important#:~:text=A%20stable%20sorting,key%2Dvalue%20pairs.)"
   ]
  },
  {
   "cell_type": "code",
   "execution_count": 4,
   "id": "8b79a461-306a-4c3b-a6d7-b832f80b3733",
   "metadata": {},
   "outputs": [
    {
     "data": {
      "text/plain": [
       "array([[0.        , 0.0355004 ],\n",
       "       [0.        , 0.04975776],\n",
       "       [0.        , 0.05752943],\n",
       "       [1.        , 0.06790324],\n",
       "       [0.        , 0.07714446]])"
      ]
     },
     "execution_count": 4,
     "metadata": {},
     "output_type": "execute_result"
    }
   ],
   "source": [
    "ks_arr = ks_arr[np.argsort(ks_arr[:, 1], kind=\"stable\")]\n",
    "\n",
    "ks_arr[:5]"
   ]
  },
  {
   "cell_type": "markdown",
   "id": "eea695cf-e01a-4d65-9961-8c13560e10ea",
   "metadata": {},
   "source": [
    "#### 3. get total counts of positives and negatives"
   ]
  },
  {
   "cell_type": "code",
   "execution_count": 5,
   "id": "5c22f59d-ead9-4a87-8de6-b5dae6b241c6",
   "metadata": {},
   "outputs": [
    {
     "name": "stdout",
     "output_type": "stream",
     "text": [
      "158 172\n"
     ]
    }
   ],
   "source": [
    "# np.unique(y_test, return_counts=True) -> (array([0, 1]), array([158, 172]))\n",
    "y_true_counts = np.unique(y_test, return_counts=True)[1]\n",
    "\n",
    "N = y_true_counts[0]\n",
    "P = y_true_counts[1]\n",
    "\n",
    "print(N, P)"
   ]
  },
  {
   "cell_type": "markdown",
   "id": "06dc1a34-4068-4e8a-84e4-3a86f07a2127",
   "metadata": {},
   "source": [
    "#### 4. cumilative rates - cumilative sum by counts "
   ]
  },
  {
   "cell_type": "code",
   "execution_count": 6,
   "id": "80e1de65-a5de-40d1-a144-d86b6a85a3a1",
   "metadata": {},
   "outputs": [
    {
     "data": {
      "text/plain": [
       "(array([0.63291139, 1.26582278, 1.89873418, 1.89873418, 2.53164557]),\n",
       " array([0.        , 0.        , 0.        , 0.58139535, 0.58139535]))"
      ]
     },
     "execution_count": 6,
     "metadata": {},
     "output_type": "execute_result"
    }
   ],
   "source": [
    "cs_N = ((1 - ks_arr[:, 0]).cumsum() / N) * 100 # tnr\n",
    "cs_P = ((ks_arr[:, 0]).cumsum() / P) * 100 # fnr \n",
    "\n",
    "cs_N[:5], cs_P[:5]"
   ]
  },
  {
   "cell_type": "code",
   "execution_count": 7,
   "id": "f83447b9-5889-445a-917a-7eb239984028",
   "metadata": {},
   "outputs": [
    {
     "data": {
      "image/png": "[encoded data removed]",
      "text/plain": [
       "<Figure size 432x288 with 1 Axes>"
      ]
     },
     "metadata": {
      "needs_background": "light"
     },
     "output_type": "display_data"
    }
   ],
   "source": [
    "# plot cs_N and cs_P\n",
    "fig, ax = plt.subplots(1, 1)\n",
    "ax.plot(ks_arr[:, 1], cs_N)  # x-axis as y_pred\n",
    "ax.plot(ks_arr[:, 1], cs_P)\n",
    "plt.show()"
   ]
  },
  {
   "cell_type": "markdown",
   "id": "610dcc80-240a-4531-8143-44058e0836eb",
   "metadata": {},
   "source": [
    "#### 5. cumilative difference"
   ]
  },
  {
   "cell_type": "code",
   "execution_count": 8,
   "id": "290b24ee-a72e-4c44-972f-05167fae7784",
   "metadata": {
    "tags": []
   },
   "outputs": [
    {
     "data": {
      "text/plain": [
       "array([0.63291139, 1.26582278, 1.89873418, 1.31733883, 1.95025022])"
      ]
     },
     "execution_count": 8,
     "metadata": {},
     "output_type": "execute_result"
    }
   ],
   "source": [
    "cs_diff = np.abs(cs_N - cs_P)\n",
    "\n",
    "cs_diff[:5]"
   ]
  },
  {
   "cell_type": "code",
   "execution_count": 9,
   "id": "c0eeb38e-2830-45a8-b73b-f5520cf937a8",
   "metadata": {},
   "outputs": [
    {
     "data": {
      "text/plain": [
       "46.916396820724174"
      ]
     },
     "execution_count": 9,
     "metadata": {},
     "output_type": "execute_result"
    }
   ],
   "source": [
    "ks = cs_diff.max()\n",
    "\n",
    "ks"
   ]
  },
  {
   "cell_type": "markdown",
   "id": "a23c6347",
   "metadata": {},
   "source": [
    "####  Plotting KS"
   ]
  },
  {
   "cell_type": "code",
   "execution_count": 10,
   "id": "f7408b1e-94b3-4c3c-8619-43a3b7b7ad1a",
   "metadata": {},
   "outputs": [
    {
     "data": {
      "image/png": "[encoded data removed]",
      "text/plain": [
       "<Figure size 432x288 with 1 Axes>"
      ]
     },
     "metadata": {
      "needs_background": "light"
     },
     "output_type": "display_data"
    }
   ],
   "source": [
    "fig, ax = plt.subplots(1, 1)\n",
    "# plot cumilative percent\n",
    "ax.plot(ks_arr[:, 1], cs_N, label=\"Class 0\")\n",
    "ax.plot(ks_arr[:, 1], cs_P, label=\"Class 1\")\n",
    "\n",
    "# plot max seperation\n",
    "ks_threshold = ks_arr[cs_diff.argmax(), 1]\n",
    "ax.axvline(\n",
    "    x=ks_threshold,\n",
    "    ymin=sorted([cs_P[cs_diff.argmax()] / 100, cs_N[cs_diff.argmax()] / 100])[0],\n",
    "    ymax=sorted([cs_P[cs_diff.argmax()] / 100, cs_N[cs_diff.argmax()] / 100])[1],\n",
    "    c=\"black\",\n",
    "    linewidth=1,\n",
    "    linestyle=\"--\",\n",
    "    label=f\"KS: {ks.round(2)} at {ks_threshold.round(3)}\",\n",
    ")\n",
    "\n",
    "# plot settings\n",
    "ax.set_xlim([0, 1])\n",
    "ax.set_ylim([0, 100])\n",
    "ax.set_xlabel(\"Threshold\")\n",
    "ax.set_ylabel(\"Percentage below threshold\")\n",
    "ax.set_xticks(np.linspace(0, 1, 11))\n",
    "ax.grid()\n",
    "ax.legend()\n",
    "\n",
    "plt.show()"
   ]
  },
  {
   "cell_type": "markdown",
   "id": "1a0bef56",
   "metadata": {},
   "source": [
    "## AUC and KS\n",
    "\n",
    "There is a strong relationship between AUC and KS."
   ]
  },
  {
   "cell_type": "code",
   "execution_count": 12,
   "id": "7a5280c7",
   "metadata": {},
   "outputs": [
    {
     "data": {
      "text/plain": [
       "(46.92, 46.92)"
      ]
     },
     "execution_count": 12,
     "metadata": {},
     "output_type": "execute_result"
    }
   ],
   "source": [
    "from sklearn.metrics import roc_curve\n",
    "\n",
    "fpr, tpr, thresholds = roc_curve(y_test, y_test_pred)\n",
    "\n",
    "(((tpr-fpr).max())*100).round(2), ks.round(2)"
   ]
  },
  {
   "cell_type": "markdown",
   "id": "bd22a0d2-ab56-4612-9ed6-812a7873d071",
   "metadata": {},
   "source": [
    "Explore [this Streamlit App](https://share.streamlit.io/nottherealsanta/mlogs/main/mlogs/apps/auc_ks.py) to understand more about the relationship between them. Also refer to [Youden's J statistic](https://en.wikipedia.org/wiki/Youden%27s_J_statistic)."
   ]
  },
  {
   "cell_type": "markdown",
   "id": "a01ee21b-e6ba-4817-9bff-3f7adca62fbd",
   "metadata": {},
   "source": [
    "## KS Table "
   ]
  },
  {
   "cell_type": "markdown",
   "id": "b12c4537-89b3-407c-9379-f0bd65800952",
   "metadata": {},
   "source": [
    "#### 1. bin"
   ]
  },
  {
   "cell_type": "code",
   "execution_count": 14,
   "id": "7a15fc63-301b-430a-be2b-770933017ed6",
   "metadata": {},
   "outputs": [
    {
     "data": {
      "text/html": [
       "<div>\n",
       "<style scoped>\n",
       "    .dataframe tbody tr th:only-of-type {\n",
       "        vertical-align: middle;\n",
       "    }\n",
       "\n",
       "    .dataframe tbody tr th {\n",
       "        vertical-align: top;\n",
       "    }\n",
       "\n",
       "    .dataframe thead th {\n",
       "        text-align: right;\n",
       "    }\n",
       "</style>\n",
       "<table border=\"1\" class=\"dataframe\">\n",
       "  <thead>\n",
       "    <tr style=\"text-align: right;\">\n",
       "      <th></th>\n",
       "      <th>score</th>\n",
       "      <th>class_n</th>\n",
       "      <th>class_p</th>\n",
       "      <th>bin</th>\n",
       "    </tr>\n",
       "  </thead>\n",
       "  <tbody>\n",
       "    <tr>\n",
       "      <th>0</th>\n",
       "      <td>0.314387</td>\n",
       "      <td>1</td>\n",
       "      <td>0</td>\n",
       "      <td>1</td>\n",
       "    </tr>\n",
       "    <tr>\n",
       "      <th>1</th>\n",
       "      <td>0.131233</td>\n",
       "      <td>1</td>\n",
       "      <td>0</td>\n",
       "      <td>0</td>\n",
       "    </tr>\n",
       "    <tr>\n",
       "      <th>2</th>\n",
       "      <td>0.159981</td>\n",
       "      <td>0</td>\n",
       "      <td>1</td>\n",
       "      <td>0</td>\n",
       "    </tr>\n",
       "    <tr>\n",
       "      <th>3</th>\n",
       "      <td>0.350067</td>\n",
       "      <td>1</td>\n",
       "      <td>0</td>\n",
       "      <td>2</td>\n",
       "    </tr>\n",
       "    <tr>\n",
       "      <th>4</th>\n",
       "      <td>0.830346</td>\n",
       "      <td>0</td>\n",
       "      <td>1</td>\n",
       "      <td>8</td>\n",
       "    </tr>\n",
       "  </tbody>\n",
       "</table>\n",
       "</div>"
      ],
      "text/plain": [
       "      score  class_n  class_p bin\n",
       "0  0.314387        1        0   1\n",
       "1  0.131233        1        0   0\n",
       "2  0.159981        0        1   0\n",
       "3  0.350067        1        0   2\n",
       "4  0.830346        0        1   8"
      ]
     },
     "execution_count": 14,
     "metadata": {},
     "output_type": "execute_result"
    }
   ],
   "source": [
    "# dataframe with y_true and y_pred\n",
    "df = pd.DataFrame()\n",
    "df[\"score\"] = y_test_pred\n",
    "# one hot encoding the dependent variable\n",
    "df[\"class_n\"] = 1 - y_test\n",
    "df[\"class_p\"] = y_test\n",
    "\n",
    "# decile bins of prediction scores after ordering them\n",
    "df[\"bin\"] = pd.qcut(df.score.rank(method=\"first\"), 10, labels=list(range(0, 10, 1)))\n",
    "\n",
    "df.head()"
   ]
  },
  {
   "cell_type": "markdown",
   "id": "43551f89-ed67-443d-b045-18ffb9a64205",
   "metadata": {},
   "source": [
    "#### 2. target distribution"
   ]
  },
  {
   "cell_type": "code",
   "execution_count": 17,
   "id": "0dd3989b-a116-441e-88fd-ddfd643551c6",
   "metadata": {},
   "outputs": [
    {
     "data": {
      "text/html": [
       "<div>\n",
       "<style scoped>\n",
       "    .dataframe tbody tr th:only-of-type {\n",
       "        vertical-align: middle;\n",
       "    }\n",
       "\n",
       "    .dataframe tbody tr th {\n",
       "        vertical-align: top;\n",
       "    }\n",
       "\n",
       "    .dataframe thead th {\n",
       "        text-align: right;\n",
       "    }\n",
       "</style>\n",
       "<table border=\"1\" class=\"dataframe\">\n",
       "  <thead>\n",
       "    <tr style=\"text-align: right;\">\n",
       "      <th></th>\n",
       "      <th>min_score</th>\n",
       "      <th>max_score</th>\n",
       "      <th>n_class_n</th>\n",
       "      <th>n_class_p</th>\n",
       "      <th>n_total</th>\n",
       "    </tr>\n",
       "  </thead>\n",
       "  <tbody>\n",
       "    <tr>\n",
       "      <th>0</th>\n",
       "      <td>0.035500</td>\n",
       "      <td>0.224967</td>\n",
       "      <td>21</td>\n",
       "      <td>12</td>\n",
       "      <td>33</td>\n",
       "    </tr>\n",
       "    <tr>\n",
       "      <th>1</th>\n",
       "      <td>0.226262</td>\n",
       "      <td>0.327676</td>\n",
       "      <td>27</td>\n",
       "      <td>6</td>\n",
       "      <td>33</td>\n",
       "    </tr>\n",
       "    <tr>\n",
       "      <th>2</th>\n",
       "      <td>0.328646</td>\n",
       "      <td>0.377685</td>\n",
       "      <td>19</td>\n",
       "      <td>14</td>\n",
       "      <td>33</td>\n",
       "    </tr>\n",
       "    <tr>\n",
       "      <th>3</th>\n",
       "      <td>0.381554</td>\n",
       "      <td>0.437930</td>\n",
       "      <td>25</td>\n",
       "      <td>8</td>\n",
       "      <td>33</td>\n",
       "    </tr>\n",
       "    <tr>\n",
       "      <th>4</th>\n",
       "      <td>0.442221</td>\n",
       "      <td>0.491976</td>\n",
       "      <td>23</td>\n",
       "      <td>10</td>\n",
       "      <td>33</td>\n",
       "    </tr>\n",
       "    <tr>\n",
       "      <th>5</th>\n",
       "      <td>0.495512</td>\n",
       "      <td>0.575724</td>\n",
       "      <td>17</td>\n",
       "      <td>16</td>\n",
       "      <td>33</td>\n",
       "    </tr>\n",
       "    <tr>\n",
       "      <th>6</th>\n",
       "      <td>0.577944</td>\n",
       "      <td>0.671211</td>\n",
       "      <td>9</td>\n",
       "      <td>24</td>\n",
       "      <td>33</td>\n",
       "    </tr>\n",
       "    <tr>\n",
       "      <th>7</th>\n",
       "      <td>0.671344</td>\n",
       "      <td>0.757899</td>\n",
       "      <td>6</td>\n",
       "      <td>27</td>\n",
       "      <td>33</td>\n",
       "    </tr>\n",
       "    <tr>\n",
       "      <th>8</th>\n",
       "      <td>0.765076</td>\n",
       "      <td>0.874251</td>\n",
       "      <td>4</td>\n",
       "      <td>29</td>\n",
       "      <td>33</td>\n",
       "    </tr>\n",
       "    <tr>\n",
       "      <th>9</th>\n",
       "      <td>0.874542</td>\n",
       "      <td>0.988560</td>\n",
       "      <td>7</td>\n",
       "      <td>26</td>\n",
       "      <td>33</td>\n",
       "    </tr>\n",
       "  </tbody>\n",
       "</table>\n",
       "</div>"
      ],
      "text/plain": [
       "   min_score  max_score  n_class_n  n_class_p  n_total\n",
       "0   0.035500   0.224967         21         12       33\n",
       "1   0.226262   0.327676         27          6       33\n",
       "2   0.328646   0.377685         19         14       33\n",
       "3   0.381554   0.437930         25          8       33\n",
       "4   0.442221   0.491976         23         10       33\n",
       "5   0.495512   0.575724         17         16       33\n",
       "6   0.577944   0.671211          9         24       33\n",
       "7   0.671344   0.757899          6         27       33\n",
       "8   0.765076   0.874251          4         29       33\n",
       "9   0.874542   0.988560          7         26       33"
      ]
     },
     "execution_count": 17,
     "metadata": {},
     "output_type": "execute_result"
    }
   ],
   "source": [
    "grouped = df.groupby(\"bin\", as_index=False)\n",
    "\n",
    "ks_table = pd.DataFrame()\n",
    "ks_table[\"min_score\"] = grouped.min().score\n",
    "ks_table[\"max_score\"] = grouped.max().score\n",
    "ks_table[\"n_class_n\"] = grouped.sum().class_n\n",
    "ks_table[\"n_class_p\"] = grouped.sum().class_p\n",
    "ks_table[\"n_total\"] = ks_table.n_class_n + ks_table.n_class_p\n",
    "\n",
    "ks_table"
   ]
  },
  {
   "cell_type": "code",
   "execution_count": 18,
   "id": "a77e9dbe-c36d-481d-bb95-c332b14ef226",
   "metadata": {},
   "outputs": [
    {
     "data": {
      "text/plain": [
       "<AxesSubplot:>"
      ]
     },
     "execution_count": 18,
     "metadata": {},
     "output_type": "execute_result"
    },
    {
     "data": {
      "image/png": "[encoded data removed]",
      "text/plain": [
       "<Figure size 432x288 with 1 Axes>"
      ]
     },
     "metadata": {
      "needs_background": "light"
     },
     "output_type": "display_data"
    }
   ],
   "source": [
    "ks_table[\n",
    "    [\n",
    "        \"n_class_n\",\n",
    "        \"n_class_p\",\n",
    "    ]\n",
    "].plot.bar(stacked=True)"
   ]
  },
  {
   "cell_type": "markdown",
   "id": "704176dc-06a3-4a2d-975b-8d4c926e26af",
   "metadata": {},
   "source": [
    "The graph above show the difference in classification for each decicles. \n",
    "\n",
    "```{note}\n",
    "This difference varies depending on performance.\n",
    "```{list-table}\n",
    ":header-rows: 1\n",
    "\n",
    "* - KS 25\n",
    "  - KS 50\n",
    "  - KS 75\n",
    "* - ![alt](assets/ks_25.png) \n",
    "  - ![alt](assets/ks_50.png)\n",
    "  - ![alt](assets/ks_75.png)\n",
    "```\n",
    "```"
   ]
  },
  {
   "cell_type": "markdown",
   "id": "00e9f6dd-3660-4f50-8d6b-22e3a93a82f7",
   "metadata": {},
   "source": [
    "#### 3. cumulative difference "
   ]
  },
  {
   "cell_type": "code",
   "execution_count": 21,
   "id": "265fe17d-0fb9-4603-bd7a-11cb7dbe4fed",
   "metadata": {},
   "outputs": [
    {
     "data": {
      "text/html": [
       "<style type=\"text/css\">\n",
       "</style>\n",
       "<table id=\"T_12afd\">\n",
       "  <thead>\n",
       "    <tr>\n",
       "      <th class=\"blank level0\" >&nbsp;</th>\n",
       "      <th id=\"T_12afd_level0_col0\" class=\"col_heading level0 col0\" >min_score</th>\n",
       "      <th id=\"T_12afd_level0_col1\" class=\"col_heading level0 col1\" >max_score</th>\n",
       "      <th id=\"T_12afd_level0_col2\" class=\"col_heading level0 col2\" >n_class_n</th>\n",
       "      <th id=\"T_12afd_level0_col3\" class=\"col_heading level0 col3\" >n_class_p</th>\n",
       "      <th id=\"T_12afd_level0_col4\" class=\"col_heading level0 col4\" >n_total</th>\n",
       "      <th id=\"T_12afd_level0_col5\" class=\"col_heading level0 col5\" >%_class_n</th>\n",
       "      <th id=\"T_12afd_level0_col6\" class=\"col_heading level0 col6\" >%_class_p</th>\n",
       "      <th id=\"T_12afd_level0_col7\" class=\"col_heading level0 col7\" >cs_class_n</th>\n",
       "      <th id=\"T_12afd_level0_col8\" class=\"col_heading level0 col8\" >cs_class_p</th>\n",
       "      <th id=\"T_12afd_level0_col9\" class=\"col_heading level0 col9\" >cs_diff</th>\n",
       "    </tr>\n",
       "  </thead>\n",
       "  <tbody>\n",
       "    <tr>\n",
       "      <th id=\"T_12afd_level0_row0\" class=\"row_heading level0 row0\" >0</th>\n",
       "      <td id=\"T_12afd_row0_col0\" class=\"data row0 col0\" >0.035500</td>\n",
       "      <td id=\"T_12afd_row0_col1\" class=\"data row0 col1\" >0.224967</td>\n",
       "      <td id=\"T_12afd_row0_col2\" class=\"data row0 col2\" >21</td>\n",
       "      <td id=\"T_12afd_row0_col3\" class=\"data row0 col3\" >12</td>\n",
       "      <td id=\"T_12afd_row0_col4\" class=\"data row0 col4\" >33</td>\n",
       "      <td id=\"T_12afd_row0_col5\" class=\"data row0 col5\" >13.3%</td>\n",
       "      <td id=\"T_12afd_row0_col6\" class=\"data row0 col6\" >7.0%</td>\n",
       "      <td id=\"T_12afd_row0_col7\" class=\"data row0 col7\" >13.3%</td>\n",
       "      <td id=\"T_12afd_row0_col8\" class=\"data row0 col8\" >7.0%</td>\n",
       "      <td id=\"T_12afd_row0_col9\" class=\"data row0 col9\" >6.3%</td>\n",
       "    </tr>\n",
       "    <tr>\n",
       "      <th id=\"T_12afd_level0_row1\" class=\"row_heading level0 row1\" >1</th>\n",
       "      <td id=\"T_12afd_row1_col0\" class=\"data row1 col0\" >0.226262</td>\n",
       "      <td id=\"T_12afd_row1_col1\" class=\"data row1 col1\" >0.327676</td>\n",
       "      <td id=\"T_12afd_row1_col2\" class=\"data row1 col2\" >27</td>\n",
       "      <td id=\"T_12afd_row1_col3\" class=\"data row1 col3\" >6</td>\n",
       "      <td id=\"T_12afd_row1_col4\" class=\"data row1 col4\" >33</td>\n",
       "      <td id=\"T_12afd_row1_col5\" class=\"data row1 col5\" >17.1%</td>\n",
       "      <td id=\"T_12afd_row1_col6\" class=\"data row1 col6\" >3.5%</td>\n",
       "      <td id=\"T_12afd_row1_col7\" class=\"data row1 col7\" >30.4%</td>\n",
       "      <td id=\"T_12afd_row1_col8\" class=\"data row1 col8\" >10.5%</td>\n",
       "      <td id=\"T_12afd_row1_col9\" class=\"data row1 col9\" >19.9%</td>\n",
       "    </tr>\n",
       "    <tr>\n",
       "      <th id=\"T_12afd_level0_row2\" class=\"row_heading level0 row2\" >2</th>\n",
       "      <td id=\"T_12afd_row2_col0\" class=\"data row2 col0\" >0.328646</td>\n",
       "      <td id=\"T_12afd_row2_col1\" class=\"data row2 col1\" >0.377685</td>\n",
       "      <td id=\"T_12afd_row2_col2\" class=\"data row2 col2\" >19</td>\n",
       "      <td id=\"T_12afd_row2_col3\" class=\"data row2 col3\" >14</td>\n",
       "      <td id=\"T_12afd_row2_col4\" class=\"data row2 col4\" >33</td>\n",
       "      <td id=\"T_12afd_row2_col5\" class=\"data row2 col5\" >12.0%</td>\n",
       "      <td id=\"T_12afd_row2_col6\" class=\"data row2 col6\" >8.1%</td>\n",
       "      <td id=\"T_12afd_row2_col7\" class=\"data row2 col7\" >42.4%</td>\n",
       "      <td id=\"T_12afd_row2_col8\" class=\"data row2 col8\" >18.6%</td>\n",
       "      <td id=\"T_12afd_row2_col9\" class=\"data row2 col9\" >23.8%</td>\n",
       "    </tr>\n",
       "    <tr>\n",
       "      <th id=\"T_12afd_level0_row3\" class=\"row_heading level0 row3\" >3</th>\n",
       "      <td id=\"T_12afd_row3_col0\" class=\"data row3 col0\" >0.381554</td>\n",
       "      <td id=\"T_12afd_row3_col1\" class=\"data row3 col1\" >0.437930</td>\n",
       "      <td id=\"T_12afd_row3_col2\" class=\"data row3 col2\" >25</td>\n",
       "      <td id=\"T_12afd_row3_col3\" class=\"data row3 col3\" >8</td>\n",
       "      <td id=\"T_12afd_row3_col4\" class=\"data row3 col4\" >33</td>\n",
       "      <td id=\"T_12afd_row3_col5\" class=\"data row3 col5\" >15.8%</td>\n",
       "      <td id=\"T_12afd_row3_col6\" class=\"data row3 col6\" >4.7%</td>\n",
       "      <td id=\"T_12afd_row3_col7\" class=\"data row3 col7\" >58.2%</td>\n",
       "      <td id=\"T_12afd_row3_col8\" class=\"data row3 col8\" >23.3%</td>\n",
       "      <td id=\"T_12afd_row3_col9\" class=\"data row3 col9\" >35.0%</td>\n",
       "    </tr>\n",
       "    <tr>\n",
       "      <th id=\"T_12afd_level0_row4\" class=\"row_heading level0 row4\" >4</th>\n",
       "      <td id=\"T_12afd_row4_col0\" class=\"data row4 col0\" >0.442221</td>\n",
       "      <td id=\"T_12afd_row4_col1\" class=\"data row4 col1\" >0.491976</td>\n",
       "      <td id=\"T_12afd_row4_col2\" class=\"data row4 col2\" >23</td>\n",
       "      <td id=\"T_12afd_row4_col3\" class=\"data row4 col3\" >10</td>\n",
       "      <td id=\"T_12afd_row4_col4\" class=\"data row4 col4\" >33</td>\n",
       "      <td id=\"T_12afd_row4_col5\" class=\"data row4 col5\" >14.6%</td>\n",
       "      <td id=\"T_12afd_row4_col6\" class=\"data row4 col6\" >5.8%</td>\n",
       "      <td id=\"T_12afd_row4_col7\" class=\"data row4 col7\" >72.8%</td>\n",
       "      <td id=\"T_12afd_row4_col8\" class=\"data row4 col8\" >29.1%</td>\n",
       "      <td id=\"T_12afd_row4_col9\" class=\"data row4 col9\" >43.7%</td>\n",
       "    </tr>\n",
       "    <tr>\n",
       "      <th id=\"T_12afd_level0_row5\" class=\"row_heading level0 row5\" >5</th>\n",
       "      <td id=\"T_12afd_row5_col0\" class=\"data row5 col0\" >0.495512</td>\n",
       "      <td id=\"T_12afd_row5_col1\" class=\"data row5 col1\" >0.575724</td>\n",
       "      <td id=\"T_12afd_row5_col2\" class=\"data row5 col2\" >17</td>\n",
       "      <td id=\"T_12afd_row5_col3\" class=\"data row5 col3\" >16</td>\n",
       "      <td id=\"T_12afd_row5_col4\" class=\"data row5 col4\" >33</td>\n",
       "      <td id=\"T_12afd_row5_col5\" class=\"data row5 col5\" >10.8%</td>\n",
       "      <td id=\"T_12afd_row5_col6\" class=\"data row5 col6\" >9.3%</td>\n",
       "      <td id=\"T_12afd_row5_col7\" class=\"data row5 col7\" >83.5%</td>\n",
       "      <td id=\"T_12afd_row5_col8\" class=\"data row5 col8\" >38.4%</td>\n",
       "      <td id=\"T_12afd_row5_col9\" class=\"data row5 col9\" >45.2%</td>\n",
       "    </tr>\n",
       "    <tr>\n",
       "      <th id=\"T_12afd_level0_row6\" class=\"row_heading level0 row6\" >6</th>\n",
       "      <td id=\"T_12afd_row6_col0\" class=\"data row6 col0\" >0.577944</td>\n",
       "      <td id=\"T_12afd_row6_col1\" class=\"data row6 col1\" >0.671211</td>\n",
       "      <td id=\"T_12afd_row6_col2\" class=\"data row6 col2\" >9</td>\n",
       "      <td id=\"T_12afd_row6_col3\" class=\"data row6 col3\" >24</td>\n",
       "      <td id=\"T_12afd_row6_col4\" class=\"data row6 col4\" >33</td>\n",
       "      <td id=\"T_12afd_row6_col5\" class=\"data row6 col5\" >5.7%</td>\n",
       "      <td id=\"T_12afd_row6_col6\" class=\"data row6 col6\" >14.0%</td>\n",
       "      <td id=\"T_12afd_row6_col7\" class=\"data row6 col7\" >89.2%</td>\n",
       "      <td id=\"T_12afd_row6_col8\" class=\"data row6 col8\" >52.3%</td>\n",
       "      <td id=\"T_12afd_row6_col9\" class=\"data row6 col9\" >36.9%</td>\n",
       "    </tr>\n",
       "    <tr>\n",
       "      <th id=\"T_12afd_level0_row7\" class=\"row_heading level0 row7\" >7</th>\n",
       "      <td id=\"T_12afd_row7_col0\" class=\"data row7 col0\" >0.671344</td>\n",
       "      <td id=\"T_12afd_row7_col1\" class=\"data row7 col1\" >0.757899</td>\n",
       "      <td id=\"T_12afd_row7_col2\" class=\"data row7 col2\" >6</td>\n",
       "      <td id=\"T_12afd_row7_col3\" class=\"data row7 col3\" >27</td>\n",
       "      <td id=\"T_12afd_row7_col4\" class=\"data row7 col4\" >33</td>\n",
       "      <td id=\"T_12afd_row7_col5\" class=\"data row7 col5\" >3.8%</td>\n",
       "      <td id=\"T_12afd_row7_col6\" class=\"data row7 col6\" >15.7%</td>\n",
       "      <td id=\"T_12afd_row7_col7\" class=\"data row7 col7\" >93.0%</td>\n",
       "      <td id=\"T_12afd_row7_col8\" class=\"data row7 col8\" >68.0%</td>\n",
       "      <td id=\"T_12afd_row7_col9\" class=\"data row7 col9\" >25.0%</td>\n",
       "    </tr>\n",
       "    <tr>\n",
       "      <th id=\"T_12afd_level0_row8\" class=\"row_heading level0 row8\" >8</th>\n",
       "      <td id=\"T_12afd_row8_col0\" class=\"data row8 col0\" >0.765076</td>\n",
       "      <td id=\"T_12afd_row8_col1\" class=\"data row8 col1\" >0.874251</td>\n",
       "      <td id=\"T_12afd_row8_col2\" class=\"data row8 col2\" >4</td>\n",
       "      <td id=\"T_12afd_row8_col3\" class=\"data row8 col3\" >29</td>\n",
       "      <td id=\"T_12afd_row8_col4\" class=\"data row8 col4\" >33</td>\n",
       "      <td id=\"T_12afd_row8_col5\" class=\"data row8 col5\" >2.5%</td>\n",
       "      <td id=\"T_12afd_row8_col6\" class=\"data row8 col6\" >16.9%</td>\n",
       "      <td id=\"T_12afd_row8_col7\" class=\"data row8 col7\" >95.6%</td>\n",
       "      <td id=\"T_12afd_row8_col8\" class=\"data row8 col8\" >84.9%</td>\n",
       "      <td id=\"T_12afd_row8_col9\" class=\"data row8 col9\" >10.7%</td>\n",
       "    </tr>\n",
       "    <tr>\n",
       "      <th id=\"T_12afd_level0_row9\" class=\"row_heading level0 row9\" >9</th>\n",
       "      <td id=\"T_12afd_row9_col0\" class=\"data row9 col0\" >0.874542</td>\n",
       "      <td id=\"T_12afd_row9_col1\" class=\"data row9 col1\" >0.988560</td>\n",
       "      <td id=\"T_12afd_row9_col2\" class=\"data row9 col2\" >7</td>\n",
       "      <td id=\"T_12afd_row9_col3\" class=\"data row9 col3\" >26</td>\n",
       "      <td id=\"T_12afd_row9_col4\" class=\"data row9 col4\" >33</td>\n",
       "      <td id=\"T_12afd_row9_col5\" class=\"data row9 col5\" >4.4%</td>\n",
       "      <td id=\"T_12afd_row9_col6\" class=\"data row9 col6\" >15.1%</td>\n",
       "      <td id=\"T_12afd_row9_col7\" class=\"data row9 col7\" >100.0%</td>\n",
       "      <td id=\"T_12afd_row9_col8\" class=\"data row9 col8\" >100.0%</td>\n",
       "      <td id=\"T_12afd_row9_col9\" class=\"data row9 col9\" >0.0%</td>\n",
       "    </tr>\n",
       "  </tbody>\n",
       "</table>\n"
      ],
      "text/plain": [
       "<pandas.io.formats.style.Styler at 0x7f9cf0995610>"
      ]
     },
     "execution_count": 21,
     "metadata": {},
     "output_type": "execute_result"
    }
   ],
   "source": [
    "count_class_n = df.class_n.sum()\n",
    "count_class_p = df.class_p.sum()\n",
    "\n",
    "ks_table[\"%_class_n\"] = (ks_table.n_class_n / count_class_n) * 100\n",
    "ks_table[\"%_class_p\"] = (ks_table.n_class_p / count_class_p) * 100\n",
    "\n",
    "ks_table[\"cs_class_n\"] = (ks_table.n_class_n / count_class_n).cumsum() * 100\n",
    "ks_table[\"cs_class_p\"] = (ks_table.n_class_p / count_class_p).cumsum() * 100\n",
    "\n",
    "ks_table[\"cs_diff\"] = np.abs(ks_table[\"cs_class_n\"] - ks_table[\"cs_class_p\"])\n",
    "ks_table.style.format(\n",
    "    \"{:.1f}%\", subset=[\"%_class_n\", \"%_class_p\", \"cs_class_n\", \"cs_class_p\", \"cs_diff\"]\n",
    ")"
   ]
  },
  {
   "cell_type": "markdown",
   "id": "c41cafc4-1ac5-480d-87da-393658e49d25",
   "metadata": {},
   "source": [
    "`%_class_n` for 0th bin is 21 / total number of class_n.   \n",
    "`cs_class_n` is the same but cumulatively summed.  \n",
    "`cs_diff` is the difference between `cs_class_n` and `cs_class_p`"
   ]
  },
  {
   "cell_type": "markdown",
   "id": "829a366b-4d59-42e0-9bb4-f25093c0252c",
   "metadata": {},
   "source": [
    "#### 4. KS\n",
    "\n",
    "KS is the max difference between cumulatively summed rate of target and cumulatively summed non-target. i.e. maximum value of `cs_diff`"
   ]
  },
  {
   "cell_type": "code",
   "execution_count": 22,
   "id": "00d0a067-227f-4bfe-92ba-00935de00151",
   "metadata": {},
   "outputs": [
    {
     "name": "stdout",
     "output_type": "stream",
     "text": [
      "KS = 45.17\n"
     ]
    }
   ],
   "source": [
    "ks = ks_table[\"cs_diff\"].max()\n",
    "\n",
    "print(f\"KS = {round(ks,2)}\")"
   ]
  },
  {
   "cell_type": "markdown",
   "id": "e2593662-54e9-4972-9906-683d5bca6817",
   "metadata": {},
   "source": [
    "### Plot Binned KS"
   ]
  },
  {
   "cell_type": "code",
   "execution_count": 24,
   "id": "fce9db6f-abb8-41fa-83c2-9aee725e2df2",
   "metadata": {},
   "outputs": [
    {
     "data": {
      "image/png": "[encoded data removed]",
      "text/plain": [
       "<Figure size 432x288 with 1 Axes>"
      ]
     },
     "metadata": {
      "needs_background": "light"
     },
     "output_type": "display_data"
    }
   ],
   "source": [
    "fig, ax = plt.subplots(1, 1)\n",
    "ax.plot(ks_table[\"cs_class_n\"], label=\"Class 0\")\n",
    "ax.plot(ks_table[\"cs_class_p\"], label=\"Class 1\")\n",
    "ks_tier = ks_table[\"cs_diff\"].idxmax()\n",
    "ax.axvline(\n",
    "    x=ks_tier,\n",
    "    ymin=ks_table.loc[ks_tier, \"cs_class_n\"] / 100,\n",
    "    ymax=ks_table.loc[ks_tier, \"cs_class_p\"] / 100,\n",
    "    c=\"black\",\n",
    "    linewidth=1,\n",
    "    linestyle=\"--\",\n",
    "    label=f\"KS: {ks_table['cs_diff'].max().round(2)} at tier:{ks_tier}\",\n",
    ")\n",
    "ax.set_xlim([0, 9])\n",
    "ax.set_ylim([0, 100])\n",
    "ax.set_xlabel(\"Tiers\")\n",
    "ax.set_ylabel(\"Cumilative Percentage\")\n",
    "ax.set_xticks(ks_table.index)\n",
    "ax.grid()\n",
    "ax.legend()\n",
    "plt.show()"
   ]
  },
  {
   "cell_type": "markdown",
   "id": "cf9f12be-c084-4c66-8fc3-ea864f63b15d",
   "metadata": {},
   "source": [
    "```{note}\n",
    "Binned KS are useful when you intent to have different actions for differnt bins. For example in the case of credit scoring you might give different APRs to customers falling in different bins. \n",
    "```"
   ]
  }
 ],
 "metadata": {
  "interpreter": {
   "hash": "5d3a186515595ffa210d29fcaa8f96bd51132ffbb82ab27895e4d7bd4da0dc1a"
  },
  "kernelspec": {
   "display_name": "Python 3",
   "language": "python",
   "name": "python3"
  },
  "language_info": {
   "codemirror_mode": {
    "name": "ipython",
    "version": 3
   },
   "file_extension": ".py",
   "mimetype": "text/x-python",
   "name": "python",
   "nbconvert_exporter": "python",
   "pygments_lexer": "ipython3",
   "version": "3.8.13"
  }
 },
 "nbformat": 4,
 "nbformat_minor": 5
}
