{
 "cells": [
  {
   "cell_type": "markdown",
   "id": "a065db92-4fe8-4a2e-b5f6-830b5c21aa78",
   "metadata": {},
   "source": [
    "# KS"
   ]
  },
  {
   "cell_type": "markdown",
   "id": "ad3f61e8-7d92-4a78-ba27-9ce14165f470",
   "metadata": {},
   "source": [
    "Kolmogorov-Smirnov metric (ks metric) is derived from K-S test. K-S test measures the distance between two plotted cumulative distribution functions (CDF).   \n",
    "To use it as a metric for classification machine learning problem we see the distance of plotted CDF of target and non-target.  \n",
    "The model that produces the greatest amount of separability between target and non-target distribution would be considered the better model.  \n"
   ]
  },
  {
   "cell_type": "markdown",
   "id": "aaee67fd-df9f-4c08-8a6c-73782b5aa69a",
   "metadata": {},
   "source": [
    "KS metric ranges from 0 to 100."
   ]
  },
  {
   "cell_type": "markdown",
   "id": "5ca14d37-acba-4dfa-ae69-df2c9503a4a0",
   "metadata": {},
   "source": [
    "## Why KS?\n",
    "\n",
    "- KS is scale-invariant. It measures how well predictions are ranked, rather than their absolute values.\n",
    "\n",
    "- KS is threshold-invariant. It measures the quality of the model's predictions irrespective of what classification threshold is chosen."
   ]
  },
  {
   "cell_type": "markdown",
   "id": "8faa9c31-facd-4f28-879f-0aaad8efef63",
   "metadata": {},
   "source": [
    "## KS Table"
   ]
  },
  {
   "cell_type": "code",
   "execution_count": 4,
   "id": "88234fee-6810-422c-af27-dfe68cf93241",
   "metadata": {
    "tags": [
     "hide-cell"
    ]
   },
   "outputs": [],
   "source": [
    "import numpy as np\n",
    "import pandas as pd\n",
    "from matplotlib import pyplot as plt\n",
    "from sklearn.datasets import make_classification\n",
    "from sklearn.linear_model import LogisticRegression\n",
    "from sklearn.metrics import accuracy_score, f1_score, roc_auc_score\n",
    "from sklearn.model_selection import train_test_split"
   ]
  },
  {
   "cell_type": "code",
   "execution_count": 5,
   "id": "2d7a5149-2724-4b66-ab44-cbc92328a43a",
   "metadata": {
    "tags": [
     "hide-cell"
    ]
   },
   "outputs": [
    {
     "name": "stdout",
     "output_type": "stream",
     "text": [
      "X_train.shape = (670, 20)\n",
      "y_train.shape = (670,)\n",
      "X_test.shape = (330, 20)\n",
      "y_test.shape = (330,)\n",
      "y_train_pred.shape = (670,)\n",
      "y_test_pred.shape = (330,)\n"
     ]
    }
   ],
   "source": [
    "# sample dataset and sample model\n",
    "\n",
    "# make sample dataset\n",
    "X, y = make_classification(\n",
    "    n_samples=1000, class_sep=0.3, random_state=0\n",
    ")  # 1000 samples with 20 features\n",
    "\n",
    "# split train-test\n",
    "X_train, X_test, y_train, y_test = train_test_split(\n",
    "    X, y, test_size=0.33, random_state=42\n",
    ")\n",
    "\n",
    "# simple Logistic Model\n",
    "model = LogisticRegression(random_state=23)\n",
    "model.fit(X_train, y_train)\n",
    "\n",
    "# predictions\n",
    "y_train_pred = model.predict_proba(X_train)[:, 1]\n",
    "y_test_pred = model.predict_proba(X_test)[:, 1]\n",
    "\n",
    "print(f\"{X_train.shape = }\\n{y_train.shape = }\")\n",
    "print(f\"{X_test.shape = }\\n{y_test.shape = }\")\n",
    "print(f\"{y_train_pred.shape = }\\n{y_test_pred.shape = }\")"
   ]
  },
  {
   "cell_type": "markdown",
   "id": "cc5d67b8-ce1a-454a-af16-0df8b0d2831f",
   "metadata": {
    "tags": []
   },
   "source": [
    "### Group into Deciles"
   ]
  },
  {
   "cell_type": "code",
   "execution_count": 6,
   "id": "e3ff40dc-2f8e-4a8d-b440-6b67a2f47c23",
   "metadata": {},
   "outputs": [
    {
     "data": {
      "text/html": [
       "<div>\n",
       "<style scoped>\n",
       "    .dataframe tbody tr th:only-of-type {\n",
       "        vertical-align: middle;\n",
       "    }\n",
       "\n",
       "    .dataframe tbody tr th {\n",
       "        vertical-align: top;\n",
       "    }\n",
       "\n",
       "    .dataframe thead th {\n",
       "        text-align: right;\n",
       "    }\n",
       "</style>\n",
       "<table border=\"1\" class=\"dataframe\">\n",
       "  <thead>\n",
       "    <tr style=\"text-align: right;\">\n",
       "      <th></th>\n",
       "      <th>score</th>\n",
       "      <th>class_0</th>\n",
       "      <th>class_1</th>\n",
       "      <th>bucket</th>\n",
       "    </tr>\n",
       "  </thead>\n",
       "  <tbody>\n",
       "    <tr>\n",
       "      <th>0</th>\n",
       "      <td>0.314387</td>\n",
       "      <td>1</td>\n",
       "      <td>0</td>\n",
       "      <td>1</td>\n",
       "    </tr>\n",
       "    <tr>\n",
       "      <th>1</th>\n",
       "      <td>0.131233</td>\n",
       "      <td>1</td>\n",
       "      <td>0</td>\n",
       "      <td>0</td>\n",
       "    </tr>\n",
       "    <tr>\n",
       "      <th>2</th>\n",
       "      <td>0.159981</td>\n",
       "      <td>0</td>\n",
       "      <td>1</td>\n",
       "      <td>0</td>\n",
       "    </tr>\n",
       "    <tr>\n",
       "      <th>3</th>\n",
       "      <td>0.350067</td>\n",
       "      <td>1</td>\n",
       "      <td>0</td>\n",
       "      <td>2</td>\n",
       "    </tr>\n",
       "    <tr>\n",
       "      <th>4</th>\n",
       "      <td>0.830346</td>\n",
       "      <td>0</td>\n",
       "      <td>1</td>\n",
       "      <td>8</td>\n",
       "    </tr>\n",
       "  </tbody>\n",
       "</table>\n",
       "</div>"
      ],
      "text/plain": [
       "      score  class_0  class_1 bucket\n",
       "0  0.314387        1        0      1\n",
       "1  0.131233        1        0      0\n",
       "2  0.159981        0        1      0\n",
       "3  0.350067        1        0      2\n",
       "4  0.830346        0        1      8"
      ]
     },
     "execution_count": 6,
     "metadata": {},
     "output_type": "execute_result"
    }
   ],
   "source": [
    "df = pd.DataFrame()\n",
    "df[\"score\"] = y_test_pred\n",
    "# one hot encoding the dependent variable\n",
    "df[\"class_0\"] = 1 - y_test\n",
    "df[\"class_1\"] = y_test\n",
    "\n",
    "# bucket/bin prediction after ordering them\n",
    "df[\"bucket\"] = pd.qcut(df.score.rank(method=\"first\"), 10, labels=list(range(0, 10, 1)))\n",
    "\n",
    "df.head()"
   ]
  },
  {
   "cell_type": "markdown",
   "id": "f4e9b4da-0434-4680-947e-6b520971422b",
   "metadata": {},
   "source": [
    "### Target Distribution"
   ]
  },
  {
   "cell_type": "code",
   "execution_count": 7,
   "id": "cf753454-ede4-4bb8-8f24-00b24a2869f3",
   "metadata": {},
   "outputs": [
    {
     "data": {
      "text/html": [
       "<div>\n",
       "<style scoped>\n",
       "    .dataframe tbody tr th:only-of-type {\n",
       "        vertical-align: middle;\n",
       "    }\n",
       "\n",
       "    .dataframe tbody tr th {\n",
       "        vertical-align: top;\n",
       "    }\n",
       "\n",
       "    .dataframe thead th {\n",
       "        text-align: right;\n",
       "    }\n",
       "</style>\n",
       "<table border=\"1\" class=\"dataframe\">\n",
       "  <thead>\n",
       "    <tr style=\"text-align: right;\">\n",
       "      <th></th>\n",
       "      <th>min_score</th>\n",
       "      <th>max_score</th>\n",
       "      <th>n_class_0</th>\n",
       "      <th>n_class_1</th>\n",
       "      <th>n_total</th>\n",
       "    </tr>\n",
       "  </thead>\n",
       "  <tbody>\n",
       "    <tr>\n",
       "      <th>0</th>\n",
       "      <td>0.035500</td>\n",
       "      <td>0.224967</td>\n",
       "      <td>21</td>\n",
       "      <td>12</td>\n",
       "      <td>33</td>\n",
       "    </tr>\n",
       "    <tr>\n",
       "      <th>1</th>\n",
       "      <td>0.226262</td>\n",
       "      <td>0.327676</td>\n",
       "      <td>27</td>\n",
       "      <td>6</td>\n",
       "      <td>33</td>\n",
       "    </tr>\n",
       "    <tr>\n",
       "      <th>2</th>\n",
       "      <td>0.328646</td>\n",
       "      <td>0.377685</td>\n",
       "      <td>19</td>\n",
       "      <td>14</td>\n",
       "      <td>33</td>\n",
       "    </tr>\n",
       "    <tr>\n",
       "      <th>3</th>\n",
       "      <td>0.381554</td>\n",
       "      <td>0.437930</td>\n",
       "      <td>25</td>\n",
       "      <td>8</td>\n",
       "      <td>33</td>\n",
       "    </tr>\n",
       "    <tr>\n",
       "      <th>4</th>\n",
       "      <td>0.442221</td>\n",
       "      <td>0.491976</td>\n",
       "      <td>23</td>\n",
       "      <td>10</td>\n",
       "      <td>33</td>\n",
       "    </tr>\n",
       "    <tr>\n",
       "      <th>5</th>\n",
       "      <td>0.495512</td>\n",
       "      <td>0.575724</td>\n",
       "      <td>17</td>\n",
       "      <td>16</td>\n",
       "      <td>33</td>\n",
       "    </tr>\n",
       "    <tr>\n",
       "      <th>6</th>\n",
       "      <td>0.577944</td>\n",
       "      <td>0.671211</td>\n",
       "      <td>9</td>\n",
       "      <td>24</td>\n",
       "      <td>33</td>\n",
       "    </tr>\n",
       "    <tr>\n",
       "      <th>7</th>\n",
       "      <td>0.671344</td>\n",
       "      <td>0.757899</td>\n",
       "      <td>6</td>\n",
       "      <td>27</td>\n",
       "      <td>33</td>\n",
       "    </tr>\n",
       "    <tr>\n",
       "      <th>8</th>\n",
       "      <td>0.765076</td>\n",
       "      <td>0.874251</td>\n",
       "      <td>4</td>\n",
       "      <td>29</td>\n",
       "      <td>33</td>\n",
       "    </tr>\n",
       "    <tr>\n",
       "      <th>9</th>\n",
       "      <td>0.874542</td>\n",
       "      <td>0.988560</td>\n",
       "      <td>7</td>\n",
       "      <td>26</td>\n",
       "      <td>33</td>\n",
       "    </tr>\n",
       "  </tbody>\n",
       "</table>\n",
       "</div>"
      ],
      "text/plain": [
       "   min_score  max_score  n_class_0  n_class_1  n_total\n",
       "0   0.035500   0.224967         21         12       33\n",
       "1   0.226262   0.327676         27          6       33\n",
       "2   0.328646   0.377685         19         14       33\n",
       "3   0.381554   0.437930         25          8       33\n",
       "4   0.442221   0.491976         23         10       33\n",
       "5   0.495512   0.575724         17         16       33\n",
       "6   0.577944   0.671211          9         24       33\n",
       "7   0.671344   0.757899          6         27       33\n",
       "8   0.765076   0.874251          4         29       33\n",
       "9   0.874542   0.988560          7         26       33"
      ]
     },
     "execution_count": 7,
     "metadata": {},
     "output_type": "execute_result"
    }
   ],
   "source": [
    "grouped = df.groupby(\"bucket\", as_index=False)\n",
    "\n",
    "ks_table = pd.DataFrame()\n",
    "ks_table[\"min_score\"] = grouped.min().score\n",
    "ks_table[\"max_score\"] = grouped.max().score\n",
    "ks_table[\"n_class_0\"] = grouped.sum().class_0\n",
    "ks_table[\"n_class_1\"] = grouped.sum().class_1\n",
    "ks_table[\"n_total\"] = ks_table.n_class_0 + ks_table.n_class_1\n",
    "\n",
    "ks_table"
   ]
  },
  {
   "cell_type": "markdown",
   "id": "4b4c7a1f-949d-4900-a887-f52d43317dee",
   "metadata": {},
   "source": [
    "```{note}\n",
    "Sometimes DV: 0 or 1 is called Goods/Bads. Depending on the problem either 0 or 1 is defined as `good`.\n",
    "```"
   ]
  },
  {
   "cell_type": "code",
   "execution_count": 8,
   "id": "27dd00a0-3dde-45cb-bb8a-b0f7e9ddc95e",
   "metadata": {},
   "outputs": [
    {
     "data": {
      "text/plain": [
       "<AxesSubplot:>"
      ]
     },
     "execution_count": 8,
     "metadata": {},
     "output_type": "execute_result"
    },
    {
     "data": {
      "image/png": "[encoded data removed]",
      "text/plain": [
       "<Figure size 432x288 with 1 Axes>"
      ]
     },
     "metadata": {
      "needs_background": "light"
     },
     "output_type": "display_data"
    }
   ],
   "source": [
    "ks_table[\n",
    "    [\n",
    "        \"n_class_0\",\n",
    "        \"n_class_1\",\n",
    "    ]\n",
    "].plot.bar(stacked=True)"
   ]
  },
  {
   "cell_type": "markdown",
   "id": "f3026cb4-48ff-4f25-8487-c12dcdff4e91",
   "metadata": {},
   "source": [
    "The graph above show the difference in classification for each decicles. \n",
    "\n",
    "```{note}\n",
    "This difference varies depending on performance.\n",
    "```{list-table}\n",
    ":header-rows: 1\n",
    "\n",
    "* - KS 25\n",
    "  - KS 50\n",
    "  - KS 75\n",
    "* - ![alt](../_assets/ks_25.png) \n",
    "  - ![alt](../_assets/ks_50.png)\n",
    "  - ![alt](../_assets/ks_75.png)\n",
    "```\n",
    "\n",
    "```"
   ]
  },
  {
   "cell_type": "markdown",
   "id": "ab757bbe-cc8e-4322-a825-2597f9c7dd5c",
   "metadata": {},
   "source": [
    "### Calculating KS"
   ]
  },
  {
   "cell_type": "code",
   "execution_count": 9,
   "id": "d3c7b6ff-4a9a-4eb7-8721-28b26bba09f9",
   "metadata": {},
   "outputs": [
    {
     "data": {
      "text/html": [
       "<style type=\"text/css\">\n",
       "</style>\n",
       "<table id=\"T_73b28\">\n",
       "  <thead>\n",
       "    <tr>\n",
       "      <th class=\"blank level0\" >&nbsp;</th>\n",
       "      <th id=\"T_73b28_level0_col0\" class=\"col_heading level0 col0\" >min_score</th>\n",
       "      <th id=\"T_73b28_level0_col1\" class=\"col_heading level0 col1\" >max_score</th>\n",
       "      <th id=\"T_73b28_level0_col2\" class=\"col_heading level0 col2\" >n_class_0</th>\n",
       "      <th id=\"T_73b28_level0_col3\" class=\"col_heading level0 col3\" >n_class_1</th>\n",
       "      <th id=\"T_73b28_level0_col4\" class=\"col_heading level0 col4\" >n_total</th>\n",
       "      <th id=\"T_73b28_level0_col5\" class=\"col_heading level0 col5\" >%_class_0</th>\n",
       "      <th id=\"T_73b28_level0_col6\" class=\"col_heading level0 col6\" >%_class_1</th>\n",
       "      <th id=\"T_73b28_level0_col7\" class=\"col_heading level0 col7\" >cs_class_0</th>\n",
       "      <th id=\"T_73b28_level0_col8\" class=\"col_heading level0 col8\" >cs_class_1</th>\n",
       "      <th id=\"T_73b28_level0_col9\" class=\"col_heading level0 col9\" >cs_diff</th>\n",
       "    </tr>\n",
       "  </thead>\n",
       "  <tbody>\n",
       "    <tr>\n",
       "      <th id=\"T_73b28_level0_row0\" class=\"row_heading level0 row0\" >0</th>\n",
       "      <td id=\"T_73b28_row0_col0\" class=\"data row0 col0\" >0.035500</td>\n",
       "      <td id=\"T_73b28_row0_col1\" class=\"data row0 col1\" >0.224967</td>\n",
       "      <td id=\"T_73b28_row0_col2\" class=\"data row0 col2\" >21</td>\n",
       "      <td id=\"T_73b28_row0_col3\" class=\"data row0 col3\" >12</td>\n",
       "      <td id=\"T_73b28_row0_col4\" class=\"data row0 col4\" >33</td>\n",
       "      <td id=\"T_73b28_row0_col5\" class=\"data row0 col5\" >13.3%</td>\n",
       "      <td id=\"T_73b28_row0_col6\" class=\"data row0 col6\" >7.0%</td>\n",
       "      <td id=\"T_73b28_row0_col7\" class=\"data row0 col7\" >13.3%</td>\n",
       "      <td id=\"T_73b28_row0_col8\" class=\"data row0 col8\" >7.0%</td>\n",
       "      <td id=\"T_73b28_row0_col9\" class=\"data row0 col9\" >6.3%</td>\n",
       "    </tr>\n",
       "    <tr>\n",
       "      <th id=\"T_73b28_level0_row1\" class=\"row_heading level0 row1\" >1</th>\n",
       "      <td id=\"T_73b28_row1_col0\" class=\"data row1 col0\" >0.226262</td>\n",
       "      <td id=\"T_73b28_row1_col1\" class=\"data row1 col1\" >0.327676</td>\n",
       "      <td id=\"T_73b28_row1_col2\" class=\"data row1 col2\" >27</td>\n",
       "      <td id=\"T_73b28_row1_col3\" class=\"data row1 col3\" >6</td>\n",
       "      <td id=\"T_73b28_row1_col4\" class=\"data row1 col4\" >33</td>\n",
       "      <td id=\"T_73b28_row1_col5\" class=\"data row1 col5\" >17.1%</td>\n",
       "      <td id=\"T_73b28_row1_col6\" class=\"data row1 col6\" >3.5%</td>\n",
       "      <td id=\"T_73b28_row1_col7\" class=\"data row1 col7\" >30.4%</td>\n",
       "      <td id=\"T_73b28_row1_col8\" class=\"data row1 col8\" >10.5%</td>\n",
       "      <td id=\"T_73b28_row1_col9\" class=\"data row1 col9\" >19.9%</td>\n",
       "    </tr>\n",
       "    <tr>\n",
       "      <th id=\"T_73b28_level0_row2\" class=\"row_heading level0 row2\" >2</th>\n",
       "      <td id=\"T_73b28_row2_col0\" class=\"data row2 col0\" >0.328646</td>\n",
       "      <td id=\"T_73b28_row2_col1\" class=\"data row2 col1\" >0.377685</td>\n",
       "      <td id=\"T_73b28_row2_col2\" class=\"data row2 col2\" >19</td>\n",
       "      <td id=\"T_73b28_row2_col3\" class=\"data row2 col3\" >14</td>\n",
       "      <td id=\"T_73b28_row2_col4\" class=\"data row2 col4\" >33</td>\n",
       "      <td id=\"T_73b28_row2_col5\" class=\"data row2 col5\" >12.0%</td>\n",
       "      <td id=\"T_73b28_row2_col6\" class=\"data row2 col6\" >8.1%</td>\n",
       "      <td id=\"T_73b28_row2_col7\" class=\"data row2 col7\" >42.4%</td>\n",
       "      <td id=\"T_73b28_row2_col8\" class=\"data row2 col8\" >18.6%</td>\n",
       "      <td id=\"T_73b28_row2_col9\" class=\"data row2 col9\" >23.8%</td>\n",
       "    </tr>\n",
       "    <tr>\n",
       "      <th id=\"T_73b28_level0_row3\" class=\"row_heading level0 row3\" >3</th>\n",
       "      <td id=\"T_73b28_row3_col0\" class=\"data row3 col0\" >0.381554</td>\n",
       "      <td id=\"T_73b28_row3_col1\" class=\"data row3 col1\" >0.437930</td>\n",
       "      <td id=\"T_73b28_row3_col2\" class=\"data row3 col2\" >25</td>\n",
       "      <td id=\"T_73b28_row3_col3\" class=\"data row3 col3\" >8</td>\n",
       "      <td id=\"T_73b28_row3_col4\" class=\"data row3 col4\" >33</td>\n",
       "      <td id=\"T_73b28_row3_col5\" class=\"data row3 col5\" >15.8%</td>\n",
       "      <td id=\"T_73b28_row3_col6\" class=\"data row3 col6\" >4.7%</td>\n",
       "      <td id=\"T_73b28_row3_col7\" class=\"data row3 col7\" >58.2%</td>\n",
       "      <td id=\"T_73b28_row3_col8\" class=\"data row3 col8\" >23.3%</td>\n",
       "      <td id=\"T_73b28_row3_col9\" class=\"data row3 col9\" >35.0%</td>\n",
       "    </tr>\n",
       "    <tr>\n",
       "      <th id=\"T_73b28_level0_row4\" class=\"row_heading level0 row4\" >4</th>\n",
       "      <td id=\"T_73b28_row4_col0\" class=\"data row4 col0\" >0.442221</td>\n",
       "      <td id=\"T_73b28_row4_col1\" class=\"data row4 col1\" >0.491976</td>\n",
       "      <td id=\"T_73b28_row4_col2\" class=\"data row4 col2\" >23</td>\n",
       "      <td id=\"T_73b28_row4_col3\" class=\"data row4 col3\" >10</td>\n",
       "      <td id=\"T_73b28_row4_col4\" class=\"data row4 col4\" >33</td>\n",
       "      <td id=\"T_73b28_row4_col5\" class=\"data row4 col5\" >14.6%</td>\n",
       "      <td id=\"T_73b28_row4_col6\" class=\"data row4 col6\" >5.8%</td>\n",
       "      <td id=\"T_73b28_row4_col7\" class=\"data row4 col7\" >72.8%</td>\n",
       "      <td id=\"T_73b28_row4_col8\" class=\"data row4 col8\" >29.1%</td>\n",
       "      <td id=\"T_73b28_row4_col9\" class=\"data row4 col9\" >43.7%</td>\n",
       "    </tr>\n",
       "    <tr>\n",
       "      <th id=\"T_73b28_level0_row5\" class=\"row_heading level0 row5\" >5</th>\n",
       "      <td id=\"T_73b28_row5_col0\" class=\"data row5 col0\" >0.495512</td>\n",
       "      <td id=\"T_73b28_row5_col1\" class=\"data row5 col1\" >0.575724</td>\n",
       "      <td id=\"T_73b28_row5_col2\" class=\"data row5 col2\" >17</td>\n",
       "      <td id=\"T_73b28_row5_col3\" class=\"data row5 col3\" >16</td>\n",
       "      <td id=\"T_73b28_row5_col4\" class=\"data row5 col4\" >33</td>\n",
       "      <td id=\"T_73b28_row5_col5\" class=\"data row5 col5\" >10.8%</td>\n",
       "      <td id=\"T_73b28_row5_col6\" class=\"data row5 col6\" >9.3%</td>\n",
       "      <td id=\"T_73b28_row5_col7\" class=\"data row5 col7\" >83.5%</td>\n",
       "      <td id=\"T_73b28_row5_col8\" class=\"data row5 col8\" >38.4%</td>\n",
       "      <td id=\"T_73b28_row5_col9\" class=\"data row5 col9\" >45.2%</td>\n",
       "    </tr>\n",
       "    <tr>\n",
       "      <th id=\"T_73b28_level0_row6\" class=\"row_heading level0 row6\" >6</th>\n",
       "      <td id=\"T_73b28_row6_col0\" class=\"data row6 col0\" >0.577944</td>\n",
       "      <td id=\"T_73b28_row6_col1\" class=\"data row6 col1\" >0.671211</td>\n",
       "      <td id=\"T_73b28_row6_col2\" class=\"data row6 col2\" >9</td>\n",
       "      <td id=\"T_73b28_row6_col3\" class=\"data row6 col3\" >24</td>\n",
       "      <td id=\"T_73b28_row6_col4\" class=\"data row6 col4\" >33</td>\n",
       "      <td id=\"T_73b28_row6_col5\" class=\"data row6 col5\" >5.7%</td>\n",
       "      <td id=\"T_73b28_row6_col6\" class=\"data row6 col6\" >14.0%</td>\n",
       "      <td id=\"T_73b28_row6_col7\" class=\"data row6 col7\" >89.2%</td>\n",
       "      <td id=\"T_73b28_row6_col8\" class=\"data row6 col8\" >52.3%</td>\n",
       "      <td id=\"T_73b28_row6_col9\" class=\"data row6 col9\" >36.9%</td>\n",
       "    </tr>\n",
       "    <tr>\n",
       "      <th id=\"T_73b28_level0_row7\" class=\"row_heading level0 row7\" >7</th>\n",
       "      <td id=\"T_73b28_row7_col0\" class=\"data row7 col0\" >0.671344</td>\n",
       "      <td id=\"T_73b28_row7_col1\" class=\"data row7 col1\" >0.757899</td>\n",
       "      <td id=\"T_73b28_row7_col2\" class=\"data row7 col2\" >6</td>\n",
       "      <td id=\"T_73b28_row7_col3\" class=\"data row7 col3\" >27</td>\n",
       "      <td id=\"T_73b28_row7_col4\" class=\"data row7 col4\" >33</td>\n",
       "      <td id=\"T_73b28_row7_col5\" class=\"data row7 col5\" >3.8%</td>\n",
       "      <td id=\"T_73b28_row7_col6\" class=\"data row7 col6\" >15.7%</td>\n",
       "      <td id=\"T_73b28_row7_col7\" class=\"data row7 col7\" >93.0%</td>\n",
       "      <td id=\"T_73b28_row7_col8\" class=\"data row7 col8\" >68.0%</td>\n",
       "      <td id=\"T_73b28_row7_col9\" class=\"data row7 col9\" >25.0%</td>\n",
       "    </tr>\n",
       "    <tr>\n",
       "      <th id=\"T_73b28_level0_row8\" class=\"row_heading level0 row8\" >8</th>\n",
       "      <td id=\"T_73b28_row8_col0\" class=\"data row8 col0\" >0.765076</td>\n",
       "      <td id=\"T_73b28_row8_col1\" class=\"data row8 col1\" >0.874251</td>\n",
       "      <td id=\"T_73b28_row8_col2\" class=\"data row8 col2\" >4</td>\n",
       "      <td id=\"T_73b28_row8_col3\" class=\"data row8 col3\" >29</td>\n",
       "      <td id=\"T_73b28_row8_col4\" class=\"data row8 col4\" >33</td>\n",
       "      <td id=\"T_73b28_row8_col5\" class=\"data row8 col5\" >2.5%</td>\n",
       "      <td id=\"T_73b28_row8_col6\" class=\"data row8 col6\" >16.9%</td>\n",
       "      <td id=\"T_73b28_row8_col7\" class=\"data row8 col7\" >95.6%</td>\n",
       "      <td id=\"T_73b28_row8_col8\" class=\"data row8 col8\" >84.9%</td>\n",
       "      <td id=\"T_73b28_row8_col9\" class=\"data row8 col9\" >10.7%</td>\n",
       "    </tr>\n",
       "    <tr>\n",
       "      <th id=\"T_73b28_level0_row9\" class=\"row_heading level0 row9\" >9</th>\n",
       "      <td id=\"T_73b28_row9_col0\" class=\"data row9 col0\" >0.874542</td>\n",
       "      <td id=\"T_73b28_row9_col1\" class=\"data row9 col1\" >0.988560</td>\n",
       "      <td id=\"T_73b28_row9_col2\" class=\"data row9 col2\" >7</td>\n",
       "      <td id=\"T_73b28_row9_col3\" class=\"data row9 col3\" >26</td>\n",
       "      <td id=\"T_73b28_row9_col4\" class=\"data row9 col4\" >33</td>\n",
       "      <td id=\"T_73b28_row9_col5\" class=\"data row9 col5\" >4.4%</td>\n",
       "      <td id=\"T_73b28_row9_col6\" class=\"data row9 col6\" >15.1%</td>\n",
       "      <td id=\"T_73b28_row9_col7\" class=\"data row9 col7\" >100.0%</td>\n",
       "      <td id=\"T_73b28_row9_col8\" class=\"data row9 col8\" >100.0%</td>\n",
       "      <td id=\"T_73b28_row9_col9\" class=\"data row9 col9\" >0.0%</td>\n",
       "    </tr>\n",
       "  </tbody>\n",
       "</table>\n"
      ],
      "text/plain": [
       "<pandas.io.formats.style.Styler at 0x7fb04855d250>"
      ]
     },
     "execution_count": 9,
     "metadata": {},
     "output_type": "execute_result"
    }
   ],
   "source": [
    "count_class_0 = df.class_0.sum()\n",
    "count_class_1 = df.class_1.sum()\n",
    "\n",
    "ks_table[\"%_class_0\"] = (ks_table.n_class_0 / count_class_0) * 100\n",
    "ks_table[\"%_class_1\"] = (ks_table.n_class_1 / count_class_1) * 100\n",
    "\n",
    "ks_table[\"cs_class_0\"] = (ks_table.n_class_0 / count_class_0).cumsum() * 100\n",
    "ks_table[\"cs_class_1\"] = (ks_table.n_class_1 / count_class_1).cumsum() * 100\n",
    "\n",
    "ks_table[\"cs_diff\"] = np.abs(ks_table[\"cs_class_0\"] - ks_table[\"cs_class_1\"])\n",
    "\n",
    "ks_table.style.format(\n",
    "    \"{:.1f}%\", subset=[\"%_class_0\", \"%_class_1\", \"cs_class_0\", \"cs_class_1\", \"cs_diff\"]\n",
    ")"
   ]
  },
  {
   "cell_type": "markdown",
   "id": "4c1427e5-a5b7-48cd-99a7-ce399f5a7be2",
   "metadata": {},
   "source": [
    "`%_class_0` for 0th bin is 21 / total number of class_0.   \n",
    "`cs_class_0` is the same but cumulatively summed.  \n",
    "`cs_diff` is the difference between `cs_class_0` and `cs_class_1`"
   ]
  },
  {
   "cell_type": "markdown",
   "id": "d6c641c3-6f6c-4239-bf4d-321c43f2563e",
   "metadata": {},
   "source": [
    "#### KS\n",
    "\n",
    "KS is the max difference between cumulatively summed rate of target and cumulatively summed non-target. i.e. maximum value of `cs_diff`"
   ]
  },
  {
   "cell_type": "code",
   "execution_count": 10,
   "id": "3cd6b2a6-cd39-40a6-b1f3-b7ad6db35b80",
   "metadata": {},
   "outputs": [
    {
     "name": "stdout",
     "output_type": "stream",
     "text": [
      "KS = 45.17\n"
     ]
    }
   ],
   "source": [
    "ks = ks_table[\"cs_diff\"].max()\n",
    "print(f\"KS = {round(ks,2)}\")"
   ]
  },
  {
   "cell_type": "markdown",
   "id": "908bb87d-2f71-4692-9bdb-75d1fa4b1efc",
   "metadata": {},
   "source": [
    "### Plot Binned KS"
   ]
  },
  {
   "cell_type": "code",
   "execution_count": 11,
   "id": "43cf2ac2-7b77-4e28-8e75-ff7d2ceb27ba",
   "metadata": {},
   "outputs": [
    {
     "data": {
      "image/png": "[encoded data removed]",
      "text/plain": [
       "<Figure size 432x288 with 1 Axes>"
      ]
     },
     "metadata": {
      "needs_background": "light"
     },
     "output_type": "display_data"
    }
   ],
   "source": [
    "fig, ax = plt.subplots(1, 1)\n",
    "ax.plot(ks_table[\"cs_class_0\"], label=\"Class 0\")\n",
    "ax.plot(ks_table[\"cs_class_1\"], label=\"Class 1\")\n",
    "ks_tier = ks_table[\"cs_diff\"].idxmax()\n",
    "ax.axvline(\n",
    "    x=ks_tier,\n",
    "    ymin=ks_table.loc[ks_tier, \"cs_class_0\"] / 100,\n",
    "    ymax=ks_table.loc[ks_tier, \"cs_class_1\"] / 100,\n",
    "    c=\"black\",\n",
    "    linewidth=1,\n",
    "    linestyle=\"--\",\n",
    "    label=f\"KS: {ks_table['cs_diff'].max().round(2)} at tier:{ks_tier}\",\n",
    ")\n",
    "ax.set_xlim([0, 9])\n",
    "ax.set_ylim([0, 100])\n",
    "ax.set_xlabel(\"Tiers\")\n",
    "ax.set_ylabel(\"Cumilative Percentage\")\n",
    "ax.set_xticks(ks_table.index)\n",
    "ax.grid()\n",
    "ax.legend()\n",
    "plt.show()"
   ]
  },
  {
   "cell_type": "markdown",
   "id": "c7fe1dfa-6b93-4d4b-89b7-2e61d41875fa",
   "metadata": {},
   "source": [
    "```{note}\n",
    "Binned KS are useful when you intent to have different actions for differnt bins. For example in the case of credit scoring you might give a higher APR (interest rate) to people falling in higher bins.\n",
    "```"
   ]
  },
  {
   "cell_type": "markdown",
   "id": "8e74a910-400b-4f89-a3f3-3a887bef75d8",
   "metadata": {},
   "source": [
    "## True KS  "
   ]
  },
  {
   "cell_type": "markdown",
   "id": "db5e4512-40a4-447b-89ed-7a1643a997bc",
   "metadata": {},
   "source": [
    "Not all problems need the prediction probabilities to be group. True KS would be the max separability between target and non-target distribution without grouping them.   "
   ]
  },
  {
   "cell_type": "code",
   "execution_count": 12,
   "id": "c7f5eed0-0ed9-4a1d-b3b8-3041b9312856",
   "metadata": {},
   "outputs": [
    {
     "data": {
      "text/plain": [
       "46.92"
      ]
     },
     "execution_count": 12,
     "metadata": {},
     "output_type": "execute_result"
    }
   ],
   "source": [
    "def ks_score(y_true, y_pred):\n",
    "    # create 2D array with y_true, y_pred\n",
    "    ks_arr = np.dstack((y_true, y_pred))[0]\n",
    "\n",
    "    # order by y_pred\n",
    "    ks_arr = ks_arr[np.argsort(ks_arr[:, 1], kind=\"stable\")]\n",
    "\n",
    "    # counts of y_true\n",
    "    y_true_counts = np.unique(ks_arr[:, 0], return_counts=True)[1]\n",
    "\n",
    "    # cumilative sum by total counts of 0s and 1s\n",
    "    cs_0 = (1 - ks_arr[:, 0]).cumsum() / y_true_counts[0]\n",
    "    cs_1 = (ks_arr[:, 0]).cumsum() / y_true_counts[1]\n",
    "\n",
    "    # seperation between cumilative percent\n",
    "    cs_diff = np.abs(cs_0 - cs_1)\n",
    "\n",
    "    # ks : max seperation\n",
    "    ks = cs_diff.max() * 100\n",
    "\n",
    "    return ks.round(2)\n",
    "\n",
    "\n",
    "ks_score(y_test, y_test_pred)"
   ]
  },
  {
   "cell_type": "code",
   "execution_count": 13,
   "id": "1dcd2e90",
   "metadata": {},
   "outputs": [
    {
     "data": {
      "image/png": "[encoded data removed]",
      "text/plain": [
       "<Figure size 432x288 with 1 Axes>"
      ]
     },
     "metadata": {
      "needs_background": "light"
     },
     "output_type": "display_data"
    }
   ],
   "source": [
    "def ks_plot(y_true, y_pred):\n",
    "    # create 2D array with y_true, y_pred\n",
    "    ks_arr = np.dstack((y_true, y_pred))[0]\n",
    "\n",
    "    # order by y_pred\n",
    "    ks_arr = ks_arr[np.argsort(ks_arr[:, 1], kind=\"stable\")]\n",
    "\n",
    "    # counts of y_true\n",
    "    y_true_counts = np.unique(ks_arr[:, 0], return_counts=True)[1]\n",
    "\n",
    "    # cumilative sum by total counts of 0s and 1s\n",
    "    cs_0 = ((1 - ks_arr[:, 0]).cumsum() / y_true_counts[0]) * 100\n",
    "    cs_1 = ((ks_arr[:, 0]).cumsum() / y_true_counts[1]) * 100\n",
    "\n",
    "    # seperation between cumilative percent\n",
    "    cs_diff = np.abs(cs_0 - cs_1)\n",
    "\n",
    "    # ks : max seperation\n",
    "    ks = cs_diff.max()\n",
    "\n",
    "\n",
    "    fig, ax = plt.subplots(1, 1)\n",
    "    # plot cumilative percent\n",
    "    ax.plot(ks_arr[:, 1], cs_0, label=\"Class 0\")\n",
    "    ax.plot(ks_arr[:, 1], cs_1, label=\"Class 1\")\n",
    "    \n",
    "    # plot seperation\n",
    "    ks_threshold = ks_arr[cs_diff.argmax(), 1]\n",
    "    ax.axvline(\n",
    "        x=ks_threshold,\n",
    "        ymin=cs_1[cs_diff.argmax()] / 100,\n",
    "        ymax=cs_0[cs_diff.argmax()] / 100,\n",
    "        c=\"black\",\n",
    "        linewidth=1,\n",
    "        linestyle=\"--\",\n",
    "        label=f\"KS: {ks.round(2)} at {ks_threshold.round(3)}\",\n",
    "    )\n",
    "   \n",
    "    # plot settings\n",
    "    ax.set_xlim([0, 1])\n",
    "    ax.set_ylim([0, 100])\n",
    "    ax.set_xlabel(\"Threshold\")\n",
    "    ax.set_ylabel(\"Percentage below threshold\")\n",
    "    ax.set_xticks(np.linspace(0,1,11))\n",
    "    ax.grid()\n",
    "    ax.legend()\n",
    "\n",
    "    plt.show()\n",
    "\n",
    "\n",
    "ks_plot(y_test, y_test_pred)"
   ]
  },
  {
   "cell_type": "code",
   "execution_count": 33,
   "id": "842afe3f",
   "metadata": {},
   "outputs": [
    {
     "name": "stderr",
     "output_type": "stream",
     "text": [
      "No artists with labels found to put in legend.  Note that artists whose label start with an underscore are ignored when legend() is called with no argument.\n"
     ]
    },
    {
     "data": {
      "image/png": "[encoded data removed]",
      "text/plain": [
       "<Figure size 432x288 with 1 Axes>"
      ]
     },
     "metadata": {
      "needs_background": "light"
     },
     "output_type": "display_data"
    }
   ],
   "source": [
    "def ks_plot(y_true, y_pred):\n",
    "    # create 2D array with y_true, y_pred\n",
    "    ks_arr = np.dstack((y_true, y_pred))[0]\n",
    "\n",
    "    # order by y_pred\n",
    "    ks_arr = ks_arr[np.argsort(ks_arr[:, 1], kind=\"stable\")]\n",
    "\n",
    "    # counts of y_true\n",
    "    y_true_counts = np.unique(ks_arr[:, 0], return_counts=True)[1]\n",
    "\n",
    "    # cumilative sum by total counts of 0s and 1s\n",
    "    cs_0 = ((1 - ks_arr[:, 0]).cumsum() / y_true_counts[0]) \n",
    "    cs_1 = ((ks_arr[:, 0]).cumsum() / y_true_counts[1]) \n",
    "\n",
    "    # seperation between cumilative percent\n",
    "    cs_diff = np.abs(cs_0 - cs_1)\n",
    "\n",
    "    # ks : max seperation\n",
    "    ks = cs_diff.max()\n",
    "\n",
    "\n",
    "    fig, ax = plt.subplots(1, 1)\n",
    "    # plot cumilative percent\n",
    "    ax.plot(cs_0, cs_1)\n",
    "   \n",
    "    # plot settings\n",
    "    # ax.set_xlim([0, 1])\n",
    "    # ax.set_ylim([0, 100])\n",
    "    # ax.set_xlabel(\"Threshold\")\n",
    "    # ax.set_ylabel(\"Percentage below threshold\")\n",
    "    # ax.set_xticks(np.linspace(0,1,11))\n",
    "    # ax.grid()\n",
    "    ax.legend()\n",
    "\n",
    "    plt.show()\n",
    "\n",
    "\n",
    "ks_plot(y_test, y_test_pred)"
   ]
  },
  {
   "cell_type": "code",
   "execution_count": 36,
   "id": "d2d9a892",
   "metadata": {},
   "outputs": [
    {
     "data": {
      "text/plain": [
       "array([0.00632911, 0.01265823, 0.01898734, 0.01898734, 0.02531646])"
      ]
     },
     "execution_count": 36,
     "metadata": {},
     "output_type": "execute_result"
    }
   ],
   "source": [
    "ks_arr = np.dstack((y_test, y_test_pred))[0]\n",
    "ks_arr = ks_arr[np.argsort(ks_arr[:, 1], kind=\"stable\")]\n",
    "y_true_counts = np.unique(ks_arr[:, 0], return_counts=True)[1]\n",
    "\n",
    "cs_0 = ((1 - ks_arr[:, 0]).cumsum() / y_true_counts[0]) \n",
    "cs_1 = ((ks_arr[:, 0]).cumsum() / y_true_counts[1]) \n",
    "\n",
    "cs_0[:5]"
   ]
  },
  {
   "cell_type": "code",
   "execution_count": 47,
   "id": "3de860e9",
   "metadata": {},
   "outputs": [
    {
     "data": {
      "text/plain": [
       "(array([0.        , 0.00632911, 0.01265823, 0.01265823, 0.02531646,\n",
       "        0.02531646, 0.03797468, 0.03797468, 0.0443038 , 0.0443038 ,\n",
       "        0.05063291, 0.05063291, 0.05696203, 0.05696203, 0.06329114,\n",
       "        0.06329114, 0.06962025, 0.06962025, 0.07594937, 0.07594937,\n",
       "        0.08227848, 0.08227848, 0.08860759, 0.08860759, 0.09493671,\n",
       "        0.09493671, 0.10126582, 0.10126582, 0.10759494, 0.10759494,\n",
       "        0.11392405, 0.11392405, 0.12025316, 0.12025316, 0.12658228,\n",
       "        0.12658228, 0.13291139, 0.13291139, 0.13924051, 0.13924051,\n",
       "        0.16455696, 0.16455696, 0.17721519, 0.17721519, 0.1835443 ,\n",
       "        0.1835443 , 0.20886076, 0.20886076, 0.21518987, 0.21518987,\n",
       "        0.22151899, 0.22151899, 0.2278481 , 0.2278481 , 0.25316456,\n",
       "        0.25316456, 0.25949367, 0.25949367, 0.26582278, 0.26582278,\n",
       "        0.2721519 , 0.2721519 , 0.27848101, 0.27848101, 0.32911392,\n",
       "        0.32911392, 0.33544304, 0.33544304, 0.34177215, 0.34177215,\n",
       "        0.36708861, 0.36708861, 0.37974684, 0.37974684, 0.41139241,\n",
       "        0.41139241, 0.41772152, 0.41772152, 0.42405063, 0.42405063,\n",
       "        0.43037975, 0.43037975, 0.44936709, 0.44936709, 0.48101266,\n",
       "        0.48101266, 0.55696203, 0.55696203, 0.62025316, 0.62025316,\n",
       "        0.63291139, 0.63291139, 0.63924051, 0.63924051, 0.64556962,\n",
       "        0.64556962, 0.65189873, 0.65189873, 0.67088608, 0.67088608,\n",
       "        0.67721519, 0.67721519, 0.6835443 , 0.6835443 , 0.69620253,\n",
       "        0.69620253, 0.74050633, 0.74050633, 0.75949367, 0.75949367,\n",
       "        0.79746835, 0.79746835, 0.82911392, 0.82911392, 0.86708861,\n",
       "        0.86708861, 0.87341772, 0.87341772, 0.91139241, 0.91139241,\n",
       "        0.92405063, 0.92405063, 0.93037975, 0.93037975, 0.94936709,\n",
       "        0.94936709, 0.9556962 , 0.9556962 , 0.98101266, 0.98101266,\n",
       "        1.        ]),\n",
       " array([0.        , 0.        , 0.        , 0.02325581, 0.02325581,\n",
       "        0.05232558, 0.05232558, 0.15116279, 0.15116279, 0.19186047,\n",
       "        0.19186047, 0.23255814, 0.23255814, 0.27906977, 0.27906977,\n",
       "        0.31395349, 0.31395349, 0.35465116, 0.35465116, 0.36627907,\n",
       "        0.36627907, 0.37209302, 0.37209302, 0.40697674, 0.40697674,\n",
       "        0.41860465, 0.41860465, 0.43604651, 0.43604651, 0.48837209,\n",
       "        0.48837209, 0.51162791, 0.51162791, 0.51744186, 0.51744186,\n",
       "        0.52325581, 0.52325581, 0.58139535, 0.58139535, 0.60465116,\n",
       "        0.60465116, 0.63372093, 0.63372093, 0.63953488, 0.63953488,\n",
       "        0.64534884, 0.64534884, 0.65697674, 0.65697674, 0.6627907 ,\n",
       "        0.6627907 , 0.66860465, 0.66860465, 0.68023256, 0.68023256,\n",
       "        0.68604651, 0.68604651, 0.69186047, 0.69186047, 0.70348837,\n",
       "        0.70348837, 0.70930233, 0.70930233, 0.71511628, 0.71511628,\n",
       "        0.72093023, 0.72093023, 0.73255814, 0.73255814, 0.73837209,\n",
       "        0.73837209, 0.74418605, 0.74418605, 0.75581395, 0.75581395,\n",
       "        0.76744186, 0.76744186, 0.77325581, 0.77325581, 0.77906977,\n",
       "        0.77906977, 0.78488372, 0.78488372, 0.79651163, 0.79651163,\n",
       "        0.80232558, 0.80232558, 0.81395349, 0.81395349, 0.81976744,\n",
       "        0.81976744, 0.83139535, 0.83139535, 0.8372093 , 0.8372093 ,\n",
       "        0.84302326, 0.84302326, 0.84883721, 0.84883721, 0.86627907,\n",
       "        0.86627907, 0.87209302, 0.87209302, 0.89534884, 0.89534884,\n",
       "        0.90116279, 0.90116279, 0.9127907 , 0.9127907 , 0.91860465,\n",
       "        0.91860465, 0.9244186 , 0.9244186 , 0.93023256, 0.93023256,\n",
       "        0.94186047, 0.94186047, 0.95348837, 0.95348837, 0.96511628,\n",
       "        0.96511628, 0.97674419, 0.97674419, 0.98255814, 0.98255814,\n",
       "        0.98837209, 0.98837209, 0.99418605, 0.99418605, 1.        ,\n",
       "        1.        ]),\n",
       " array([1.98856026, 0.98856026, 0.98157639, 0.95311237, 0.94378155,\n",
       "        0.93078708, 0.92485134, 0.87555485, 0.87454245, 0.85291641,\n",
       "        0.84378147, 0.81939717, 0.81892071, 0.78001004, 0.77828278,\n",
       "        0.76629849, 0.76551053, 0.74862157, 0.74074542, 0.73861454,\n",
       "        0.73598691, 0.73458778, 0.73382674, 0.71858545, 0.71084894,\n",
       "        0.69967862, 0.69542518, 0.68930836, 0.68882549, 0.6709363 ,\n",
       "        0.6708464 , 0.66046592, 0.65193827, 0.64653247, 0.6434312 ,\n",
       "        0.64107504, 0.63947664, 0.60529157, 0.60364455, 0.59288787,\n",
       "        0.58301264, 0.57276197, 0.56453431, 0.56443574, 0.55907486,\n",
       "        0.55823372, 0.54668963, 0.54575364, 0.54541263, 0.54165761,\n",
       "        0.54123681, 0.5407927 , 0.53578795, 0.52768388, 0.52344309,\n",
       "        0.52286874, 0.51545937, 0.5115646 , 0.5107115 , 0.50029219,\n",
       "        0.49819553, 0.49551196, 0.4919763 , 0.48826514, 0.47892517,\n",
       "        0.47831033, 0.47171875, 0.46982649, 0.46845225, 0.46562852,\n",
       "        0.45532348, 0.45382855, 0.4513653 , 0.4506772 , 0.4454184 ,\n",
       "        0.4428723 , 0.44222124, 0.43793026, 0.43302526, 0.42948616,\n",
       "        0.42702807, 0.42651319, 0.42296888, 0.42111435, 0.4117878 ,\n",
       "        0.41096334, 0.38927081, 0.3857461 , 0.36962727, 0.36846166,\n",
       "        0.36622075, 0.3634532 , 0.36198377, 0.36148888, 0.35807948,\n",
       "        0.35306635, 0.35006658, 0.34903367, 0.34347863, 0.34057599,\n",
       "        0.3379611 , 0.33390204, 0.33311602, 0.33075446, 0.32864576,\n",
       "        0.3276756 , 0.30474082, 0.30136747, 0.29049644, 0.28582901,\n",
       "        0.27450221, 0.27386638, 0.24532771, 0.24357778, 0.22626216,\n",
       "        0.22330426, 0.2216265 , 0.19915835, 0.17353283, 0.15998113,\n",
       "        0.155667  , 0.14786548, 0.14653985, 0.13804579, 0.1182194 ,\n",
       "        0.10756564, 0.1055907 , 0.0955131 , 0.07714446, 0.06790324,\n",
       "        0.0355004 ]))"
      ]
     },
     "execution_count": 47,
     "metadata": {},
     "output_type": "execute_result"
    }
   ],
   "source": [
    "fpr, tpr, ther = metrics.roc_curve(y_test,  y_test_pred, )\n",
    "fpr, tpr, ther"
   ]
  },
  {
   "cell_type": "code",
   "execution_count": 55,
   "id": "a4b63748",
   "metadata": {},
   "outputs": [
    {
     "data": {
      "text/plain": [
       "0.4691639682072417"
      ]
     },
     "execution_count": 55,
     "metadata": {},
     "output_type": "execute_result"
    }
   ],
   "source": [
    "pr_diff = np.abs(fpr - tpr)\n",
    "pr_diff.max()"
   ]
  },
  {
   "cell_type": "code",
   "execution_count": 54,
   "id": "f8ba8949",
   "metadata": {},
   "outputs": [
    {
     "data": {
      "text/plain": [
       "(0.16455696202531644, 0.6337209302325582)"
      ]
     },
     "execution_count": 54,
     "metadata": {},
     "output_type": "execute_result"
    }
   ],
   "source": [
    "fpr[pr_diff.argmax()], tpr[pr_diff.argmax()]"
   ]
  },
  {
   "cell_type": "code",
   "execution_count": 51,
   "id": "255d254f",
   "metadata": {},
   "outputs": [
    {
     "data": {
      "image/png": "[encoded data removed]",
      "text/plain": [
       "<Figure size 432x288 with 1 Axes>"
      ]
     },
     "metadata": {
      "needs_background": "light"
     },
     "output_type": "display_data"
    }
   ],
   "source": [
    "plt.plot(tpr)\n",
    "plt.plot(fpr)\n",
    "plt.show()"
   ]
  },
  {
   "cell_type": "code",
   "execution_count": 23,
   "id": "27918711",
   "metadata": {},
   "outputs": [],
   "source": [
    "from sklearn import metrics"
   ]
  },
  {
   "cell_type": "code",
   "execution_count": 64,
   "id": "013bfa8c",
   "metadata": {},
   "outputs": [
    {
     "data": {
      "image/png": "[encoded data removed]",
      "text/plain": [
       "<Figure size 720x720 with 1 Axes>"
      ]
     },
     "metadata": {
      "needs_background": "light"
     },
     "output_type": "display_data"
    }
   ],
   "source": [
    "fpr, tpr, thrs = metrics.roc_curve(y_test,  y_test_pred)\n",
    "auc = metrics.roc_auc_score(y_test, y_test_pred)\n",
    "plt.figure(figsize=(10,10))\n",
    "\n",
    "plt.plot(fpr,tpr,label=\"data 1, auc=\"+str(auc),)\n",
    "plt.grid('both')\n",
    "plt.show()"
   ]
  },
  {
   "cell_type": "code",
   "execution_count": 69,
   "id": "10d1d09e",
   "metadata": {},
   "outputs": [
    {
     "data": {
      "text/plain": [
       "(0.16455696202531644, 0.6337209302325582, 0.5727619688650719)"
      ]
     },
     "execution_count": 69,
     "metadata": {},
     "output_type": "execute_result"
    },
    {
     "data": {
      "text/plain": [
       "<Figure size 720x720 with 0 Axes>"
      ]
     },
     "metadata": {},
     "output_type": "display_data"
    }
   ],
   "source": [
    "plt.figure(figsize=(10,10))\n",
    "\n",
    "gmeans = np.sqrt(tpr * (1-fpr))\n",
    "# locate the index of the largest g-mean\n",
    "ix = np.argmax(gmeans)\n",
    "fpr[ix], tpr[ix], thrs[ix]"
   ]
  },
  {
   "cell_type": "code",
   "execution_count": 67,
   "id": "aa28074a",
   "metadata": {},
   "outputs": [
    {
     "data": {
      "image/png": "[encoded data removed]",
      "text/plain": [
       "<Figure size 720x720 with 1 Axes>"
      ]
     },
     "metadata": {
      "needs_background": "light"
     },
     "output_type": "display_data"
    }
   ],
   "source": [
    "plt.figure(figsize=(10,10))\n",
    "\n",
    "plt.plot((tpr + fpr - 1),label=\"data 1, auc=\"+str(auc),)\n",
    "plt.grid('both')\n",
    "plt.show()"
   ]
  },
  {
   "cell_type": "code",
   "execution_count": 68,
   "id": "c778792c",
   "metadata": {},
   "outputs": [
    {
     "data": {
      "text/plain": [
       "0.5727619688650719"
      ]
     },
     "execution_count": 68,
     "metadata": {},
     "output_type": "execute_result"
    }
   ],
   "source": [
    "def cutoff_youdens_j(fpr,tpr,thresholds):\n",
    "    j_scores = tpr-fpr\n",
    "    j_ordered = sorted(zip(j_scores,thresholds))\n",
    "    return j_ordered[-1][1]\n",
    "cutoff_youdens_j(fpr,tpr,thrs)"
   ]
  },
  {
   "cell_type": "code",
   "execution_count": null,
   "id": "a4e7772a",
   "metadata": {},
   "outputs": [],
   "source": []
  }
 ],
 "metadata": {
  "interpreter": {
   "hash": "5d3a186515595ffa210d29fcaa8f96bd51132ffbb82ab27895e4d7bd4da0dc1a"
  },
  "kernelspec": {
   "display_name": "Python 3",
   "language": "python",
   "name": "python3"
  },
  "language_info": {
   "codemirror_mode": {
    "name": "ipython",
    "version": 3
   },
   "file_extension": ".py",
   "mimetype": "text/x-python",
   "name": "python",
   "nbconvert_exporter": "python",
   "pygments_lexer": "ipython3",
   "version": "3.8.13"
  }
 },
 "nbformat": 4,
 "nbformat_minor": 5
}
