{
 "cells": [
  {
   "cell_type": "markdown",
   "id": "164f7303-4436-4e22-85b0-7f0846d9cdaf",
   "metadata": {},
   "source": [
    "# MLflow"
   ]
  },
  {
   "cell_type": "markdown",
   "id": "2838d515-cea2-48d3-88d9-fe44956a92f6",
   "metadata": {},
   "source": [
    "MLflow is an open source tool that manages machine learning workflows. "
   ]
  },
  {
   "cell_type": "markdown",
   "id": "9a00a11e-2302-47bd-8161-d6eb73dc4454",
   "metadata": {},
   "source": [
    "## Why MLflow? \n",
    "- Track experiments by logging hyperparameters, parameters, metrics, etc.\n",
    "- Collaborate on and compare experiments.\n",
    "- Share data and models. \n",
    "- Easier to deploy models - making the developement and production cycle tighter."
   ]
  },
  {
   "cell_type": "markdown",
   "id": "c6191e03-6f07-42cd-ad48-51c90fc72433",
   "metadata": {},
   "source": [
    "## Installation\n",
    "\n",
    "```bash\n",
    "pip install mlflow\n",
    "```"
   ]
  },
  {
   "cell_type": "markdown",
   "id": "f2cdf440-0b05-4e50-ab3d-869be11da583",
   "metadata": {
    "tags": []
   },
   "source": [
    "## Setup\n",
    "\n",
    "```bash\n",
    "mlflow server\n",
    "```\n",
    "\n",
    "This will launch an mlflow tracking server at http://127.0.0.1:5000. Which will record your experiments, runs and models.\n",
    "\n",
    "```{note}\n",
    "This setup launches mlflow locally, to setup mlflow for a shared space follow [this guide](mlflow_server.ipynb)\n",
    "```"
   ]
  },
  {
   "cell_type": "markdown",
   "id": "ea75fdfb-d7ca-4d88-9fbc-e7af8230d3ee",
   "metadata": {},
   "source": [
    "if you open http://127.0.0.1:5000 in your browser, you would see the following.\n",
    "\n",
    "![](assets/mlflow_ss_1.png)"
   ]
  },
  {
   "cell_type": "markdown",
   "id": "8b2e52f4-787a-4587-a9aa-54a12c6b24a7",
   "metadata": {},
   "source": [
    "# New Experiment"
   ]
  },
  {
   "cell_type": "code",
   "execution_count": 1,
   "id": "5926dc01-0bb0-4fdb-be61-f6423ce1201b",
   "metadata": {
    "tags": [
     "hide-cell"
    ]
   },
   "outputs": [
    {
     "name": "stdout",
     "output_type": "stream",
     "text": [
      "(670, 20) (330, 20) (670,) (330,)\n",
      "[[-0.78669445  0.50422194  0.14499686  0.27023408 -0.41568319  2.29765363\n",
      "  -0.78492925  0.04416244  0.01998036 -1.56917287  1.63286779 -0.89135744\n",
      "   0.08933603 -0.80613711  0.05557609  1.36246637  2.43942101 -1.00591414\n",
      "  -1.80253155 -1.22509769]\n",
      " [ 0.7902646   1.58800122 -1.22745766  2.45455804  1.41597967 -0.9577786\n",
      "  -0.07197365  0.26854757 -0.13132486  1.30857502  0.28586077 -2.27043702\n",
      "   0.01217551  0.97624736  1.23833836 -0.19059581  0.05277705  0.45574733\n",
      "   0.23691436 -0.78250385]] \n",
      " [0 1]\n"
     ]
    }
   ],
   "source": [
    "# sample dataset and model\n",
    "\n",
    "from sklearn.datasets import make_classification\n",
    "from sklearn.model_selection import train_test_split\n",
    "\n",
    "X, y = make_classification(n_samples=1000, class_sep=0.3, random_state=2)\n",
    "\n",
    "X_train, X_test, y_train, y_test = train_test_split(\n",
    "    X, y, test_size=0.33, random_state=0\n",
    ")\n",
    "print(X_train.shape, X_test.shape, y_train.shape, y_test.shape)\n",
    "print(X_train[:2], \"\\n\", y_train[:2])"
   ]
  },
  {
   "cell_type": "code",
   "execution_count": 2,
   "id": "e65ad3d7-c77c-4791-8a68-76d213c0209b",
   "metadata": {},
   "outputs": [],
   "source": [
    "import mlflow"
   ]
  },
  {
   "cell_type": "code",
   "execution_count": 3,
   "id": "5ac46c54-3a9b-4e35-a4b4-4fe9063c52ec",
   "metadata": {},
   "outputs": [],
   "source": [
    "# connect to the mlflow server\n",
    "MLFLOW_TRACKING_URI = \"http://127.0.0.1:5000/\"\n",
    "mlflow.set_tracking_uri(MLFLOW_TRACKING_URI)"
   ]
  },
  {
   "cell_type": "code",
   "execution_count": 5,
   "id": "36a870ae-03dc-4b32-a8e4-21f438ab0c9a",
   "metadata": {},
   "outputs": [],
   "source": [
    "# create experiment and get experiment ID\n",
    "experiment_name = \"testing_mlflow2\"\n",
    "experiment_id = mlflow.create_experiment(experiment_name)"
   ]
  },
  {
   "cell_type": "markdown",
   "id": "bbf90f8c-af36-452d-bd4d-d3d016c39704",
   "metadata": {},
   "source": [
    "if you go back to the mlflow page, you can see a new experiment created with the name."
   ]
  },
  {
   "cell_type": "markdown",
   "id": "dc4d15b1-14c4-4c04-b912-6f7b035623a9",
   "metadata": {},
   "source": [
    "## Log Parameters and Metrics\n",
    "\n",
    "Every experiment contains multiple runs. Each run start by `mlflow.start_run()`"
   ]
  },
  {
   "cell_type": "code",
   "execution_count": 6,
   "id": "23824f2a-2478-4993-8b47-5277774de461",
   "metadata": {},
   "outputs": [],
   "source": [
    "from sklearn.linear_model import LogisticRegression\n",
    "from sklearn.metrics import roc_auc_score"
   ]
  },
  {
   "cell_type": "code",
   "execution_count": 7,
   "id": "c974c996-24e5-4336-b9fb-1a864fff6ebd",
   "metadata": {},
   "outputs": [],
   "source": [
    "with mlflow.start_run(experiment_id=experiment_id):\n",
    "    \n",
    "    penalty = \"l2\"\n",
    "    C = 0.01\n",
    "    \n",
    "    clf = LogisticRegression(penalty=penalty, C=C)\n",
    "    clf.fit(X_train, y_train)\n",
    "    \n",
    "    train_auc = roc_auc_score(y_train, clf.predict_proba(X_train)[:,1])\n",
    "    test_auc = roc_auc_score(y_test, clf.predict_proba(X_test)[:,1])    \n",
    "    \n",
    "    mlflow.log_params({\"penalty\":penalty, \"C\":C}) # logs hyperparameters\n",
    "    mlflow.log_metrics({\"train_auc\":train_auc, \"test_auc\":test_auc}) # logs metrics"
   ]
  },
  {
   "cell_type": "code",
   "execution_count": 8,
   "id": "318a1982-c7a4-4f67-b32f-b58ffa3c4e57",
   "metadata": {},
   "outputs": [],
   "source": [
    "# without `with` statement \n",
    "mlflow.start_run(experiment_id=experiment_id)\n",
    "\n",
    "penalty = \"l2\"\n",
    "C = 0.001\n",
    "\n",
    "clf = LogisticRegression(penalty=penalty, C=C)\n",
    "clf.fit(X_train, y_train)\n",
    "\n",
    "train_auc = roc_auc_score(y_train, clf.predict_proba(X_train)[:,1])\n",
    "test_auc = roc_auc_score(y_test, clf.predict_proba(X_test)[:,1])    \n",
    "\n",
    "mlflow.log_params({\"penalty\":penalty, \"C\":C}) # logs hyperparameters\n",
    "mlflow.log_metrics({\"train_auc\":train_auc, \"test_auc\":test_auc}) # logs metrics\n",
    "\n",
    "mlflow.end_run() # be sure to end the run"
   ]
  },
  {
   "cell_type": "code",
   "execution_count": null,
   "id": "85abd143-774f-4288-a941-491d11d6f6e3",
   "metadata": {},
   "outputs": [],
   "source": []
  }
 ],
 "metadata": {
  "kernelspec": {
   "display_name": "Python 3",
   "language": "python",
   "name": "python3"
  },
  "language_info": {
   "codemirror_mode": {
    "name": "ipython",
    "version": 3
   },
   "file_extension": ".py",
   "mimetype": "text/x-python",
   "name": "python",
   "nbconvert_exporter": "python",
   "pygments_lexer": "ipython3",
   "version": "3.8.13"
  }
 },
 "nbformat": 4,
 "nbformat_minor": 5
}
