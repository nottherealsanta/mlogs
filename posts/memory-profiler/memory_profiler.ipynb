{
 "cells": [
  {
   "cell_type": "markdown",
   "id": "1d4f81f0",
   "metadata": {},
   "source": [
    "---\n",
    "title: \"Memory Profiler\"\n",
    "date: \"2022-11-02\"\n",
    "categories: [memory,python]\n",
    "description: \"Understanding memory usage in Python\"\n",
    "---"
   ]
  },
  {
   "cell_type": "markdown",
   "id": "5941add9-fc0d-4d3c-ba2f-f23fb3c0ab24",
   "metadata": {},
   "source": [
    "# Memory Profiler\n",
    "Understand memory usage of your Python code."
   ]
  },
  {
   "cell_type": "markdown",
   "id": "a8a6f079-fb91-4f76-b114-72fd780fd87e",
   "metadata": {},
   "source": [
    "## Install"
   ]
  },
  {
   "cell_type": "markdown",
   "id": "2842cc92-9bc2-44f3-912c-754c32f2a44d",
   "metadata": {},
   "source": [
    "```bash\n",
    "pip install memory_profiler\n",
    "```"
   ]
  },
  {
   "cell_type": "markdown",
   "id": "7558ff0e-be6d-43dd-9737-1f38d83b0f47",
   "metadata": {
    "execution": {
     "iopub.execute_input": "2022-11-08T12:34:10.182257Z",
     "iopub.status.busy": "2022-11-08T12:34:10.179837Z",
     "iopub.status.idle": "2022-11-08T12:34:10.204909Z",
     "shell.execute_reply": "2022-11-08T12:34:10.203798Z",
     "shell.execute_reply.started": "2022-11-08T12:34:10.182190Z"
    },
    "tags": []
   },
   "source": [
    "## Usage"
   ]
  },
  {
   "cell_type": "markdown",
   "id": "52a3d8db-74d3-4c56-abcc-8068fb004a94",
   "metadata": {},
   "source": [
    "**Example Script :**\n",
    "\n",
    "```bash\n",
    "> cat memory_profiler_sample.py\n",
    "```\n",
    "```python\n",
    "import numpy as np\n",
    "import pandas as pd\n",
    "df = pd.DataFrame(np.random.randint(0,100,size=(100, 4)), columns=list('ABCD'))\n",
    "```"
   ]
  },
  {
   "cell_type": "markdown",
   "id": "88028a20-c309-4a22-81b1-0890e0da6646",
   "metadata": {
    "execution": {
     "iopub.execute_input": "2022-11-08T12:41:27.622570Z",
     "iopub.status.busy": "2022-11-08T12:41:27.620542Z",
     "iopub.status.idle": "2022-11-08T12:41:27.948544Z",
     "shell.execute_reply": "2022-11-08T12:41:27.947819Z",
     "shell.execute_reply.started": "2022-11-08T12:41:27.622487Z"
    }
   },
   "source": [
    "### Profile script\n",
    "\n",
    "```bash\n",
    "mprof run memory_profiler_sample.py\n",
    "```\n",
    "\n",
    "```bash\n",
    "mprof run --interval 1 memory_profiler_sample.py\n",
    "```\n",
    "\n",
    "```bash\n",
    "mprof run -o output.dat memory_profiler_sample.py\n",
    "```\n",
    "\n",
    "::: {.callout-tip}\n",
    "Use ` mprof peak <executable> ` to find the peak memory usage\n",
    ":::"
   ]
  },
  {
   "cell_type": "markdown",
   "id": "5b7f94e7-8f5c-4e9f-b832-2f041d3a1316",
   "metadata": {
    "execution": {
     "iopub.execute_input": "2022-11-08T12:42:42.886798Z",
     "iopub.status.busy": "2022-11-08T12:42:42.886461Z",
     "iopub.status.idle": "2022-11-08T12:42:49.351214Z",
     "shell.execute_reply": "2022-11-08T12:42:49.350718Z",
     "shell.execute_reply.started": "2022-11-08T12:42:42.886782Z"
    }
   },
   "source": [
    "#### Plot the latest result\n",
    "\n",
    "```bash\n",
    "mprof plot\n",
    "```"
   ]
  },
  {
   "cell_type": "markdown",
   "id": "7c2dd3c7-1180-442f-93f0-690063e46f04",
   "metadata": {},
   "source": [
    "#### Clean up\n",
    "removes .dat files\n",
    "\n",
    "```bash\n",
    "mprof clean\n",
    "```"
   ]
  },
  {
   "cell_type": "markdown",
   "id": "de5053e0",
   "metadata": {},
   "source": [
    "::: {.callout-note}\n",
    "Under the hood, `mprof` uses psutil to get the memory usage of the process. This means that the memory usage reported by `mprof` is the same as the one reported by `psutil.Process().memory_info()`. This is different from the memory usage reported by `top` or `htop` which is the memory usage of the process plus the memory usage of its children. This is why `mprof` reports a lower memory usage than `top` or `htop`.\n",
    ":::\n",
    "\n",
    "::: {.callout-note}\n",
    "mprof can be run separately. Use `mprof attach <pid>` to attach to a running process.\n",
    ":::"
   ]
  }
 ],
 "metadata": {
  "kernelspec": {
   "display_name": "Python 3.8.12 64-bit ('3.8.12')",
   "language": "python",
   "name": "python3"
  },
  "language_info": {
   "codemirror_mode": {
    "name": "ipython",
    "version": 3
   },
   "file_extension": ".py",
   "mimetype": "text/x-python",
   "name": "python",
   "nbconvert_exporter": "python",
   "pygments_lexer": "ipython3",
   "version": "3.8.12"
  },
  "vscode": {
   "interpreter": {
    "hash": "80bc0fb44fdfda3356d963db36df2e9bc54a8e4c15419f45e1c5403281c765b5"
   }
  }
 },
 "nbformat": 4,
 "nbformat_minor": 5
}
