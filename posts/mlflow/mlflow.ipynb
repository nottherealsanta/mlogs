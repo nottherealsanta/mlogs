{
 "cells": [
  {
   "cell_type": "raw",
   "id": "a2f8a871",
   "metadata": {},
   "source": [
    "---\n",
    "title: \"MLflow\"\n",
    "date: \"2022-06-01\"\n",
    "categories: [python, ml]\n",
    "image: \"MLflow-logo.png\"\n",
    "description: \"MLflow is an open source platform to manage the ML lifecycle, including experimentation, reproducibility, deployment, and a central model registry.\"\n",
    "---"
   ]
  },
  {
   "cell_type": "markdown",
   "id": "164f7303-4436-4e22-85b0-7f0846d9cdaf",
   "metadata": {},
   "source": [
    "# MLflow"
   ]
  },
  {
   "cell_type": "markdown",
   "id": "2838d515-cea2-48d3-88d9-fe44956a92f6",
   "metadata": {},
   "source": [
    "MLflow is an open source tool that manages machine learning workflows. "
   ]
  },
  {
   "cell_type": "markdown",
   "id": "9a00a11e-2302-47bd-8161-d6eb73dc4454",
   "metadata": {},
   "source": [
    "## Why MLflow? \n",
    "- Track experiments by logging hyperparameters, parameters, metrics, etc.\n",
    "- Collaborate on and compare experiments.\n",
    "- Share data and models. \n",
    "- Easier to deploy models - making the developement and production cycle tighter."
   ]
  },
  {
   "cell_type": "markdown",
   "id": "c6191e03-6f07-42cd-ad48-51c90fc72433",
   "metadata": {},
   "source": [
    "## Installation\n",
    "\n",
    "```bash\n",
    "pip install mlflow\n",
    "```"
   ]
  },
  {
   "cell_type": "markdown",
   "id": "f2cdf440-0b05-4e50-ab3d-869be11da583",
   "metadata": {
    "tags": []
   },
   "source": [
    "## Setup\n",
    "\n",
    "```bash\n",
    "mlflow server\n",
    "```\n",
    "\n",
    "This will launch an mlflow tracking server at `http://127.0.0.1:5000`. Which will record your experiments, runs and models.\n",
    "\n",
    ":::{.callout-note}\n",
    "This setup launches mlflow locally, to setup mlflow for a shared space follow [the documentation](https://mlflow.org/docs/latest/tracking.html#tracking-server)\n",
    ":::"
   ]
  },
  {
   "cell_type": "markdown",
   "id": "ea75fdfb-d7ca-4d88-9fbc-e7af8230d3ee",
   "metadata": {},
   "source": [
    "if you open http://127.0.0.1:5000 in your browser, you would see the following.\n",
    "\n",
    "![](mlflow_ss_1.png)\n"
   ]
  },
  {
   "cell_type": "markdown",
   "id": "8b2e52f4-787a-4587-a9aa-54a12c6b24a7",
   "metadata": {},
   "source": [
    "## New Experiment"
   ]
  },
  {
   "cell_type": "code",
   "execution_count": 1,
   "id": "5926dc01-0bb0-4fdb-be61-f6423ce1201b",
   "metadata": {
    "tags": [
     "hide-cell"
    ]
   },
   "outputs": [
    {
     "name": "stdout",
     "output_type": "stream",
     "text": [
      "(670, 20) (330, 20) (670,) (330,)\n",
      "[[-0.78669445  0.50422194  0.14499686  0.27023408 -0.41568319  2.29765363\n",
      "  -0.78492925  0.04416244  0.01998036 -1.56917287  1.63286779 -0.89135744\n",
      "   0.08933603 -0.80613711  0.05557609  1.36246637  2.43942101 -1.00591414\n",
      "  -1.80253155 -1.22509769]\n",
      " [ 0.7902646   1.58800122 -1.22745766  2.45455804  1.41597967 -0.9577786\n",
      "  -0.07197365  0.26854757 -0.13132486  1.30857502  0.28586077 -2.27043702\n",
      "   0.01217551  0.97624736  1.23833836 -0.19059581  0.05277705  0.45574733\n",
      "   0.23691436 -0.78250385]] \n",
      " [0 1]\n"
     ]
    }
   ],
   "source": [
    "# sample dataset and model\n",
    "\n",
    "from sklearn.datasets import make_classification\n",
    "from sklearn.model_selection import train_test_split\n",
    "\n",
    "X, y = make_classification(n_samples=1000, class_sep=0.3, random_state=2)\n",
    "\n",
    "X_train, X_test, y_train, y_test = train_test_split(\n",
    "    X, y, test_size=0.33, random_state=0\n",
    ")\n",
    "print(X_train.shape, X_test.shape, y_train.shape, y_test.shape)\n",
    "print(X_train[:2], \"\\n\", y_train[:2])"
   ]
  },
  {
   "cell_type": "code",
   "execution_count": 2,
   "id": "e65ad3d7-c77c-4791-8a68-76d213c0209b",
   "metadata": {},
   "outputs": [],
   "source": [
    "import mlflow"
   ]
  },
  {
   "cell_type": "code",
   "execution_count": 3,
   "id": "5ac46c54-3a9b-4e35-a4b4-4fe9063c52ec",
   "metadata": {},
   "outputs": [],
   "source": [
    "# connect to the mlflow server\n",
    "MLFLOW_TRACKING_URI = \"http://127.0.0.1:5000/\"\n",
    "mlflow.set_tracking_uri(MLFLOW_TRACKING_URI)"
   ]
  },
  {
   "cell_type": "code",
   "execution_count": 4,
   "id": "36a870ae-03dc-4b32-a8e4-21f438ab0c9a",
   "metadata": {},
   "outputs": [],
   "source": [
    "# create experiment and get experiment ID\n",
    "experiment_name = \"testing_mlflow\"\n",
    "experiment_id = mlflow.create_experiment(experiment_name)"
   ]
  },
  {
   "cell_type": "markdown",
   "id": "bbf90f8c-af36-452d-bd4d-d3d016c39704",
   "metadata": {},
   "source": [
    "if you go back to the mlflow page, you can see a new experiment created with the name."
   ]
  },
  {
   "cell_type": "markdown",
   "id": "dc4d15b1-14c4-4c04-b912-6f7b035623a9",
   "metadata": {},
   "source": [
    "## Log Parameters and Metrics\n",
    "\n",
    "Every experiment contains multiple runs. Each run start by `mlflow.start_run()`"
   ]
  },
  {
   "cell_type": "code",
   "execution_count": 5,
   "id": "23824f2a-2478-4993-8b47-5277774de461",
   "metadata": {},
   "outputs": [],
   "source": [
    "from sklearn.linear_model import LogisticRegression\n",
    "from sklearn.metrics import roc_auc_score"
   ]
  },
  {
   "cell_type": "code",
   "execution_count": 6,
   "id": "c974c996-24e5-4336-b9fb-1a864fff6ebd",
   "metadata": {},
   "outputs": [],
   "source": [
    "with mlflow.start_run(experiment_id=experiment_id):\n",
    "    \n",
    "    penalty = \"l2\"\n",
    "    C = 0.01\n",
    "    \n",
    "    clf = LogisticRegression(penalty=penalty, C=C)\n",
    "    clf.fit(X_train, y_train)\n",
    "    \n",
    "    train_auc = roc_auc_score(y_train, clf.predict_proba(X_train)[:,1])\n",
    "    test_auc = roc_auc_score(y_test, clf.predict_proba(X_test)[:,1])    \n",
    "    \n",
    "    mlflow.log_params({\"penalty\":penalty, \"C\":C}) # logs hyperparameters\n",
    "    mlflow.log_metrics({\"train_auc\":train_auc, \"test_auc\":test_auc}) # logs metrics"
   ]
  },
  {
   "cell_type": "code",
   "execution_count": 7,
   "id": "318a1982-c7a4-4f67-b32f-b58ffa3c4e57",
   "metadata": {},
   "outputs": [],
   "source": [
    "# without `with` statement \n",
    "mlflow.start_run(experiment_id=experiment_id)\n",
    "\n",
    "penalty = \"l2\"\n",
    "C = 0.001\n",
    "\n",
    "clf = LogisticRegression(penalty=penalty, C=C)\n",
    "clf.fit(X_train, y_train)\n",
    "\n",
    "train_auc = roc_auc_score(y_train, clf.predict_proba(X_train)[:,1])\n",
    "test_auc = roc_auc_score(y_test, clf.predict_proba(X_test)[:,1])    \n",
    "\n",
    "mlflow.log_params({\"penalty\":penalty, \"C\":C}) # logs hyperparameters\n",
    "mlflow.log_metrics({\"train_auc\":train_auc, \"test_auc\":test_auc}) # logs metrics\n",
    "\n",
    "mlflow.end_run() # be sure to end the run"
   ]
  },
  {
   "cell_type": "markdown",
   "id": "ebc00b39-cc25-4640-9d2f-29b7f9588d17",
   "metadata": {},
   "source": [
    "The experiment should have new runs ready to be viewed. "
   ]
  },
  {
   "cell_type": "markdown",
   "id": "123d3e6d-a06f-4a58-bebd-f419d823f510",
   "metadata": {},
   "source": [
    "### Hyperparameter Search\n",
    "\n",
    "Any hyperparameter search can be logged to MLflow. (Including Optuna: [Guide](../optuna/optuna.ipynb), [MLflow-Optuna-Integration](https://optuna.readthedocs.io/en/stable/reference/generated/optuna.integration.MLflowCallback.html))"
   ]
  },
  {
   "cell_type": "code",
   "execution_count": 8,
   "id": "4af0c0a1-32dd-46fe-a14c-37eda35c6040",
   "metadata": {},
   "outputs": [],
   "source": [
    "for c_value in [0.001, 0.01, 0.1, 1, 10]:\n",
    "    \n",
    "    with mlflow.start_run(experiment_id=experiment_id):\n",
    "    \n",
    "        penalty = \"l2\"\n",
    "        C = c_value\n",
    "\n",
    "        clf = LogisticRegression(penalty=penalty, C=C)\n",
    "        clf.fit(X_train, y_train)\n",
    "\n",
    "        train_auc = roc_auc_score(y_train, clf.predict_proba(X_train)[:,1])\n",
    "        test_auc = roc_auc_score(y_test, clf.predict_proba(X_test)[:,1])    \n",
    "\n",
    "        mlflow.log_params({\"penalty\":penalty, \"C\":C})\n",
    "        mlflow.log_metrics({\"train_auc\":train_auc, \"test_auc\":test_auc}) "
   ]
  },
  {
   "cell_type": "markdown",
   "id": "d2c9d228-64cb-44a6-873f-d8d019674707",
   "metadata": {},
   "source": [
    "### Explore Logged Experiment"
   ]
  },
  {
   "cell_type": "code",
   "execution_count": 9,
   "id": "c130fbe3-c709-4ef3-af0c-c1383807993c",
   "metadata": {},
   "outputs": [
    {
     "name": "stdout",
     "output_type": "stream",
     "text": [
      "type(runs) = <class 'pandas.core.frame.DataFrame'>\n"
     ]
    },
    {
     "data": {
      "text/html": [
       "<div>\n",
       "<style scoped>\n",
       "    .dataframe tbody tr th:only-of-type {\n",
       "        vertical-align: middle;\n",
       "    }\n",
       "\n",
       "    .dataframe tbody tr th {\n",
       "        vertical-align: top;\n",
       "    }\n",
       "\n",
       "    .dataframe thead th {\n",
       "        text-align: right;\n",
       "    }\n",
       "</style>\n",
       "<table border=\"1\" class=\"dataframe\">\n",
       "  <thead>\n",
       "    <tr style=\"text-align: right;\">\n",
       "      <th></th>\n",
       "      <th>run_id</th>\n",
       "      <th>experiment_id</th>\n",
       "      <th>status</th>\n",
       "      <th>artifact_uri</th>\n",
       "      <th>start_time</th>\n",
       "      <th>end_time</th>\n",
       "      <th>metrics.train_auc</th>\n",
       "      <th>metrics.test_auc</th>\n",
       "      <th>params.penalty</th>\n",
       "      <th>params.C</th>\n",
       "      <th>tags.mlflow.source.type</th>\n",
       "      <th>tags.mlflow.user</th>\n",
       "      <th>tags.mlflow.source.name</th>\n",
       "    </tr>\n",
       "  </thead>\n",
       "  <tbody>\n",
       "    <tr>\n",
       "      <th>0</th>\n",
       "      <td>c6cc6209735d49d8ba344db544de8c6f</td>\n",
       "      <td>1</td>\n",
       "      <td>FINISHED</td>\n",
       "      <td>./mlruns/1/c6cc6209735d49d8ba344db544de8c6f/ar...</td>\n",
       "      <td>2022-05-17 03:18:53.686000+00:00</td>\n",
       "      <td>2022-05-17 03:18:53.711000+00:00</td>\n",
       "      <td>0.684686</td>\n",
       "      <td>0.649352</td>\n",
       "      <td>l2</td>\n",
       "      <td>10</td>\n",
       "      <td>LOCAL</td>\n",
       "      <td>Work</td>\n",
       "      <td>/Users/Work/anaconda3/envs/mlogs/lib/python3.8...</td>\n",
       "    </tr>\n",
       "    <tr>\n",
       "      <th>1</th>\n",
       "      <td>fd14937f4ba14e4f99b397a7fd911b15</td>\n",
       "      <td>1</td>\n",
       "      <td>FINISHED</td>\n",
       "      <td>./mlruns/1/fd14937f4ba14e4f99b397a7fd911b15/ar...</td>\n",
       "      <td>2022-05-17 03:18:53.652000+00:00</td>\n",
       "      <td>2022-05-17 03:18:53.678000+00:00</td>\n",
       "      <td>0.684686</td>\n",
       "      <td>0.649352</td>\n",
       "      <td>l2</td>\n",
       "      <td>1</td>\n",
       "      <td>LOCAL</td>\n",
       "      <td>Work</td>\n",
       "      <td>/Users/Work/anaconda3/envs/mlogs/lib/python3.8...</td>\n",
       "    </tr>\n",
       "    <tr>\n",
       "      <th>2</th>\n",
       "      <td>e68fa76fe03a41d9a61c0932986208df</td>\n",
       "      <td>1</td>\n",
       "      <td>FINISHED</td>\n",
       "      <td>./mlruns/1/e68fa76fe03a41d9a61c0932986208df/ar...</td>\n",
       "      <td>2022-05-17 03:18:53.619000+00:00</td>\n",
       "      <td>2022-05-17 03:18:53.646000+00:00</td>\n",
       "      <td>0.684596</td>\n",
       "      <td>0.650862</td>\n",
       "      <td>l2</td>\n",
       "      <td>0.1</td>\n",
       "      <td>LOCAL</td>\n",
       "      <td>Work</td>\n",
       "      <td>/Users/Work/anaconda3/envs/mlogs/lib/python3.8...</td>\n",
       "    </tr>\n",
       "    <tr>\n",
       "      <th>3</th>\n",
       "      <td>5ad09dce7f784075880caa9db33b6c18</td>\n",
       "      <td>1</td>\n",
       "      <td>FINISHED</td>\n",
       "      <td>./mlruns/1/5ad09dce7f784075880caa9db33b6c18/ar...</td>\n",
       "      <td>2022-05-17 03:18:53.589000+00:00</td>\n",
       "      <td>2022-05-17 03:18:53.613000+00:00</td>\n",
       "      <td>0.684177</td>\n",
       "      <td>0.657014</td>\n",
       "      <td>l2</td>\n",
       "      <td>0.01</td>\n",
       "      <td>LOCAL</td>\n",
       "      <td>Work</td>\n",
       "      <td>/Users/Work/anaconda3/envs/mlogs/lib/python3.8...</td>\n",
       "    </tr>\n",
       "    <tr>\n",
       "      <th>4</th>\n",
       "      <td>a659f2aff5904a38bf55582f356a6a34</td>\n",
       "      <td>1</td>\n",
       "      <td>FINISHED</td>\n",
       "      <td>./mlruns/1/a659f2aff5904a38bf55582f356a6a34/ar...</td>\n",
       "      <td>2022-05-17 03:18:53.553000+00:00</td>\n",
       "      <td>2022-05-17 03:18:53.582000+00:00</td>\n",
       "      <td>0.681760</td>\n",
       "      <td>0.668435</td>\n",
       "      <td>l2</td>\n",
       "      <td>0.001</td>\n",
       "      <td>LOCAL</td>\n",
       "      <td>Work</td>\n",
       "      <td>/Users/Work/anaconda3/envs/mlogs/lib/python3.8...</td>\n",
       "    </tr>\n",
       "    <tr>\n",
       "      <th>5</th>\n",
       "      <td>ac488b27fd284e63b0fd09777a322726</td>\n",
       "      <td>1</td>\n",
       "      <td>FINISHED</td>\n",
       "      <td>./mlruns/1/ac488b27fd284e63b0fd09777a322726/ar...</td>\n",
       "      <td>2022-05-17 03:18:52.679000+00:00</td>\n",
       "      <td>2022-05-17 03:18:52.708000+00:00</td>\n",
       "      <td>0.681760</td>\n",
       "      <td>0.668435</td>\n",
       "      <td>l2</td>\n",
       "      <td>0.001</td>\n",
       "      <td>LOCAL</td>\n",
       "      <td>Work</td>\n",
       "      <td>/Users/Work/anaconda3/envs/mlogs/lib/python3.8...</td>\n",
       "    </tr>\n",
       "    <tr>\n",
       "      <th>6</th>\n",
       "      <td>767e1f0fdaa644d5bd478c5899fb3ddc</td>\n",
       "      <td>1</td>\n",
       "      <td>FINISHED</td>\n",
       "      <td>./mlruns/1/767e1f0fdaa644d5bd478c5899fb3ddc/ar...</td>\n",
       "      <td>2022-05-17 03:18:52.442000+00:00</td>\n",
       "      <td>2022-05-17 03:18:52.475000+00:00</td>\n",
       "      <td>0.684177</td>\n",
       "      <td>0.657014</td>\n",
       "      <td>l2</td>\n",
       "      <td>0.01</td>\n",
       "      <td>LOCAL</td>\n",
       "      <td>Work</td>\n",
       "      <td>/Users/Work/anaconda3/envs/mlogs/lib/python3.8...</td>\n",
       "    </tr>\n",
       "  </tbody>\n",
       "</table>\n",
       "</div>"
      ],
      "text/plain": [
       "                             run_id experiment_id    status  \\\n",
       "0  c6cc6209735d49d8ba344db544de8c6f             1  FINISHED   \n",
       "1  fd14937f4ba14e4f99b397a7fd911b15             1  FINISHED   \n",
       "2  e68fa76fe03a41d9a61c0932986208df             1  FINISHED   \n",
       "3  5ad09dce7f784075880caa9db33b6c18             1  FINISHED   \n",
       "4  a659f2aff5904a38bf55582f356a6a34             1  FINISHED   \n",
       "5  ac488b27fd284e63b0fd09777a322726             1  FINISHED   \n",
       "6  767e1f0fdaa644d5bd478c5899fb3ddc             1  FINISHED   \n",
       "\n",
       "                                        artifact_uri  \\\n",
       "0  ./mlruns/1/c6cc6209735d49d8ba344db544de8c6f/ar...   \n",
       "1  ./mlruns/1/fd14937f4ba14e4f99b397a7fd911b15/ar...   \n",
       "2  ./mlruns/1/e68fa76fe03a41d9a61c0932986208df/ar...   \n",
       "3  ./mlruns/1/5ad09dce7f784075880caa9db33b6c18/ar...   \n",
       "4  ./mlruns/1/a659f2aff5904a38bf55582f356a6a34/ar...   \n",
       "5  ./mlruns/1/ac488b27fd284e63b0fd09777a322726/ar...   \n",
       "6  ./mlruns/1/767e1f0fdaa644d5bd478c5899fb3ddc/ar...   \n",
       "\n",
       "                        start_time                         end_time  \\\n",
       "0 2022-05-17 03:18:53.686000+00:00 2022-05-17 03:18:53.711000+00:00   \n",
       "1 2022-05-17 03:18:53.652000+00:00 2022-05-17 03:18:53.678000+00:00   \n",
       "2 2022-05-17 03:18:53.619000+00:00 2022-05-17 03:18:53.646000+00:00   \n",
       "3 2022-05-17 03:18:53.589000+00:00 2022-05-17 03:18:53.613000+00:00   \n",
       "4 2022-05-17 03:18:53.553000+00:00 2022-05-17 03:18:53.582000+00:00   \n",
       "5 2022-05-17 03:18:52.679000+00:00 2022-05-17 03:18:52.708000+00:00   \n",
       "6 2022-05-17 03:18:52.442000+00:00 2022-05-17 03:18:52.475000+00:00   \n",
       "\n",
       "   metrics.train_auc  metrics.test_auc params.penalty params.C  \\\n",
       "0           0.684686          0.649352             l2       10   \n",
       "1           0.684686          0.649352             l2        1   \n",
       "2           0.684596          0.650862             l2      0.1   \n",
       "3           0.684177          0.657014             l2     0.01   \n",
       "4           0.681760          0.668435             l2    0.001   \n",
       "5           0.681760          0.668435             l2    0.001   \n",
       "6           0.684177          0.657014             l2     0.01   \n",
       "\n",
       "  tags.mlflow.source.type tags.mlflow.user  \\\n",
       "0                   LOCAL             Work   \n",
       "1                   LOCAL             Work   \n",
       "2                   LOCAL             Work   \n",
       "3                   LOCAL             Work   \n",
       "4                   LOCAL             Work   \n",
       "5                   LOCAL             Work   \n",
       "6                   LOCAL             Work   \n",
       "\n",
       "                             tags.mlflow.source.name  \n",
       "0  /Users/Work/anaconda3/envs/mlogs/lib/python3.8...  \n",
       "1  /Users/Work/anaconda3/envs/mlogs/lib/python3.8...  \n",
       "2  /Users/Work/anaconda3/envs/mlogs/lib/python3.8...  \n",
       "3  /Users/Work/anaconda3/envs/mlogs/lib/python3.8...  \n",
       "4  /Users/Work/anaconda3/envs/mlogs/lib/python3.8...  \n",
       "5  /Users/Work/anaconda3/envs/mlogs/lib/python3.8...  \n",
       "6  /Users/Work/anaconda3/envs/mlogs/lib/python3.8...  "
      ]
     },
     "execution_count": 9,
     "metadata": {},
     "output_type": "execute_result"
    }
   ],
   "source": [
    "runs = mlflow.search_runs(experiment_id) # returns a dataframe\n",
    "\n",
    "print(f\"{type(runs) = }\") \n",
    "runs"
   ]
  },
  {
   "cell_type": "markdown",
   "id": "b03f654d-a2af-45cd-be98-b90a4eccc4f7",
   "metadata": {},
   "source": [
    "## Log Model"
   ]
  },
  {
   "cell_type": "code",
   "execution_count": 10,
   "id": "006cbccd-00ef-488a-9229-45b7d7f557cf",
   "metadata": {},
   "outputs": [
    {
     "name": "stderr",
     "output_type": "stream",
     "text": [
      "/Users/Work/anaconda3/envs/mlogs/lib/python3.8/site-packages/_distutils_hack/__init__.py:30: UserWarning: Setuptools is replacing distutils.\n",
      "  warnings.warn(\"Setuptools is replacing distutils.\")\n"
     ]
    }
   ],
   "source": [
    "with mlflow.start_run(experiment_id=experiment_id) :\n",
    "\n",
    "    penalty = \"l2\"\n",
    "    C = 0.001\n",
    "\n",
    "    clf = LogisticRegression(penalty=penalty, C=C)\n",
    "    clf.fit(X_train, y_train)\n",
    "\n",
    "    train_auc = roc_auc_score(y_train, clf.predict_proba(X_train)[:,1])\n",
    "    test_auc = roc_auc_score(y_test, clf.predict_proba(X_test)[:,1])    \n",
    "\n",
    "    mlflow.log_params({\"penalty\":penalty, \"C\":C}) \n",
    "    mlflow.log_metrics({\"train_auc\":train_auc, \"test_auc\":test_auc}) \n",
    "    \n",
    "    mlflow.sklearn.log_model(clf, \"log_res\") # logs model with model name"
   ]
  },
  {
   "cell_type": "markdown",
   "id": "3ca0487a-89f1-4494-b175-aa7d5502dc66",
   "metadata": {},
   "source": [
    "This save the model file (in pickle format) and also saves `conda.yaml` file that contains the environment requirements and `MLmodel` which is a yaml file that contains instructions for MLflow to run this model.\n",
    "\n",
    "\n",
    "![](mlflow_ss_3.png)"
   ]
  },
  {
   "cell_type": "markdown",
   "id": "7119b9b7-7b69-467b-a2bc-371301d824d4",
   "metadata": {},
   "source": [
    "### Loading Logged Model"
   ]
  },
  {
   "cell_type": "code",
   "execution_count": 11,
   "id": "93dfd8e7-2a2e-4d07-8dc4-59fbe33fffb7",
   "metadata": {},
   "outputs": [],
   "source": [
    "logged_model = \"runs:/29b59f6a1ba84859b299569cc3f1b004/log_res\"\n",
    "loaded_model = mlflow.pyfunc.load_model(logged_model)"
   ]
  },
  {
   "cell_type": "code",
   "execution_count": 12,
   "id": "0243a9db-8276-4cca-be92-30d24dbd46ae",
   "metadata": {},
   "outputs": [
    {
     "data": {
      "text/plain": [
       "array([1, 0, 1, 0, 0])"
      ]
     },
     "execution_count": 12,
     "metadata": {},
     "output_type": "execute_result"
    }
   ],
   "source": [
    "loaded_model.predict(X_test)[:5]"
   ]
  },
  {
   "cell_type": "markdown",
   "id": "8151d36c-fe97-4619-a86a-31d98c99828b",
   "metadata": {},
   "source": [
    "MLflow's API only contains `predict` function but it is possible for that work as `predict_proba`.\n",
    "\n",
    "```python \n",
    "class SklearnModelWrapper(mlflow.pyfunc.PythonModel):\n",
    "  def __init__(self, model):\n",
    "    self.model = model\n",
    "    \n",
    "  def predict(self, context, model_input):\n",
    "    return self.model.predict_proba(model_input)[:,1]\n",
    "```\n",
    "[refer here](https://docs.databricks.com/_static/notebooks/mlflow/mlflow-end-to-end-example.html)"
   ]
  },
  {
   "cell_type": "markdown",
   "id": "4f19edeb-9149-44b4-b1e9-9f49dd38c2cd",
   "metadata": {},
   "source": [
    ":::{.callout-note}\n",
    "If the mlflow is in a shared space, it is possible for anyone having access to the mlflow server to load the model easily. This is one of the hallmarks of mlflow.\n",
    ":::"
   ]
  },
  {
   "cell_type": "markdown",
   "id": "69341b06-1700-4de2-b8f3-93b188b80299",
   "metadata": {},
   "source": [
    "## Logging Artifacts\n",
    "\n",
    "Artifacts are any file or directory that you would like to record as part of a run. Artifacts can be logged as any formats.  \n",
    " \n",
    "For example : \n",
    "- graphs ( as images )  \n",
    "- tables/dataframe ( as html tables df.to_html() )\n",
    "- datasets  (csvs, parquets)\n",
    "- feature list  (txt) \n",
    "- git-commit ids  "
   ]
  },
  {
   "cell_type": "code",
   "execution_count": 13,
   "id": "d8bf692a-1726-4bf4-bab3-8c963ea52b55",
   "metadata": {},
   "outputs": [],
   "source": [
    "from pathlib import Path\n",
    "\n",
    "import pandas as pd\n",
    "\n",
    "data_dir = str(Path.cwd()) + \"/data\"\n",
    "Path(data_dir).mkdir(exist_ok=True)\n",
    "\n",
    "pd.DataFrame(X_train).to_csv(f\"{data_dir}/X_train.csv\", index=False)\n",
    "pd.DataFrame(X_test).to_csv(f\"{data_dir}/X_test.csv\", index=False)\n",
    "\n",
    "pd.DataFrame(y_train).to_csv(f\"{data_dir}/y_train.csv\", index=False)\n",
    "pd.DataFrame(y_test).to_csv(f\"{data_dir}/y_test.csv\", index=False)"
   ]
  },
  {
   "cell_type": "code",
   "execution_count": 14,
   "id": "3b097a52-670b-4738-aee6-2a98ae0ca948",
   "metadata": {},
   "outputs": [],
   "source": [
    "with mlflow.start_run(experiment_id=experiment_id) :\n",
    "\n",
    "    penalty = \"l2\"\n",
    "    C = 0.001\n",
    "\n",
    "    clf = LogisticRegression(penalty=penalty, C=C)\n",
    "    clf.fit(X_train, y_train)\n",
    "\n",
    "    train_auc = roc_auc_score(y_train, clf.predict_proba(X_train)[:,1])\n",
    "    test_auc = roc_auc_score(y_test, clf.predict_proba(X_test)[:,1])    \n",
    "\n",
    "    mlflow.log_params({\"penalty\":penalty, \"C\":C}) \n",
    "    mlflow.log_metrics({\"train_auc\":train_auc, \"test_auc\":test_auc}) \n",
    "    \n",
    "    mlflow.sklearn.log_model(clf, \"log_res\")\n",
    "    \n",
    "    mlflow.log_artifacts(data_dir, artifact_path=\"data\") # logs the entire directory"
   ]
  },
  {
   "cell_type": "markdown",
   "id": "f5b30808-a3a6-4079-a4f5-276633bd6c41",
   "metadata": {},
   "source": [
    ":::{.callout-note}\n",
    "This will copy all the contents of the directory to mlflow server. If the server is in a shared space, anyone having access can now download the artifacts for experimentation or validation.\n",
    ":::"
   ]
  },
  {
   "cell_type": "markdown",
   "id": "546c9446-feec-4e18-acc9-1d8995b217d2",
   "metadata": {},
   "source": [
    "### Downloading Artifacts¶"
   ]
  },
  {
   "cell_type": "code",
   "execution_count": 15,
   "id": "68fa3c27-718b-4521-a4a9-0e9075201c2c",
   "metadata": {},
   "outputs": [],
   "source": [
    "# downloads the `data` artifact from the previously recorded run\n",
    "from mlflow.tracking import MlflowClient\n",
    "\n",
    "client = MlflowClient()\n",
    "\n",
    "download_dir = str(Path.cwd()) + \"/data/download\"\n",
    "Path(download_dir).mkdir(exist_ok=True)\n",
    "\n",
    "artifact_path = client.download_artifacts(\n",
    "    \"1694c57a0b674342b88270b49702e551\", \"data\", download_dir\n",
    ")"
   ]
  },
  {
   "cell_type": "code",
   "execution_count": 16,
   "id": "d0463e0e-fc02-4e13-a279-89affa42bd0f",
   "metadata": {},
   "outputs": [
    {
     "name": "stdout",
     "output_type": "stream",
     "text": [
      "(670, 20)\n"
     ]
    }
   ],
   "source": [
    "X_train_downloaded = pd.read_csv(f\"{artifact_path}/X_train.csv\")\n",
    "print(X_train_downloaded.shape)"
   ]
  },
  {
   "cell_type": "markdown",
   "id": "edbc8546-1cb2-404e-8f26-85fafed15148",
   "metadata": {},
   "source": [
    "## Registering Model\n",
    "\n",
    "Registering model requires the MLflow server to be hosted with some kind of RDS for model registry data storage. Registering model is similar to logging them with the difference of giving it a name and version. Registered models go into the model registry and then can be easily [deployed](https://www.mlflow.org/docs/latest/models.html)."
   ]
  }
 ],
 "metadata": {
  "kernelspec": {
   "display_name": "Python 3.8.12 ('mlog_env')",
   "language": "python",
   "name": "python3"
  },
  "language_info": {
   "codemirror_mode": {
    "name": "ipython",
    "version": 3
   },
   "file_extension": ".py",
   "mimetype": "text/x-python",
   "name": "python",
   "nbconvert_exporter": "python",
   "pygments_lexer": "ipython3",
   "version": "3.8.12"
  },
  "vscode": {
   "interpreter": {
    "hash": "d7df4bfaccc063652a8221823bee4a39ae1f200a3a0a4a6fcec7f2e0a0a83027"
   }
  }
 },
 "nbformat": 4,
 "nbformat_minor": 5
}
