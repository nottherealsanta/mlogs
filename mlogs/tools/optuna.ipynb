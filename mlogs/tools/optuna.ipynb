{
 "cells": [
  {
   "cell_type": "markdown",
   "id": "be989d22-9292-416f-8f70-757ebed44082",
   "metadata": {
    "tags": []
   },
   "source": [
    "# Optuna \n",
    "\n",
    "Optuna automates hyperparameter optimization. "
   ]
  },
  {
   "cell_type": "markdown",
   "id": "bcb206e5",
   "metadata": {},
   "source": [
    "![optuna_animation](assets/optuna_animation.gif)"
   ]
  },
  {
   "cell_type": "markdown",
   "id": "d00c3538",
   "metadata": {},
   "source": [
    "\n",
    "## Why Optuna?\n",
    "\n",
    "- impertive and define-by-run code style is great!\n",
    "- algorithm agnostic - optimize anything"
   ]
  },
  {
   "cell_type": "markdown",
   "id": "d464ef66-71c4-4362-aafd-6207aa862964",
   "metadata": {},
   "source": [
    "## Hyperparameter\n",
    "\n",
    "The knobs 🎛️ that dictate how machines learn. Knobs like: length of training, maximum depth of tree and strength of regularization. \n",
    "\n",
    "Every type of machine learning algorithm has its own set of hyperparameters. The norm till now has been to get a intitutive sense of what hyperparameters to use for different types of problems and different datasets; or do a grid-search. "
   ]
  },
  {
   "cell_type": "markdown",
   "id": "cf3a3131-2779-401f-9d26-530fe8978478",
   "metadata": {},
   "source": [
    "## Sequential Model Based Optimisation (_SMBO_)\n",
    "\n",
    "Sequentially selecting different hyperparameter sets where next set is selected by Bayesian reasoning (dependent on the previous runs). \n",
    "\n",
    "As a stark difference to grid-search where we already have a set of hyperparameters to search, instead we look at the previously selected hyperparameters and it's results to intelligently select the next set of hyperparameters to search. "
   ]
  },
  {
   "cell_type": "markdown",
   "id": "fefbc4ba-2165-414b-98c3-e10a312a34b1",
   "metadata": {},
   "source": [
    "## Installation \n",
    "\n",
    "```bash\n",
    "# pip\n",
    "pip install optuna\n",
    "```\n",
    "\n",
    "```bash\n",
    "# conda\n",
    "conda install -c conda-forge optuna\n",
    "```"
   ]
  },
  {
   "cell_type": "markdown",
   "id": "395a2fcd-92e5-4fa5-b619-671afcc8d545",
   "metadata": {},
   "source": [
    "## Usage"
   ]
  },
  {
   "cell_type": "code",
   "execution_count": 1,
   "id": "263aabbc-b164-44e9-bc29-d7134e73b9db",
   "metadata": {},
   "outputs": [],
   "source": [
    "import optuna"
   ]
  },
  {
   "cell_type": "markdown",
   "id": "9f39880f-c226-4b87-8ec4-aeabf8d88eb4",
   "metadata": {
    "tags": []
   },
   "source": [
    "### Example "
   ]
  },
  {
   "cell_type": "code",
   "execution_count": 2,
   "id": "9ebc8ee9-25f8-4325-849a-7e32e712ed7a",
   "metadata": {},
   "outputs": [],
   "source": [
    "# imports\n",
    "import pandas as pd\n",
    "from sklearn.datasets import make_classification\n",
    "from sklearn.linear_model import LogisticRegression\n",
    "from sklearn.metrics import accuracy_score, f1_score, roc_auc_score\n",
    "from sklearn.model_selection import train_test_split"
   ]
  },
  {
   "cell_type": "code",
   "execution_count": 3,
   "id": "7581e349-b74a-4420-834c-292978106686",
   "metadata": {},
   "outputs": [
    {
     "data": {
      "text/plain": [
       "(array([[-0.03926799,  0.13191176, -0.21120598, -0.7141474 ,  0.89992843,\n",
       "         -0.42132759,  0.76877064,  0.87569568,  2.45122972, -0.48024204,\n",
       "         -1.42296498, -0.52325094,  0.70869527, -1.98056559, -1.36516288,\n",
       "         -0.94893281,  1.94709864,  1.47698901,  1.02122474, -0.46931074],\n",
       "        [ 0.77416061,  0.10490717, -0.33281176, -0.77034986,  0.22899659,\n",
       "         -0.82282832, -0.61262574,  1.49613964,  0.56845892, -0.46749317,\n",
       "         -1.09203185, -0.8624933 , -0.63119194,  0.13391292, -0.97240289,\n",
       "         -0.77445897,  1.34622107,  0.7678044 ,  0.62251914, -1.49026539]]),\n",
       " array([0, 0]))"
      ]
     },
     "execution_count": 3,
     "metadata": {},
     "output_type": "execute_result"
    }
   ],
   "source": [
    "# make sample dataset\n",
    "X, y = make_classification(class_sep=0.5, random_state=0)\n",
    "X[:2], y[:2]"
   ]
  },
  {
   "cell_type": "code",
   "execution_count": 4,
   "id": "5e16e0e8-0a52-4e41-afbc-65800dba0788",
   "metadata": {},
   "outputs": [],
   "source": [
    "# split into train-test sets\n",
    "X_train, X_test, y_train, y_test = train_test_split(\n",
    "    X, y, test_size=0.33, random_state=42\n",
    ")"
   ]
  },
  {
   "cell_type": "code",
   "execution_count": 5,
   "id": "4819769b-a708-4cd5-be61-82ab82f53dd1",
   "metadata": {},
   "outputs": [
    {
     "name": "stdout",
     "output_type": "stream",
     "text": [
      "Train F1 Score : 0.7761194029850745\n",
      "Test  F1 Score : 0.742857142857143\n"
     ]
    }
   ],
   "source": [
    "# without optuna\n",
    "model = LogisticRegression(random_state=23)\n",
    "model.fit(X_train, y_train)\n",
    "\n",
    "print(f\"Train F1 Score : {f1_score(y_train, model.predict(X_train))}\")\n",
    "print(f\"Test  F1 Score : {f1_score(y_test, model.predict(X_test))}\")"
   ]
  },
  {
   "cell_type": "code",
   "execution_count": 6,
   "id": "6c447dc0-2373-4223-8059-cbe2af5f8c88",
   "metadata": {
    "tags": [
     "remove-output"
    ]
   },
   "outputs": [
    {
     "name": "stderr",
     "output_type": "stream",
     "text": [
      "\u001b[32m[I 2022-04-25 11:02:02,189]\u001b[0m A new study created in memory with name: no-name-d513816f-f254-49a1-a1dc-4999f55050eb\u001b[0m\n",
      "\u001b[32m[I 2022-04-25 11:02:02,237]\u001b[0m Trial 0 finished with value: 0.0 and parameters: {'C': 0.001035440904319486, 'penalty': 'elasticnet', 'l1_ratio': 0.0168047681115154}. Best is trial 0 with value: 0.0.\u001b[0m\n",
      "\u001b[32m[I 2022-04-25 11:02:02,250]\u001b[0m Trial 1 finished with value: 0.0 and parameters: {'C': 0.0008908409534393241, 'penalty': 'elasticnet', 'l1_ratio': 0.015358624475662915}. Best is trial 0 with value: 0.0.\u001b[0m\n",
      "\u001b[32m[I 2022-04-25 11:02:02,269]\u001b[0m Trial 2 finished with value: 0.653061224489796 and parameters: {'C': 0.00016370922155922157, 'penalty': 'l2'}. Best is trial 2 with value: 0.653061224489796.\u001b[0m\n",
      "\u001b[32m[I 2022-04-25 11:02:02,309]\u001b[0m Trial 3 finished with value: 0.0 and parameters: {'C': 0.0009138573600528666, 'penalty': 'elasticnet', 'l1_ratio': 0.3449491818274051}. Best is trial 2 with value: 0.653061224489796.\u001b[0m\n",
      "\u001b[32m[I 2022-04-25 11:02:02,337]\u001b[0m Trial 4 finished with value: 0.742857142857143 and parameters: {'C': 0.33000390588332, 'penalty': 'l2'}. Best is trial 4 with value: 0.742857142857143.\u001b[0m\n",
      "\u001b[32m[I 2022-04-25 11:02:02,710]\u001b[0m Trial 5 finished with value: 0.0 and parameters: {'C': 0.004900173758953741, 'penalty': 'elasticnet', 'l1_ratio': 0.5739239633308959}. Best is trial 4 with value: 0.742857142857143.\u001b[0m\n",
      "\u001b[32m[I 2022-04-25 11:02:02,725]\u001b[0m Trial 6 finished with value: 0.0 and parameters: {'C': 0.0008523376996942561, 'penalty': 'l1'}. Best is trial 4 with value: 0.742857142857143.\u001b[0m\n",
      "\u001b[32m[I 2022-04-25 11:02:02,739]\u001b[0m Trial 7 finished with value: 0.7272727272727272 and parameters: {'C': 0.004253229678729536, 'penalty': 'elasticnet', 'l1_ratio': 0.005630194052029165}. Best is trial 4 with value: 0.742857142857143.\u001b[0m\n",
      "\u001b[32m[I 2022-04-25 11:02:02,749]\u001b[0m Trial 8 finished with value: 0.7058823529411765 and parameters: {'C': 0.004046243863102824, 'penalty': 'elasticnet', 'l1_ratio': 0.0017367022371214882}. Best is trial 4 with value: 0.742857142857143.\u001b[0m\n",
      "\u001b[32m[I 2022-04-25 11:02:02,764]\u001b[0m Trial 9 finished with value: 0.7272727272727272 and parameters: {'C': 0.03109891412503484, 'penalty': 'l2'}. Best is trial 4 with value: 0.742857142857143.\u001b[0m\n",
      "\u001b[32m[I 2022-04-25 11:02:02,820]\u001b[0m Trial 10 finished with value: 0.7058823529411765 and parameters: {'C': 7.8208518561020846, 'penalty': 'l2'}. Best is trial 4 with value: 0.742857142857143.\u001b[0m\n",
      "\u001b[32m[I 2022-04-25 11:02:02,867]\u001b[0m Trial 11 finished with value: 0.7647058823529411 and parameters: {'C': 0.9355154190877125, 'penalty': 'l1'}. Best is trial 11 with value: 0.7647058823529411.\u001b[0m\n",
      "\u001b[32m[I 2022-04-25 11:02:02,910]\u001b[0m Trial 12 finished with value: 0.7647058823529411 and parameters: {'C': 1.3562536567204646, 'penalty': 'l1'}. Best is trial 11 with value: 0.7647058823529411.\u001b[0m\n",
      "\u001b[32m[I 2022-04-25 11:02:02,957]\u001b[0m Trial 13 finished with value: 0.7647058823529411 and parameters: {'C': 1.6829408470804865, 'penalty': 'l1'}. Best is trial 11 with value: 0.7647058823529411.\u001b[0m\n",
      "\u001b[32m[I 2022-04-25 11:02:02,992]\u001b[0m Trial 14 finished with value: 0.8125 and parameters: {'C': 0.27325083947591605, 'penalty': 'l1'}. Best is trial 14 with value: 0.8125.\u001b[0m\n",
      "\u001b[32m[I 2022-04-25 11:02:03,040]\u001b[0m Trial 15 finished with value: 0.8666666666666666 and parameters: {'C': 0.14326745204868416, 'penalty': 'l1'}. Best is trial 15 with value: 0.8666666666666666.\u001b[0m\n",
      "\u001b[32m[I 2022-04-25 11:02:03,078]\u001b[0m Trial 16 finished with value: 0.8666666666666666 and parameters: {'C': 0.11051572179107788, 'penalty': 'l1'}. Best is trial 15 with value: 0.8666666666666666.\u001b[0m\n",
      "\u001b[32m[I 2022-04-25 11:02:03,133]\u001b[0m Trial 17 finished with value: 0.653061224489796 and parameters: {'C': 0.06645745504510152, 'penalty': 'l1'}. Best is trial 15 with value: 0.8666666666666666.\u001b[0m\n",
      "\u001b[32m[I 2022-04-25 11:02:03,182]\u001b[0m Trial 18 finished with value: 0.653061224489796 and parameters: {'C': 0.05066087235412606, 'penalty': 'l1'}. Best is trial 15 with value: 0.8666666666666666.\u001b[0m\n",
      "\u001b[32m[I 2022-04-25 11:02:03,227]\u001b[0m Trial 19 finished with value: 0.7999999999999999 and parameters: {'C': 0.1937529842391572, 'penalty': 'l1'}. Best is trial 15 with value: 0.8666666666666666.\u001b[0m\n"
     ]
    }
   ],
   "source": [
    "# objective function\n",
    "def objective(trial):\n",
    "    params = {\n",
    "        \"C\": trial.suggest_loguniform(\"C\", 1e-4, 1e1),\n",
    "        \"penalty\": trial.suggest_categorical(\"penalty\", [\"l2\", \"l1\", \"elasticnet\"]),\n",
    "        \"solver\": \"saga\",\n",
    "        \"random_state\": 0,\n",
    "        \"n_jobs\": 14,\n",
    "    }\n",
    "    # you can have conditional params. \n",
    "    if params[\"penalty\"] == \"elasticnet\":\n",
    "        params[\"l1_ratio\"] = trial.suggest_loguniform(\"l1_ratio\", 1e-3, 1)\n",
    "\n",
    "    model = LogisticRegression(**params)\n",
    "    model.fit(X_train, y_train)\n",
    "    \n",
    "    # return the value to be optimized\n",
    "    return f1_score(y_test, model.predict(X_test))\n",
    "\n",
    "# optuna's study - set direction of optimization \n",
    "study = optuna.create_study(direction=\"maximize\")\n",
    "\n",
    "# something like model.fit()\n",
    "study.optimize(objective, n_trials=20)"
   ]
  },
  {
   "cell_type": "markdown",
   "id": "5830c387-601d-4e2a-9d4e-75e0f20f3059",
   "metadata": {},
   "source": [
    "```{note}\n",
    "The above cell outputs logs from Optuna. Jupyter thinks these are errors and displays them in red. Ignore this. \n",
    "```"
   ]
  },
  {
   "cell_type": "code",
   "execution_count": 7,
   "id": "ceafd9eb-ede9-4374-a2e4-4aededb55816",
   "metadata": {},
   "outputs": [
    {
     "data": {
      "text/plain": [
       "({'C': 0.14326745204868416, 'penalty': 'l1'}, 0.8666666666666666)"
      ]
     },
     "execution_count": 7,
     "metadata": {},
     "output_type": "execute_result"
    }
   ],
   "source": [
    "# best trail\n",
    "study.best_params, study.best_value"
   ]
  },
  {
   "cell_type": "code",
   "execution_count": 8,
   "id": "80d2b5e7-283b-44d8-9bb4-c734b9d64903",
   "metadata": {},
   "outputs": [
    {
     "data": {
      "text/html": [
       "<div>\n",
       "<style scoped>\n",
       "    .dataframe tbody tr th:only-of-type {\n",
       "        vertical-align: middle;\n",
       "    }\n",
       "\n",
       "    .dataframe tbody tr th {\n",
       "        vertical-align: top;\n",
       "    }\n",
       "\n",
       "    .dataframe thead th {\n",
       "        text-align: right;\n",
       "    }\n",
       "</style>\n",
       "<table border=\"1\" class=\"dataframe\">\n",
       "  <thead>\n",
       "    <tr style=\"text-align: right;\">\n",
       "      <th></th>\n",
       "      <th>number</th>\n",
       "      <th>value</th>\n",
       "      <th>datetime_start</th>\n",
       "      <th>datetime_complete</th>\n",
       "      <th>duration</th>\n",
       "      <th>params_C</th>\n",
       "      <th>params_l1_ratio</th>\n",
       "      <th>params_penalty</th>\n",
       "      <th>state</th>\n",
       "    </tr>\n",
       "  </thead>\n",
       "  <tbody>\n",
       "    <tr>\n",
       "      <th>16</th>\n",
       "      <td>16</td>\n",
       "      <td>0.866667</td>\n",
       "      <td>2022-04-25 11:02:03.042372</td>\n",
       "      <td>2022-04-25 11:02:03.078160</td>\n",
       "      <td>0 days 00:00:00.035788</td>\n",
       "      <td>0.110516</td>\n",
       "      <td>NaN</td>\n",
       "      <td>l1</td>\n",
       "      <td>COMPLETE</td>\n",
       "    </tr>\n",
       "    <tr>\n",
       "      <th>15</th>\n",
       "      <td>15</td>\n",
       "      <td>0.866667</td>\n",
       "      <td>2022-04-25 11:02:02.995554</td>\n",
       "      <td>2022-04-25 11:02:03.039449</td>\n",
       "      <td>0 days 00:00:00.043895</td>\n",
       "      <td>0.143267</td>\n",
       "      <td>NaN</td>\n",
       "      <td>l1</td>\n",
       "      <td>COMPLETE</td>\n",
       "    </tr>\n",
       "    <tr>\n",
       "      <th>14</th>\n",
       "      <td>14</td>\n",
       "      <td>0.812500</td>\n",
       "      <td>2022-04-25 11:02:02.961086</td>\n",
       "      <td>2022-04-25 11:02:02.991294</td>\n",
       "      <td>0 days 00:00:00.030208</td>\n",
       "      <td>0.273251</td>\n",
       "      <td>NaN</td>\n",
       "      <td>l1</td>\n",
       "      <td>COMPLETE</td>\n",
       "    </tr>\n",
       "    <tr>\n",
       "      <th>19</th>\n",
       "      <td>19</td>\n",
       "      <td>0.800000</td>\n",
       "      <td>2022-04-25 11:02:03.187038</td>\n",
       "      <td>2022-04-25 11:02:03.226408</td>\n",
       "      <td>0 days 00:00:00.039370</td>\n",
       "      <td>0.193753</td>\n",
       "      <td>NaN</td>\n",
       "      <td>l1</td>\n",
       "      <td>COMPLETE</td>\n",
       "    </tr>\n",
       "    <tr>\n",
       "      <th>11</th>\n",
       "      <td>11</td>\n",
       "      <td>0.764706</td>\n",
       "      <td>2022-04-25 11:02:02.823591</td>\n",
       "      <td>2022-04-25 11:02:02.866632</td>\n",
       "      <td>0 days 00:00:00.043041</td>\n",
       "      <td>0.935515</td>\n",
       "      <td>NaN</td>\n",
       "      <td>l1</td>\n",
       "      <td>COMPLETE</td>\n",
       "    </tr>\n",
       "  </tbody>\n",
       "</table>\n",
       "</div>"
      ],
      "text/plain": [
       "    number     value             datetime_start          datetime_complete  \\\n",
       "16      16  0.866667 2022-04-25 11:02:03.042372 2022-04-25 11:02:03.078160   \n",
       "15      15  0.866667 2022-04-25 11:02:02.995554 2022-04-25 11:02:03.039449   \n",
       "14      14  0.812500 2022-04-25 11:02:02.961086 2022-04-25 11:02:02.991294   \n",
       "19      19  0.800000 2022-04-25 11:02:03.187038 2022-04-25 11:02:03.226408   \n",
       "11      11  0.764706 2022-04-25 11:02:02.823591 2022-04-25 11:02:02.866632   \n",
       "\n",
       "                 duration  params_C  params_l1_ratio params_penalty     state  \n",
       "16 0 days 00:00:00.035788  0.110516              NaN             l1  COMPLETE  \n",
       "15 0 days 00:00:00.043895  0.143267              NaN             l1  COMPLETE  \n",
       "14 0 days 00:00:00.030208  0.273251              NaN             l1  COMPLETE  \n",
       "19 0 days 00:00:00.039370  0.193753              NaN             l1  COMPLETE  \n",
       "11 0 days 00:00:00.043041  0.935515              NaN             l1  COMPLETE  "
      ]
     },
     "execution_count": 8,
     "metadata": {},
     "output_type": "execute_result"
    }
   ],
   "source": [
    "# see trails sorted by objective values\n",
    "study.trials_dataframe().sort_values('value',ascending=False).head()"
   ]
  },
  {
   "cell_type": "markdown",
   "id": "9b8a4331-7299-4d4c-b9f5-3e2f70bf1490",
   "metadata": {},
   "source": [
    "```{tip}\n",
    "Best way to search for optimial hyperparameters is to cross-validate.\n",
    "```"
   ]
  },
  {
   "cell_type": "markdown",
   "id": "2293d6d0-b51a-49a5-b074-9dfdc70e0484",
   "metadata": {
    "tags": []
   },
   "source": [
    "### Persistence "
   ]
  },
  {
   "cell_type": "markdown",
   "id": "60c578c3-7c57-4d93-adb2-db038698839f",
   "metadata": {},
   "source": [
    "Optuna works with in-memory storage (like in the example above). It is also possible to save and resume from RDB Backend. \n",
    "\n",
    "```python\n",
    "# creates a table in the db with the study_name as table name\n",
    "study = optuna.create_study(study_name=\"my_study\", storage=\"sqlite:///example.db\")\n",
    "```\n",
    "\n",
    "`storage` can point to any RDB system.\n",
    "\n",
    "```python \n",
    "study = optuna.create_study(study_name=\"my_study\", storage=\"mysql://root@localhost/example\")\n",
    "```"
   ]
  },
  {
   "cell_type": "markdown",
   "id": "f1249434-0278-429e-bc1c-d1f207774e97",
   "metadata": {},
   "source": [
    "### Parallelization"
   ]
  },
  {
   "cell_type": "markdown",
   "id": "e50dd805-a670-461d-9968-6f122a33df8d",
   "metadata": {},
   "source": [
    "It is easy to parallelize Optuna. You simply point to the same storage and run the script multiple time. Here is an [link](https://optuna.readthedocs.io/en/stable/tutorial/10_key_features/004_distributed.html#create-a-study) to optuna's documentation on this. The video on this page is a must watch, it's awesome.   \n",
    "\n",
    "Each trials is independent of each other, therefore the only requirements for each trials is the set of previous trials and it's resultant objective value. \n",
    "\n",
    "```{tip}\n",
    "You can load the study while you have the optimization script(s) running to see the results in real-time.\n",
    "```\n",
    "\n",
    "```python\n",
    "loaded_study = optuna.load_study(study_name=\"my_study\", storage=\"sqlite:///example.db\")\n",
    "```"
   ]
  },
  {
   "cell_type": "markdown",
   "id": "1506f00d-9b2b-492e-b66e-32a616d50331",
   "metadata": {},
   "source": [
    "### Search Model Types"
   ]
  },
  {
   "cell_type": "markdown",
   "id": "8ece81ed-07e9-4d5f-9987-da9baa952add",
   "metadata": {},
   "source": [
    "Search different model types in the same objective function.\n",
    "\n",
    "```python\n",
    "def objective(trial):\n",
    "    \n",
    "    model_type = trial.suggest_categorical('model_type', ['logistic-regression','svm'])\n",
    "\n",
    "    if model_type == 'svm':\n",
    "        kernel = trial.suggest_categorical('kernel', ['linear', 'poly', 'rbf', 'sigmoid'])\n",
    "        model = SVC(kernel=kernel, C=regularization, degree=degree)\n",
    "        \n",
    "    if model_type == 'logistic-regression':\n",
    "        penalty = trial.suggest_categorical('penalty', ['l2', 'l1'])\n",
    "        model = LogisticRegression(penalty=penalty, C=regularization, solver=solver)\n",
    "        \n",
    "    ...\n",
    "```"
   ]
  },
  {
   "cell_type": "markdown",
   "id": "85962be1-b7b0-4316-9d39-639c0d87ba07",
   "metadata": {},
   "source": [
    "### Visualization"
   ]
  },
  {
   "cell_type": "markdown",
   "id": "7c7aad41-c470-4c70-9cf3-9175ec6293ce",
   "metadata": {},
   "source": [
    "Optuna use plotly to visualize trails. [Here](https://optuna.readthedocs.io/en/stable/reference/visualization/index.html) is the list of visualization available out of the box."
   ]
  },
  {
   "cell_type": "markdown",
   "id": "a1dabf80-5bf7-404e-9fef-93423c860ab1",
   "metadata": {},
   "source": [
    "```{warning}\n",
    "plotly must be installed for the following code to work. Install with `pip install plotly`\n",
    "```"
   ]
  },
  {
   "cell_type": "markdown",
   "id": "f0049e8d-539a-4c04-b4a9-6e5f1dbac2bf",
   "metadata": {},
   "source": [
    "```python\n",
    "fig = optuna.visualization.plot_optimization_history(study)\n",
    "fig.show()\n",
    "```\n",
    "![](assets/optuna_optimization_history_plot.png)"
   ]
  },
  {
   "cell_type": "markdown",
   "id": "ab853fcb-c69f-4a7d-9357-0570b37e9fc2",
   "metadata": {},
   "source": [
    "### Samplers"
   ]
  },
  {
   "cell_type": "markdown",
   "id": "d5869f9f-bf03-4099-87cf-f538d8631441",
   "metadata": {},
   "source": [
    "Samplers are the method Optuna uses to choose the next hyperparameters to search. \n",
    "\n",
    "Among the samplers are : \n",
    "    - TPE : Bayesian optimization based on kernel fitting.\n",
    "    - GP : Bayesian optimization based on Gaussian processes.\n",
    "    - CMA-ES : meta-heuristic algorithm for continuous space.  \n",
    "    \n",
    "TPE is the default sampler (for single objective value)\n",
    "\n",
    "```{note}\n",
    "It is possible to optimize for multiple values and have directions for each. This may be useful if you are trying to reduce overfit but increase test's set performance.\n",
    "```"
   ]
  },
  {
   "cell_type": "markdown",
   "id": "8c082186-0da6-41d8-8df5-15f51dafe0b3",
   "metadata": {},
   "source": [
    "## Search Spaces"
   ]
  },
  {
   "cell_type": "markdown",
   "id": "7f9e7cc6-3ad1-4ca4-894e-661a855cd3b7",
   "metadata": {},
   "source": [
    "### XGBoost"
   ]
  },
  {
   "cell_type": "markdown",
   "id": "1e9efcc1-45b4-40c7-9a30-65883d8d3256",
   "metadata": {},
   "source": [
    "```python\n",
    "    # https://raw.githubusercontent.com/abhishekkrthakur/autoxgb/main/src/autoxgb/params.py\n",
    "    params = {\n",
    "        \"learning_rate\": trial.suggest_float(\"learning_rate\", 1e-2, 0.25, log=True),\n",
    "        \"reg_lambda\": trial.suggest_float(\"reg_lambda\", 1e-8, 100.0, log=True),\n",
    "        \"reg_alpha\": trial.suggest_float(\"reg_alpha\", 1e-8, 100.0, log=True),\n",
    "        \"subsample\": trial.suggest_float(\"subsample\", 0.1, 1.0),\n",
    "        \"colsample_bytree\": trial.suggest_float(\"colsample_bytree\", 0.1, 1.0),\n",
    "        \"max_depth\": trial.suggest_int(\"max_depth\", 1, 9), \n",
    "        \"early_stopping_rounds\": trial.suggest_int(\"early_stopping_rounds\", 100, 500),\n",
    "        \"n_estimators\": trial.suggest_categorical(\"n_estimators\", [7000, 15000, 20000]),\n",
    "    }\n",
    "    if use_gpu: # if training on GPU\n",
    "        params[\"tree_method\"] = \"gpu_hist\"\n",
    "        params[\"gpu_id\"] = 0\n",
    "        params[\"predictor\"] = \"gpu_predictor\"\n",
    "    else:\n",
    "        params[\"tree_method\"] = trial.suggest_categorical(\"tree_method\", [\"exact\", \"approx\", \"hist\"])\n",
    "        params[\"booster\"] = trial.suggest_categorical(\"booster\", [\"gbtree\", \"gblinear\"])\n",
    "        if params[\"booster\"] == \"gbtree\":\n",
    "            params[\"gamma\"] = trial.suggest_float(\"gamma\", 1e-8, 1.0, log=True)\n",
    "            params[\"grow_policy\"] = trial.suggest_categorical(\"grow_policy\", [\"depthwise\", \"lossguide\"])\n",
    "```"
   ]
  },
  {
   "cell_type": "markdown",
   "id": "5b2df36e-7a08-4e25-b338-2b3398a0618c",
   "metadata": {},
   "source": [
    "## Data-centric AI\n",
    "\n",
    "As we move to understanding more about data-centric AI, we are automating away the model-centric part which has fascinated us for a while now. Optuna is a step in this process. "
   ]
  }
 ],
 "metadata": {
  "kernelspec": {
   "display_name": "Python 3",
   "language": "python",
   "name": "python3"
  },
  "language_info": {
   "codemirror_mode": {
    "name": "ipython",
    "version": 3
   },
   "file_extension": ".py",
   "mimetype": "text/x-python",
   "name": "python",
   "nbconvert_exporter": "python",
   "pygments_lexer": "ipython3",
   "version": "3.8.13"
  }
 },
 "nbformat": 4,
 "nbformat_minor": 5
}
