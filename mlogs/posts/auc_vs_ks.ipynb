{
 "cells": [
  {
   "cell_type": "code",
   "execution_count": 6,
   "id": "560d6e16-fe22-4f4a-808e-5e9747ee22e6",
   "metadata": {},
   "outputs": [
    {
     "name": "stdout",
     "output_type": "stream",
     "text": [
      "Accuracy train: 0.7328358208955223\n",
      "Accuracy test: 0.7181818181818181\n",
      "F1 train: 0.7089430894308942\n",
      "F1 test: 0.7223880597014926\n",
      "AUC train: 0.7871932515337423\n",
      "AUC test: 0.7467986458639977\n",
      "KS train: 0.5134328358208955\n",
      "KS test: 0.5212121212121212\n"
     ]
    }
   ],
   "source": [
    "import numpy as np\n",
    "import pandas as pd\n",
    "import random\n",
    "from matplotlib import pyplot as plt\n",
    "from sklearn.datasets import make_classification\n",
    "from sklearn.linear_model import LogisticRegression\n",
    "from sklearn.metrics import accuracy_score, f1_score, roc_auc_score\n",
    "from sklearn.model_selection import train_test_split\n",
    "from scipy.stats import ks_2samp\n",
    "from ks_metric import ks_score\n",
    "\n",
    "\n",
    "X, y = make_classification(\n",
    "    n_samples=1000, class_sep=0.3, random_state=0\n",
    ")  # 1000 samples with 20 features\n",
    "\n",
    "# split train-test\n",
    "X_train, X_test, y_train, y_test = train_test_split(\n",
    "    X, y, test_size=0.33, random_state=42\n",
    ")\n",
    "\n",
    "# simple Logistic Model\n",
    "model = LogisticRegression(random_state=23)\n",
    "model.fit(X_train, y_train)\n",
    "\n",
    "# predictions\n",
    "y_train_pred = model.predict_proba(X_train)[:, 1]\n",
    "y_test_pred = model.predict_proba(X_test)[:, 1]\n",
    "\n",
    "print(\"Accuracy train:\", accuracy_score(y_train, y_train_pred > 0.5))\n",
    "print(\"Accuracy test:\", accuracy_score(y_test, y_test_pred > 0.5))\n",
    "print(\"F1 train:\", f1_score(y_train, y_train_pred > 0.5))\n",
    "print(\"F1 test:\", f1_score(y_test, y_test_pred > 0.5))\n",
    "print(\"AUC train:\", roc_auc_score(y_train, y_train_pred))\n",
    "print(\"AUC test:\", roc_auc_score(y_test, y_test_pred))\n",
    "print(\"KS train:\", ks_2samp(y_train, y_train_pred).statistic)\n",
    "print(\"KS test:\", ks_2samp(y_test, y_test_pred).statistic)"
   ]
  },
  {
   "cell_type": "code",
   "execution_count": 22,
   "id": "cc60543e",
   "metadata": {},
   "outputs": [],
   "source": [
    "auc_train = []\n",
    "auc_test = []\n",
    "ks_train = []\n",
    "ks_test = []\n",
    "for i in range(50):\n",
    "    X, y = make_classification(\n",
    "        n_samples=1000, class_sep=i*0.02, random_state=0\n",
    "    )  # 1000 samples with 20 features\n",
    "\n",
    "    # split train-test\n",
    "    X_train, X_test, y_train, y_test = train_test_split(\n",
    "        X, y, test_size=0.33, random_state=42\n",
    "    )\n",
    "\n",
    "    # simple Logistic Model\n",
    "    model = LogisticRegression(random_state=23)\n",
    "    model.fit(X_train, y_train)\n",
    "\n",
    "    # predictions\n",
    "    y_train_pred = model.predict_proba(X_train)[:, 1]\n",
    "    y_test_pred = model.predict_proba(X_test)[:, 1]\n",
    "\n",
    "    auc_train.append(roc_auc_score(y_train, y_train_pred))\n",
    "    auc_test.append(roc_auc_score(y_test, y_test_pred))\n",
    "    ks_train.append(ks_score(y_train, y_train_pred))\n",
    "    ks_test.append(ks_score(y_test, y_test_pred))"
   ]
  },
  {
   "cell_type": "code",
   "execution_count": 23,
   "id": "e9cc26ec",
   "metadata": {},
   "outputs": [
    {
     "data": {
      "text/plain": [
       "<matplotlib.collections.PathCollection at 0x7f863a89b820>"
      ]
     },
     "execution_count": 23,
     "metadata": {},
     "output_type": "execute_result"
    },
    {
     "data": {
      "image/png": "[encoded data removed]",
      "text/plain": [
       "<Figure size 432x288 with 1 Axes>"
      ]
     },
     "metadata": {
      "needs_background": "light"
     },
     "output_type": "display_data"
    }
   ],
   "source": [
    "from matplotlib import pyplot as plt\n",
    "# plt.scatter(auc_train, ks_train)\n",
    "plt.scatter(auc_test, ks_test)"
   ]
  },
  {
   "cell_type": "code",
   "execution_count": 24,
   "id": "c2c76424",
   "metadata": {},
   "outputs": [
    {
     "name": "stdout",
     "output_type": "stream",
     "text": [
      "0.5067338828377981 5.34\n",
      "0.5108919634972034 5.34\n",
      "0.523844568737121 4.859999999999999\n",
      "0.5408080659405358 10.93\n",
      "0.5595010303208714 12.389999999999999\n",
      "0.5778996173093907 17.24\n",
      "0.5950471003826906 18.459999999999997\n",
      "0.6139240506329113 23.31\n",
      "0.6302251987047395 28.17\n",
      "0.6481454224315573 29.39\n",
      "0.6666544009420077 31.81\n",
      "0.682293199882249 31.81\n",
      "0.699514277303503 36.67\n",
      "0.7157786282013541 40.31\n",
      "0.7323373564910214 43.96\n",
      "0.7467986458639977 45.17\n",
      "0.7606343832793642 48.82\n",
      "0.7745069178687077 51.239999999999995\n",
      "0.7874227259346483 51.239999999999995\n",
      "0.8002281424786577 52.459999999999994\n",
      "0.8121504268472183 54.64\n",
      "0.8244038857815721 56.10000000000001\n",
      "0.834891080365028 58.29\n",
      "0.8451942890785987 59.74\n",
      "0.8550191345304681 59.74\n",
      "0.8629673241095084 61.92999999999999\n",
      "0.871136296732411 63.13999999999999\n",
      "0.8790108919634971 65.57\n",
      "0.8868486900206064 66.79\n",
      "0.8952384456873712 69.22\n",
      "0.9017883426552841 71.64\n",
      "0.9077862820135414 72.86\n",
      "0.9142625846335002 75.29\n",
      "0.9196717692081249 77.72\n",
      "0.924676184869002 78.93\n",
      "0.9290550485722695 78.93\n",
      "0.9335075066234914 80.14\n",
      "0.9368192522814248 80.14\n",
      "0.9411981159846924 80.14\n",
      "0.9448410362084192 81.36\n",
      "0.9476376214306742 81.36\n",
      "0.9508389755666765 82.57\n",
      "0.9538195466588165 82.57\n",
      "0.9566529290550486 82.57\n",
      "0.9591551368854871 82.57\n",
      "0.9611789814542242 83.78999999999999\n",
      "0.9633500147188696 83.78999999999999\n",
      "0.9652266705916985 85.0\n",
      "0.9672505151604356 86.22\n",
      "0.9690167795113336 86.22\n"
     ]
    }
   ],
   "source": [
    "for x,y in zip(auc_test, ks_test):\n",
    "    print(x,y)"
   ]
  },
  {
   "cell_type": "code",
   "execution_count": null,
   "id": "fecf2129",
   "metadata": {},
   "outputs": [],
   "source": []
  }
 ],
 "metadata": {
  "kernelspec": {
   "display_name": "Python 3",
   "language": "python",
   "name": "python3"
  },
  "language_info": {
   "codemirror_mode": {
    "name": "ipython",
    "version": 3
   },
   "file_extension": ".py",
   "mimetype": "text/x-python",
   "name": "python",
   "nbconvert_exporter": "python",
   "pygments_lexer": "ipython3",
   "version": "3.8.13"
  }
 },
 "nbformat": 4,
 "nbformat_minor": 5
}
