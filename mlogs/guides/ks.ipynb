{
 "cells": [
  {
   "cell_type": "markdown",
   "id": "a065db92-4fe8-4a2e-b5f6-830b5c21aa78",
   "metadata": {},
   "source": [
    "# KS Metric"
   ]
  },
  {
   "cell_type": "markdown",
   "id": "ad3f61e8-7d92-4a78-ba27-9ce14165f470",
   "metadata": {},
   "source": [
    "Kolmogorov-Smirnov metric (ks metric) is derived from K-S test. K-S test measures the distance between two plotted cumulative distribution functions (CDF).   \n",
    "To use it as a metric for classification machine learning problem we see the distance of plotted CDF of target and non-target.  \n",
    "The model that produces the greatest amount of separability between target and non-target distribution would be considered the better model."
   ]
  },
  {
   "cell_type": "code",
   "execution_count": 69,
   "id": "88234fee-6810-422c-af27-dfe68cf93241",
   "metadata": {},
   "outputs": [],
   "source": [
    "import pandas as pd\n",
    "from matplotlib import pyplot as plt\n",
    "from sklearn.datasets import make_classification\n",
    "from sklearn.linear_model import LogisticRegression\n",
    "from sklearn.metrics import accuracy_score, f1_score, roc_auc_score\n",
    "from sklearn.model_selection import train_test_split"
   ]
  },
  {
   "cell_type": "code",
   "execution_count": 8,
   "id": "4c6bfb6e-b927-404e-82b6-ae40aefba9ba",
   "metadata": {},
   "outputs": [
    {
     "data": {
      "text/plain": [
       "(array([[-1.06377997,  0.67640868,  1.06935647, -0.21758002,  0.46021477,\n",
       "         -0.39916689, -0.07918751,  1.20938491, -0.78531472, -0.17218611,\n",
       "         -1.08535744, -0.49311895,  0.11523863,  0.06405769, -0.50655382,\n",
       "         -0.52749607, -0.0741832 , -0.35562842,  1.05721416, -0.40259159],\n",
       "        [ 0.0708476 , -1.69528125,  2.44944917, -0.5304942 , -0.93296221,\n",
       "          2.86520354,  2.43572851, -1.61850016,  1.30071691,  0.34840246,\n",
       "          0.54493439, -0.27467589, -0.0181811 , -0.19210097, -0.24468054,\n",
       "          0.9716812 , -1.79204799,  0.01708348, -0.37566904, -0.12323644]]),\n",
       " array([0, 1]))"
      ]
     },
     "execution_count": 8,
     "metadata": {},
     "output_type": "execute_result"
    }
   ],
   "source": [
    "# make sample dataset\n",
    "X, y = make_classification(n_samples=1000, class_sep=0.5, random_state=0) # 1000 samples with 20 features\n",
    "X[:2], y[:2]"
   ]
  },
  {
   "cell_type": "code",
   "execution_count": 20,
   "id": "757cd5dc-9cf3-4828-9b41-3ff78ae11b89",
   "metadata": {},
   "outputs": [
    {
     "data": {
      "text/html": [
       "<pre style=\"white-space:pre;overflow-x:auto;line-height:normal;font-family:Menlo,'DejaVu Sans Mono',consolas,'Courier New',monospace\">X_train.shape = <span style=\"font-weight: bold\">(</span><span style=\"color: #008080; text-decoration-color: #008080; font-weight: bold\">670</span>, <span style=\"color: #008080; text-decoration-color: #008080; font-weight: bold\">20</span><span style=\"font-weight: bold\">)</span>\n",
       "y_train.shape = <span style=\"font-weight: bold\">(</span><span style=\"color: #008080; text-decoration-color: #008080; font-weight: bold\">670</span>,<span style=\"font-weight: bold\">)</span>\n",
       "\n",
       "X_test.shape = <span style=\"font-weight: bold\">(</span><span style=\"color: #008080; text-decoration-color: #008080; font-weight: bold\">330</span>, <span style=\"color: #008080; text-decoration-color: #008080; font-weight: bold\">20</span><span style=\"font-weight: bold\">)</span>\n",
       "y_test.shape = <span style=\"font-weight: bold\">(</span><span style=\"color: #008080; text-decoration-color: #008080; font-weight: bold\">330</span>,<span style=\"font-weight: bold\">)</span>\n",
       " \n",
       "</pre>\n"
      ],
      "text/plain": [
       "X_train.shape = \u001b[1m(\u001b[0m\u001b[1;36m670\u001b[0m, \u001b[1;36m20\u001b[0m\u001b[1m)\u001b[0m\n",
       "y_train.shape = \u001b[1m(\u001b[0m\u001b[1;36m670\u001b[0m,\u001b[1m)\u001b[0m\n",
       "\n",
       "X_test.shape = \u001b[1m(\u001b[0m\u001b[1;36m330\u001b[0m, \u001b[1;36m20\u001b[0m\u001b[1m)\u001b[0m\n",
       "y_test.shape = \u001b[1m(\u001b[0m\u001b[1;36m330\u001b[0m,\u001b[1m)\u001b[0m\n",
       " \n"
      ]
     },
     "metadata": {},
     "output_type": "display_data"
    }
   ],
   "source": [
    "# split train-test\n",
    "X_train, X_test, y_train, y_test = train_test_split(\n",
    "    X, y, test_size=0.33, random_state=42\n",
    ")\n",
    "print(f\"{X_train.shape = }\\n{y_train.shape = }\\n\\n{X_test.shape = }\\n{y_test.shape = }\\n \")"
   ]
  },
  {
   "cell_type": "code",
   "execution_count": 10,
   "id": "ceb0150a-f985-46ec-888d-aaf0e738b920",
   "metadata": {},
   "outputs": [
    {
     "data": {
      "text/plain": [
       "LogisticRegression(random_state=23)"
      ]
     },
     "execution_count": 10,
     "metadata": {},
     "output_type": "execute_result"
    }
   ],
   "source": [
    "# simple Logistic Model\n",
    "model = LogisticRegression(random_state=23)\n",
    "model.fit(X_train, y_train)"
   ]
  },
  {
   "cell_type": "code",
   "execution_count": 31,
   "id": "c7c6788d-41e4-42fc-8f2d-d0eb1dc12540",
   "metadata": {},
   "outputs": [],
   "source": [
    "# predictions\n",
    "y_train_pred = model.predict_proba(X_train)[:,1]\n",
    "y_test_pred = model.predict_proba(X_test)[:,1]"
   ]
  },
  {
   "cell_type": "markdown",
   "id": "8faa9c31-facd-4f28-879f-0aaad8efef63",
   "metadata": {},
   "source": [
    "# KS Table"
   ]
  },
  {
   "cell_type": "markdown",
   "id": "cc5d67b8-ce1a-454a-af16-0df8b0d2831f",
   "metadata": {},
   "source": [
    "## Group into Deciles"
   ]
  },
  {
   "cell_type": "code",
   "execution_count": 50,
   "id": "ea1dd375-8534-4e65-bb26-08bfb8c827cc",
   "metadata": {},
   "outputs": [
    {
     "data": {
      "text/plain": [
       "[0, 1, 2, 3, 4, 5, 6, 7, 8, 9]"
      ]
     },
     "execution_count": 50,
     "metadata": {},
     "output_type": "execute_result"
    }
   ],
   "source": [
    "list(range(0,10,1))"
   ]
  },
  {
   "cell_type": "code",
   "execution_count": 64,
   "id": "e3ff40dc-2f8e-4a8d-b440-6b67a2f47c23",
   "metadata": {},
   "outputs": [
    {
     "data": {
      "text/html": [
       "<div>\n",
       "<style scoped>\n",
       "    .dataframe tbody tr th:only-of-type {\n",
       "        vertical-align: middle;\n",
       "    }\n",
       "\n",
       "    .dataframe tbody tr th {\n",
       "        vertical-align: top;\n",
       "    }\n",
       "\n",
       "    .dataframe thead th {\n",
       "        text-align: right;\n",
       "    }\n",
       "</style>\n",
       "<table border=\"1\" class=\"dataframe\">\n",
       "  <thead>\n",
       "    <tr style=\"text-align: right;\">\n",
       "      <th></th>\n",
       "      <th>score</th>\n",
       "      <th>class_0</th>\n",
       "      <th>class_1</th>\n",
       "      <th>bucket</th>\n",
       "    </tr>\n",
       "  </thead>\n",
       "  <tbody>\n",
       "    <tr>\n",
       "      <th>0</th>\n",
       "      <td>0.152806</td>\n",
       "      <td>1</td>\n",
       "      <td>0</td>\n",
       "      <td>1</td>\n",
       "    </tr>\n",
       "    <tr>\n",
       "      <th>1</th>\n",
       "      <td>0.027964</td>\n",
       "      <td>1</td>\n",
       "      <td>0</td>\n",
       "      <td>0</td>\n",
       "    </tr>\n",
       "    <tr>\n",
       "      <th>2</th>\n",
       "      <td>0.082966</td>\n",
       "      <td>0</td>\n",
       "      <td>1</td>\n",
       "      <td>0</td>\n",
       "    </tr>\n",
       "    <tr>\n",
       "      <th>3</th>\n",
       "      <td>0.195532</td>\n",
       "      <td>1</td>\n",
       "      <td>0</td>\n",
       "      <td>2</td>\n",
       "    </tr>\n",
       "    <tr>\n",
       "      <th>4</th>\n",
       "      <td>0.952148</td>\n",
       "      <td>0</td>\n",
       "      <td>1</td>\n",
       "      <td>8</td>\n",
       "    </tr>\n",
       "  </tbody>\n",
       "</table>\n",
       "</div>"
      ],
      "text/plain": [
       "      score  class_0  class_1 bucket\n",
       "0  0.152806        1        0      1\n",
       "1  0.027964        1        0      0\n",
       "2  0.082966        0        1      0\n",
       "3  0.195532        1        0      2\n",
       "4  0.952148        0        1      8"
      ]
     },
     "execution_count": 64,
     "metadata": {},
     "output_type": "execute_result"
    }
   ],
   "source": [
    "df = pd.DataFrame()\n",
    "df[\"score\"] = y_test_pred\n",
    "# one hot encoding the dependent variable\n",
    "df[\"class_0\"] = 1 - y_test\n",
    "df[\"class_1\"] = y_test\n",
    "\n",
    "# bucket/group prediction after ordering them\n",
    "df[\"bucket\"] = pd.qcut(df.score.rank(method=\"first\"), 10, labels=list(range(0,10,1)))\n",
    "\n",
    "df.head()"
   ]
  },
  {
   "cell_type": "markdown",
   "id": "f4e9b4da-0434-4680-947e-6b520971422b",
   "metadata": {},
   "source": [
    "### Goods-Bads Distribution"
   ]
  },
  {
   "cell_type": "code",
   "execution_count": 66,
   "id": "cf753454-ede4-4bb8-8f24-00b24a2869f3",
   "metadata": {},
   "outputs": [
    {
     "data": {
      "text/html": [
       "<div>\n",
       "<style scoped>\n",
       "    .dataframe tbody tr th:only-of-type {\n",
       "        vertical-align: middle;\n",
       "    }\n",
       "\n",
       "    .dataframe tbody tr th {\n",
       "        vertical-align: top;\n",
       "    }\n",
       "\n",
       "    .dataframe thead th {\n",
       "        text-align: right;\n",
       "    }\n",
       "</style>\n",
       "<table border=\"1\" class=\"dataframe\">\n",
       "  <thead>\n",
       "    <tr style=\"text-align: right;\">\n",
       "      <th></th>\n",
       "      <th>min_score</th>\n",
       "      <th>max_score</th>\n",
       "      <th>n_class_0</th>\n",
       "      <th>n_class_1</th>\n",
       "      <th>n_total</th>\n",
       "    </tr>\n",
       "  </thead>\n",
       "  <tbody>\n",
       "    <tr>\n",
       "      <th>0</th>\n",
       "      <td>0.003576</td>\n",
       "      <td>0.102894</td>\n",
       "      <td>29</td>\n",
       "      <td>4</td>\n",
       "      <td>33</td>\n",
       "    </tr>\n",
       "    <tr>\n",
       "      <th>1</th>\n",
       "      <td>0.109209</td>\n",
       "      <td>0.190817</td>\n",
       "      <td>28</td>\n",
       "      <td>5</td>\n",
       "      <td>33</td>\n",
       "    </tr>\n",
       "    <tr>\n",
       "      <th>2</th>\n",
       "      <td>0.191658</td>\n",
       "      <td>0.256742</td>\n",
       "      <td>27</td>\n",
       "      <td>6</td>\n",
       "      <td>33</td>\n",
       "    </tr>\n",
       "    <tr>\n",
       "      <th>3</th>\n",
       "      <td>0.257778</td>\n",
       "      <td>0.353945</td>\n",
       "      <td>28</td>\n",
       "      <td>5</td>\n",
       "      <td>33</td>\n",
       "    </tr>\n",
       "    <tr>\n",
       "      <th>4</th>\n",
       "      <td>0.356250</td>\n",
       "      <td>0.463956</td>\n",
       "      <td>18</td>\n",
       "      <td>15</td>\n",
       "      <td>33</td>\n",
       "    </tr>\n",
       "    <tr>\n",
       "      <th>5</th>\n",
       "      <td>0.466864</td>\n",
       "      <td>0.670035</td>\n",
       "      <td>14</td>\n",
       "      <td>19</td>\n",
       "      <td>33</td>\n",
       "    </tr>\n",
       "    <tr>\n",
       "      <th>6</th>\n",
       "      <td>0.682374</td>\n",
       "      <td>0.830071</td>\n",
       "      <td>3</td>\n",
       "      <td>30</td>\n",
       "      <td>33</td>\n",
       "    </tr>\n",
       "    <tr>\n",
       "      <th>7</th>\n",
       "      <td>0.831854</td>\n",
       "      <td>0.909685</td>\n",
       "      <td>5</td>\n",
       "      <td>28</td>\n",
       "      <td>33</td>\n",
       "    </tr>\n",
       "    <tr>\n",
       "      <th>8</th>\n",
       "      <td>0.912608</td>\n",
       "      <td>0.973338</td>\n",
       "      <td>2</td>\n",
       "      <td>31</td>\n",
       "      <td>33</td>\n",
       "    </tr>\n",
       "    <tr>\n",
       "      <th>9</th>\n",
       "      <td>0.975036</td>\n",
       "      <td>0.998577</td>\n",
       "      <td>4</td>\n",
       "      <td>29</td>\n",
       "      <td>33</td>\n",
       "    </tr>\n",
       "  </tbody>\n",
       "</table>\n",
       "</div>"
      ],
      "text/plain": [
       "   min_score  max_score  n_class_0  n_class_1  n_total\n",
       "0   0.003576   0.102894         29          4       33\n",
       "1   0.109209   0.190817         28          5       33\n",
       "2   0.191658   0.256742         27          6       33\n",
       "3   0.257778   0.353945         28          5       33\n",
       "4   0.356250   0.463956         18         15       33\n",
       "5   0.466864   0.670035         14         19       33\n",
       "6   0.682374   0.830071          3         30       33\n",
       "7   0.831854   0.909685          5         28       33\n",
       "8   0.912608   0.973338          2         31       33\n",
       "9   0.975036   0.998577          4         29       33"
      ]
     },
     "execution_count": 66,
     "metadata": {},
     "output_type": "execute_result"
    }
   ],
   "source": [
    "grouped = df.groupby(\"bucket\", as_index=False)\n",
    "\n",
    "ks_table = pd.DataFrame()\n",
    "ks_table[\"min_score\"] = grouped.min().score\n",
    "ks_table[\"max_score\"] = grouped.max().score\n",
    "ks_table[\"n_class_0\"] = grouped.sum().class_0\n",
    "ks_table[\"n_class_1\"] = grouped.sum().class_1\n",
    "ks_table[\"n_total\"] = ks_table.n_class_0 + ks_table.n_class_1\n",
    "\n",
    "ks_table"
   ]
  },
  {
   "cell_type": "code",
   "execution_count": 67,
   "id": "27dd00a0-3dde-45cb-bb8a-b0f7e9ddc95e",
   "metadata": {},
   "outputs": [
    {
     "data": {
      "text/plain": [
       "<AxesSubplot:>"
      ]
     },
     "execution_count": 67,
     "metadata": {},
     "output_type": "execute_result"
    },
    {
     "data": {
      "image/png": "[encoded data removed]",
      "text/plain": [
       "<Figure size 432x288 with 1 Axes>"
      ]
     },
     "metadata": {
      "needs_background": "light"
     },
     "output_type": "display_data"
    }
   ],
   "source": [
    "ks_table[['n_class_0', 'n_class_1',]].plot.bar(stacked=True)"
   ]
  },
  {
   "cell_type": "code",
   "execution_count": 73,
   "id": "d3c7b6ff-4a9a-4eb7-8721-28b26bba09f9",
   "metadata": {},
   "outputs": [
    {
     "data": {
      "text/html": [
       "<div>\n",
       "<style scoped>\n",
       "    .dataframe tbody tr th:only-of-type {\n",
       "        vertical-align: middle;\n",
       "    }\n",
       "\n",
       "    .dataframe tbody tr th {\n",
       "        vertical-align: top;\n",
       "    }\n",
       "\n",
       "    .dataframe thead th {\n",
       "        text-align: right;\n",
       "    }\n",
       "</style>\n",
       "<table border=\"1\" class=\"dataframe\">\n",
       "  <thead>\n",
       "    <tr style=\"text-align: right;\">\n",
       "      <th></th>\n",
       "      <th>min_score</th>\n",
       "      <th>max_score</th>\n",
       "      <th>n_class_0</th>\n",
       "      <th>n_class_1</th>\n",
       "      <th>n_total</th>\n",
       "      <th>cs_class_0</th>\n",
       "      <th>cs_class_1</th>\n",
       "      <th>cs_diff</th>\n",
       "    </tr>\n",
       "  </thead>\n",
       "  <tbody>\n",
       "    <tr>\n",
       "      <th>0</th>\n",
       "      <td>0.003576</td>\n",
       "      <td>0.102894</td>\n",
       "      <td>29</td>\n",
       "      <td>4</td>\n",
       "      <td>33</td>\n",
       "      <td>18.354430</td>\n",
       "      <td>2.325581</td>\n",
       "      <td>16.028849</td>\n",
       "    </tr>\n",
       "    <tr>\n",
       "      <th>1</th>\n",
       "      <td>0.109209</td>\n",
       "      <td>0.190817</td>\n",
       "      <td>28</td>\n",
       "      <td>5</td>\n",
       "      <td>33</td>\n",
       "      <td>36.075949</td>\n",
       "      <td>5.232558</td>\n",
       "      <td>30.843391</td>\n",
       "    </tr>\n",
       "    <tr>\n",
       "      <th>2</th>\n",
       "      <td>0.191658</td>\n",
       "      <td>0.256742</td>\n",
       "      <td>27</td>\n",
       "      <td>6</td>\n",
       "      <td>33</td>\n",
       "      <td>53.164557</td>\n",
       "      <td>8.720930</td>\n",
       "      <td>44.443627</td>\n",
       "    </tr>\n",
       "    <tr>\n",
       "      <th>3</th>\n",
       "      <td>0.257778</td>\n",
       "      <td>0.353945</td>\n",
       "      <td>28</td>\n",
       "      <td>5</td>\n",
       "      <td>33</td>\n",
       "      <td>70.886076</td>\n",
       "      <td>11.627907</td>\n",
       "      <td>59.258169</td>\n",
       "    </tr>\n",
       "    <tr>\n",
       "      <th>4</th>\n",
       "      <td>0.356250</td>\n",
       "      <td>0.463956</td>\n",
       "      <td>18</td>\n",
       "      <td>15</td>\n",
       "      <td>33</td>\n",
       "      <td>82.278481</td>\n",
       "      <td>20.348837</td>\n",
       "      <td>61.929644</td>\n",
       "    </tr>\n",
       "    <tr>\n",
       "      <th>5</th>\n",
       "      <td>0.466864</td>\n",
       "      <td>0.670035</td>\n",
       "      <td>14</td>\n",
       "      <td>19</td>\n",
       "      <td>33</td>\n",
       "      <td>91.139241</td>\n",
       "      <td>31.395349</td>\n",
       "      <td>59.743892</td>\n",
       "    </tr>\n",
       "    <tr>\n",
       "      <th>6</th>\n",
       "      <td>0.682374</td>\n",
       "      <td>0.830071</td>\n",
       "      <td>3</td>\n",
       "      <td>30</td>\n",
       "      <td>33</td>\n",
       "      <td>93.037975</td>\n",
       "      <td>48.837209</td>\n",
       "      <td>44.200765</td>\n",
       "    </tr>\n",
       "    <tr>\n",
       "      <th>7</th>\n",
       "      <td>0.831854</td>\n",
       "      <td>0.909685</td>\n",
       "      <td>5</td>\n",
       "      <td>28</td>\n",
       "      <td>33</td>\n",
       "      <td>96.202532</td>\n",
       "      <td>65.116279</td>\n",
       "      <td>31.086253</td>\n",
       "    </tr>\n",
       "    <tr>\n",
       "      <th>8</th>\n",
       "      <td>0.912608</td>\n",
       "      <td>0.973338</td>\n",
       "      <td>2</td>\n",
       "      <td>31</td>\n",
       "      <td>33</td>\n",
       "      <td>97.468354</td>\n",
       "      <td>83.139535</td>\n",
       "      <td>14.328820</td>\n",
       "    </tr>\n",
       "    <tr>\n",
       "      <th>9</th>\n",
       "      <td>0.975036</td>\n",
       "      <td>0.998577</td>\n",
       "      <td>4</td>\n",
       "      <td>29</td>\n",
       "      <td>33</td>\n",
       "      <td>100.000000</td>\n",
       "      <td>100.000000</td>\n",
       "      <td>0.000000</td>\n",
       "    </tr>\n",
       "  </tbody>\n",
       "</table>\n",
       "</div>"
      ],
      "text/plain": [
       "   min_score  max_score  n_class_0  n_class_1  n_total  cs_class_0  \\\n",
       "0   0.003576   0.102894         29          4       33   18.354430   \n",
       "1   0.109209   0.190817         28          5       33   36.075949   \n",
       "2   0.191658   0.256742         27          6       33   53.164557   \n",
       "3   0.257778   0.353945         28          5       33   70.886076   \n",
       "4   0.356250   0.463956         18         15       33   82.278481   \n",
       "5   0.466864   0.670035         14         19       33   91.139241   \n",
       "6   0.682374   0.830071          3         30       33   93.037975   \n",
       "7   0.831854   0.909685          5         28       33   96.202532   \n",
       "8   0.912608   0.973338          2         31       33   97.468354   \n",
       "9   0.975036   0.998577          4         29       33  100.000000   \n",
       "\n",
       "   cs_class_1    cs_diff  \n",
       "0    2.325581  16.028849  \n",
       "1    5.232558  30.843391  \n",
       "2    8.720930  44.443627  \n",
       "3   11.627907  59.258169  \n",
       "4   20.348837  61.929644  \n",
       "5   31.395349  59.743892  \n",
       "6   48.837209  44.200765  \n",
       "7   65.116279  31.086253  \n",
       "8   83.139535  14.328820  \n",
       "9  100.000000   0.000000  "
      ]
     },
     "execution_count": 73,
     "metadata": {},
     "output_type": "execute_result"
    }
   ],
   "source": [
    "count_class_0 = df.class_0.sum()\n",
    "count_class_1 = df.class_1.sum()\n",
    "\n",
    "ks_table[\"cs_class_0\"] = ((ks_table.n_class_0 / count_class_0).cumsum() * 100)\n",
    "ks_table[\"cs_class_1\"] = ((ks_table.n_class_1 / count_class_1).cumsum() * 100)\n",
    "\n",
    "ks_table[\"cs_diff\"] = ks_table[\"cs_class_0\"] - ks_table[\"cs_class_1\"]\n",
    "\n",
    "ks_table"
   ]
  },
  {
   "cell_type": "code",
   "execution_count": 97,
   "id": "43cf2ac2-7b77-4e28-8e75-ff7d2ceb27ba",
   "metadata": {},
   "outputs": [
    {
     "data": {
      "image/png": "[encoded data removed]",
      "text/plain": [
       "<Figure size 432x288 with 1 Axes>"
      ]
     },
     "metadata": {
      "needs_background": "light"
     },
     "output_type": "display_data"
    }
   ],
   "source": [
    "fig, ax = plt.subplots(1,1)\n",
    "ax.plot(ks_table[\"cs_class_0\"])\n",
    "ax.plot(ks_table[\"cs_class_1\"])\n",
    "ax.axvline(4, 0.3, 0.6)\n",
    "ax.set_xlim([0.0, 9])\n",
    "ax.set_ylim([0.0, 100])\n",
    "plt.show()"
   ]
  },
  {
   "cell_type": "code",
   "execution_count": null,
   "id": "2c48eeb3-d516-4cd2-a4c8-67af528636b4",
   "metadata": {},
   "outputs": [],
   "source": []
  }
 ],
 "metadata": {
  "kernelspec": {
   "display_name": "Python [conda env:logs_env]",
   "language": "python",
   "name": "conda-env-logs_env-py"
  },
  "language_info": {
   "codemirror_mode": {
    "name": "ipython",
    "version": 3
   },
   "file_extension": ".py",
   "mimetype": "text/x-python",
   "name": "python",
   "nbconvert_exporter": "python",
   "pygments_lexer": "ipython3",
   "version": "3.8.13"
  }
 },
 "nbformat": 4,
 "nbformat_minor": 5
}
