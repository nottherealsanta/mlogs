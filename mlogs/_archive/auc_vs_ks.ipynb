{
 "cells": [
  {
   "cell_type": "code",
   "execution_count": 2,
   "id": "560d6e16-fe22-4f4a-808e-5e9747ee22e6",
   "metadata": {},
   "outputs": [
    {
     "name": "stdout",
     "output_type": "stream",
     "text": [
      "Accuracy train: 0.7328358208955223\n",
      "Accuracy test: 0.7181818181818181\n",
      "F1 train: 0.7089430894308942\n",
      "F1 test: 0.7223880597014926\n",
      "AUC train: 0.7871932515337423\n",
      "AUC test: 0.7467986458639977\n",
      "KS train: 0.5134328358208955\n",
      "KS test: 0.5212121212121212\n"
     ]
    }
   ],
   "source": [
    "import numpy as np\n",
    "import pandas as pd\n",
    "import random\n",
    "from matplotlib import pyplot as plt\n",
    "from sklearn.datasets import make_classification\n",
    "from sklearn.linear_model import LogisticRegression\n",
    "from sklearn.metrics import accuracy_score, f1_score, roc_auc_score\n",
    "from sklearn.model_selection import train_test_split\n",
    "from scipy.stats import ks_2samp\n",
    "from ks_metric import ks_score\n",
    "\n",
    "\n",
    "X, y = make_classification(\n",
    "    n_samples=1000, class_sep=0.3, random_state=0\n",
    ")  # 1000 samples with 20 features\n",
    "\n",
    "# split train-test\n",
    "X_train, X_test, y_train, y_test = train_test_split(\n",
    "    X, y, test_size=0.33, random_state=42\n",
    ")\n",
    "\n",
    "# simple Logistic Model\n",
    "model = LogisticRegression(random_state=23)\n",
    "model.fit(X_train, y_train)\n",
    "\n",
    "# predictions\n",
    "y_train_pred = model.predict_proba(X_train)[:, 1]\n",
    "y_test_pred = model.predict_proba(X_test)[:, 1]\n",
    "\n",
    "print(\"Accuracy train:\", accuracy_score(y_train, y_train_pred > 0.5))\n",
    "print(\"Accuracy test:\", accuracy_score(y_test, y_test_pred > 0.5))\n",
    "print(\"F1 train:\", f1_score(y_train, y_train_pred > 0.5))\n",
    "print(\"F1 test:\", f1_score(y_test, y_test_pred > 0.5))\n",
    "print(\"AUC train:\", roc_auc_score(y_train, y_train_pred))\n",
    "print(\"AUC test:\", roc_auc_score(y_test, y_test_pred))\n",
    "print(\"KS train:\", ks_2samp(y_train, y_train_pred).statistic)\n",
    "print(\"KS test:\", ks_2samp(y_test, y_test_pred).statistic)"
   ]
  },
  {
   "cell_type": "code",
   "execution_count": 7,
   "id": "cc60543e",
   "metadata": {},
   "outputs": [],
   "source": [
    "auc_train = []\n",
    "auc_test = []\n",
    "ks_train = []\n",
    "ks_test = []\n",
    "for i in range(50):\n",
    "    X, y = make_classification(\n",
    "        n_samples=100, class_sep=i*0.02, random_state=0\n",
    "    )  # 1000 samples with 20 features\n",
    "\n",
    "    # split train-test\n",
    "    X_train, X_test, y_train, y_test = train_test_split(\n",
    "        X, y, test_size=0.33, random_state=42\n",
    "    )\n",
    "\n",
    "    # simple Logistic Model\n",
    "    model = LogisticRegression(random_state=23)\n",
    "    model.fit(X_train, y_train)\n",
    "\n",
    "    # predictions\n",
    "    y_train_pred = model.predict_proba(X_train)[:, 1]\n",
    "    y_test_pred = model.predict_proba(X_test)[:, 1]\n",
    "\n",
    "    auc_train.append(roc_auc_score(y_train, y_train_pred, average=None))\n",
    "    auc_test.append(roc_auc_score(y_test, y_test_pred, average=None))\n",
    "    ks_train.append(ks_score(y_train, y_train_pred))\n",
    "    ks_test.append(ks_score(y_test, y_test_pred))"
   ]
  },
  {
   "cell_type": "code",
   "execution_count": 4,
   "id": "e9cc26ec",
   "metadata": {},
   "outputs": [
    {
     "data": {
      "text/plain": [
       "<matplotlib.collections.PathCollection at 0x7fb6afb7e820>"
      ]
     },
     "execution_count": 4,
     "metadata": {},
     "output_type": "execute_result"
    },
    {
     "data": {
      "image/png": "[encoded data removed]",
      "text/plain": [
       "<Figure size 432x288 with 1 Axes>"
      ]
     },
     "metadata": {
      "needs_background": "light"
     },
     "output_type": "display_data"
    }
   ],
   "source": [
    "from matplotlib import pyplot as plt\n",
    "# plt.scatter(auc_train, ks_train)\n",
    "plt.scatter(auc_test, ks_test)"
   ]
  },
  {
   "cell_type": "code",
   "execution_count": 5,
   "id": "c2c76424",
   "metadata": {
    "collapsed": true,
    "jupyter": {
     "outputs_hidden": true
    },
    "tags": []
   },
   "outputs": [
    {
     "name": "stdout",
     "output_type": "stream",
     "text": [
      "0.49 3.34\n",
      "0.49 3.21\n",
      "0.5 3.15\n",
      "0.51 6.81\n",
      "0.52 9.9\n",
      "0.54 13.33\n",
      "0.55 15.94\n",
      "0.56 17.89\n",
      "0.57 19.83\n",
      "0.59 21.37\n",
      "0.6 23.01\n",
      "0.61 24.77\n",
      "0.62 26.74\n",
      "0.63 27.83\n",
      "0.64 28.9\n",
      "0.65 29.79\n",
      "0.66 30.57\n",
      "0.67 31.6\n",
      "0.68 32.57\n",
      "0.69 33.65\n",
      "0.7 34.96\n",
      "0.71 36.29\n",
      "0.72 37.43\n",
      "0.73 38.38\n",
      "0.74 39.79\n",
      "0.74 40.93\n",
      "0.75 42.04\n",
      "0.76 43.39\n",
      "0.77 44.45\n",
      "0.78 45.45\n",
      "0.78 46.8\n",
      "0.79 47.89\n",
      "0.8 48.94\n",
      "0.81 50.11\n",
      "0.81 51.23\n",
      "0.82 52.36\n",
      "0.83 53.53\n",
      "0.83 54.35\n",
      "0.84 55.3\n",
      "0.84 56.09\n",
      "0.85 57.15\n",
      "0.85 58.2\n",
      "0.86 59.21\n",
      "0.87 60.2\n",
      "0.87 61.26\n",
      "0.88 61.95\n",
      "0.88 63.14\n",
      "0.88 63.68\n",
      "0.89 64.44\n",
      "0.89 65.27\n"
     ]
    }
   ],
   "source": [
    "for x,y in zip(auc_test, ks_test):\n",
    "    print(x.round(2),y.round(2))"
   ]
  },
  {
   "cell_type": "code",
   "execution_count": 10,
   "id": "fecf2129",
   "metadata": {},
   "outputs": [
    {
     "data": {
      "text/plain": [
       "0.9984698814975749"
      ]
     },
     "execution_count": 10,
     "metadata": {},
     "output_type": "execute_result"
    }
   ],
   "source": [
    "pd.Series(auc_test).corr(pd.Series(ks_test))"
   ]
  },
  {
   "cell_type": "code",
   "execution_count": 6,
   "id": "20c0be55",
   "metadata": {},
   "outputs": [
    {
     "data": {
      "text/plain": [
       "0.9971162872413577"
      ]
     },
     "execution_count": 6,
     "metadata": {},
     "output_type": "execute_result"
    }
   ],
   "source": [
    "pd.Series(auc_test).corr(pd.Series(ks_test))"
   ]
  },
  {
   "cell_type": "code",
   "execution_count": 8,
   "id": "5b0b362b-03d2-4f2d-b34f-fbba74732b5d",
   "metadata": {},
   "outputs": [
    {
     "data": {
      "text/plain": [
       "0.9728101950178002"
      ]
     },
     "execution_count": 8,
     "metadata": {},
     "output_type": "execute_result"
    }
   ],
   "source": [
    "pd.Series(auc_test).corr(pd.Series(ks_test))"
   ]
  },
  {
   "cell_type": "code",
   "execution_count": null,
   "id": "1c760cbb-9476-4743-b1cd-222a07757aaf",
   "metadata": {},
   "outputs": [],
   "source": []
  }
 ],
 "metadata": {
  "interpreter": {
   "hash": "5d3a186515595ffa210d29fcaa8f96bd51132ffbb82ab27895e4d7bd4da0dc1a"
  },
  "kernelspec": {
   "display_name": "Python 3",
   "language": "python",
   "name": "python3"
  },
  "language_info": {
   "codemirror_mode": {
    "name": "ipython",
    "version": 3
   },
   "file_extension": ".py",
   "mimetype": "text/x-python",
   "name": "python",
   "nbconvert_exporter": "python",
   "pygments_lexer": "ipython3",
   "version": "3.8.13"
  }
 },
 "nbformat": 4,
 "nbformat_minor": 5
}
